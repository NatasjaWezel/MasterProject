{
 "cells": [
  {
   "cell_type": "code",
   "execution_count": null,
   "metadata": {},
   "outputs": [],
   "source": [
    "###\n",
    "import os\n",
    "\n",
    "import numpy as np\n",
    "\n",
    "\n",
    "\n",
    "central_groups = [\"ArCI\", \"H2O\"]    # \"ArCI\", \"H2O\", \"NO3\", \"RC6F6\", \"RC6H5\", \"RCOMe\", \"RNO2\"\n",
    "contact_groups = [\"ArCH\", \"C2CH2\", \"CF\", \"R2CO\", \"RC6H5\", \"RCN\", \"XH\"]\n",
    "to_count = [\"H\", \"H\", \"F\", \"O\", \"centroid\", \"N\", \"H\"]\n",
    "resolutions = np.arange(0.1, 1.1, 0.1)"
   ]
  },
  {
   "cell_type": "code",
   "execution_count": 1,
   "metadata": {},
   "outputs": [
    {
     "ename": "NameError",
     "evalue": "name 'central_groups' is not defined",
     "output_type": "error",
     "traceback": [
      "\u001b[1;31m---------------------------------------------------------------------------\u001b[0m",
      "\u001b[1;31mNameError\u001b[0m                                 Traceback (most recent call last)",
      "\u001b[1;32m<ipython-input-1-6a8411e74884>\u001b[0m in \u001b[0;36m<module>\u001b[1;34m\u001b[0m\n\u001b[1;32m----> 1\u001b[1;33m \u001b[1;32mfor\u001b[0m \u001b[0mcentral_group\u001b[0m \u001b[1;32min\u001b[0m \u001b[0mcentral_groups\u001b[0m\u001b[1;33m:\u001b[0m\u001b[1;33m\u001b[0m\u001b[1;33m\u001b[0m\u001b[0m\n\u001b[0m\u001b[0;32m      2\u001b[0m     \u001b[1;32mfor\u001b[0m \u001b[0mto_count_contact\u001b[0m\u001b[1;33m,\u001b[0m \u001b[0mcontact_group\u001b[0m \u001b[1;32min\u001b[0m \u001b[0mzip\u001b[0m\u001b[1;33m(\u001b[0m\u001b[0mto_count\u001b[0m\u001b[1;33m,\u001b[0m \u001b[0mcontact_groups\u001b[0m\u001b[1;33m)\u001b[0m\u001b[1;33m:\u001b[0m\u001b[1;33m\u001b[0m\u001b[1;33m\u001b[0m\u001b[0m\n\u001b[0;32m      3\u001b[0m         \u001b[0mdatafile\u001b[0m \u001b[1;33m=\u001b[0m \u001b[1;34m\".\\\\data\\\\\"\u001b[0m \u001b[1;33m+\u001b[0m \u001b[0mcentral_group\u001b[0m \u001b[1;33m+\u001b[0m \u001b[1;34m\"\\\\\"\u001b[0m \u001b[1;33m+\u001b[0m \u001b[0mcentral_group\u001b[0m \u001b[1;33m+\u001b[0m \u001b[1;34m\"_\"\u001b[0m \u001b[1;33m+\u001b[0m \u001b[0mcontact_group\u001b[0m \u001b[1;33m+\u001b[0m \u001b[1;34m\"_vdw.5.cor\"\u001b[0m\u001b[1;33m\u001b[0m\u001b[1;33m\u001b[0m\u001b[0m\n\u001b[0;32m      4\u001b[0m         \u001b[0mresult1\u001b[0m \u001b[1;33m=\u001b[0m \u001b[1;34m\".\\\\results\\\\\"\u001b[0m \u001b[1;33m+\u001b[0m \u001b[0mcentral_group\u001b[0m \u001b[1;33m+\u001b[0m \u001b[1;34m\"\\\\\"\u001b[0m \u001b[1;33m+\u001b[0m \u001b[0mcentral_group\u001b[0m \u001b[1;33m+\u001b[0m \u001b[1;34m\"_\"\u001b[0m \u001b[1;33m+\u001b[0m \u001b[0mcontact_group\u001b[0m \u001b[1;33m+\u001b[0m \u001b[1;34m\"_vdw.5\\\\\"\u001b[0m\u001b[0;31m\\\u001b[0m\u001b[1;33m\u001b[0m\u001b[1;33m\u001b[0m\u001b[0m\n\u001b[0;32m      5\u001b[0m                   \u001b[1;33m+\u001b[0m \u001b[0mcentral_group\u001b[0m \u001b[1;33m+\u001b[0m \u001b[1;34m\"_\"\u001b[0m \u001b[1;33m+\u001b[0m \u001b[0mcontact_group\u001b[0m \u001b[1;33m+\u001b[0m \u001b[1;34m\"_vdw.5_aligned.csv\"\u001b[0m\u001b[1;33m\u001b[0m\u001b[1;33m\u001b[0m\u001b[0m\n",
      "\u001b[1;31mNameError\u001b[0m: name 'central_groups' is not defined"
     ]
    }
   ],
   "source": [
    "for central_group in central_groups:\n",
    "    for to_count_contact, contact_group in zip(to_count, contact_groups):\n",
    "        datafile = \".\\\\data\\\\\" + central_group + \"\\\\\" + central_group + \"_\" + contact_group + \"_vdw.5.cor\"\n",
    "        result1 = \".\\\\results\\\\\" + central_group + \"\\\\\" + central_group + \"_\" + contact_group + \"_vdw.5\\\\\"\\\n",
    "                  + central_group + \"_\" + contact_group + \"_vdw.5_aligned.csv\"\n",
    "        \n",
    "        \n",
    "        os.system(\"python 1_load_from_coords.py \" + datafile)"
   ]
  },
  {
   "cell_type": "code",
   "execution_count": null,
   "metadata": {},
   "outputs": [],
   "source": [
    "for central_group in central_groups:\n",
    "    for to_count_contact, contact_group in zip(to_count, contact_groups):\n",
    "        datafile = \".\\\\data\\\\\" + central_group + \"\\\\\" + central_group + \"_\" + contact_group + \"_vdw.5.cor\"\n",
    "        result1 = \".\\\\results\\\\\" + central_group + \"\\\\\" + central_group + \"_\" + contact_group + \"_vdw.5\\\\\"\\\n",
    "                  + central_group + \"_\" + contact_group + \"_vdw.5_aligned.csv\"\n",
    "\n",
    "        for resolution in resolutions:\n",
    "            print(\"\\nCalculating density for central group: \", central_group, \" contact group: \", contact_group,\n",
    "                  \"resolution: \", str(round(resolution, 2)))\n",
    "\n",
    "            os.system(\"python 4_calc_density.py \" + result1 + \" \" + str(round(resolution, 2)) +\n",
    "                      \" \" + to_count_contact)"
   ]
  }
 ],
 "metadata": {
  "kernelspec": {
   "display_name": "Python 3",
   "language": "python",
   "name": "python3"
  },
  "language_info": {
   "codemirror_mode": {
    "name": "ipython",
    "version": 3
   },
   "file_extension": ".py",
   "mimetype": "text/x-python",
   "name": "python",
   "nbconvert_exporter": "python",
   "pygments_lexer": "ipython3",
   "version": "3.7.8"
  }
 },
 "nbformat": 4,
 "nbformat_minor": 4
}
