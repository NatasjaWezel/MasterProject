{
 "cells": [
  {
   "cell_type": "code",
   "execution_count": 5,
   "metadata": {},
   "outputs": [
    {
     "name": "stdout",
     "output_type": "stream",
     "text": [
      "The autoreload extension is already loaded. To reload it, use:\n",
      "  %reload_ext autoreload\n"
     ]
    }
   ],
   "source": [
    "%matplotlib notebook\n",
    "\n",
    "# allows for automatic reloading of imports and makes it unncessecary to restart the kernel\n",
    "# whenever a function is changed\n",
    "%load_ext autoreload\n",
    "%autoreload 2\n",
    "\n",
    "import os\n",
    "import time\n",
    "import numpy as np\n",
    "import csv\n",
    "import pandas as pd\n",
    "\n",
    "from tqdm import tqdm\n",
    "\n",
    "import matplotlib\n",
    "import matplotlib.pyplot as plt\n",
    "from mpl_toolkits.mplot3d import Axes3D\n",
    "\n",
    "from classes.Settings import Settings\n",
    "\n",
    "from helpers.alignment_helpers import (alignment_dict, calc_rmse, kabsch_align, perform_rotations,\n",
    "                                       perform_translation, read_coord_file, read_raw_data)\n",
    "from align_kabsch import prepare_data, do_kabsch_align\n",
    "\n",
    "from helpers.geometry_helpers import make_coordinate_df, average_fragment, add_model_methyl\n",
    "from helpers.density_helpers import prepare_df\n",
    "\n",
    "central_groups = [\"RCOMe\", \"RNO2\", \"ArCI\", \"NO3\", \"RC6F5\", \"H2O\", \"RC6H5\"]\n",
    "contact_groups = [\"CF\", \"RCN\", \"R2CO\", \"XH\", \"CCH3\", \"C2CH2\", \"RC6H5\", \"ArCH\"]  #\n",
    "to_count =       [\"F\",   \"N\",    \"O\",   \"H\",   \"H\",     \"H\", \"centroid\", \"H\"] #, \n",
    "\n",
    "\n",
    "central_groups = [\"RCOMe\"]"
   ]
  },
  {
   "cell_type": "markdown",
   "metadata": {},
   "source": [
    "# Count the structures"
   ]
  },
  {
   "cell_type": "code",
   "execution_count": 6,
   "metadata": {
    "scrolled": true
   },
   "outputs": [],
   "source": [
    "count = False\n",
    "counts = []\n",
    "\n",
    "if count:\n",
    "    with open('results/amounts_structures.csv', 'a', newline='') as resultsfile:\n",
    "        writer = csv.writer(resultsfile)\n",
    "        writer.writerow(['central', 'contact', 'amount_cif', 'amount_structures'])\n",
    "        \n",
    "        for central_group in central_groups:\n",
    "\n",
    "            for to_count_contact, contact_group in zip(to_count, contact_groups):\n",
    "                datafile = \".\\\\data\\\\\" + central_group + \"\\\\\" + central_group + \"_\" + contact_group + \"_vdw.5.cor\"\n",
    "\n",
    "                ids = []\n",
    "\n",
    "                with open(datafile, 'r') as resultsFile:\n",
    "                    line = \"hoi\"\n",
    "                    while line:\n",
    "                        line = resultsFile.readline()\n",
    "                        if \"**\" in line:\n",
    "                            ids.append(line.split(\"**\")[0])\n",
    "\n",
    "                    print(central_group, contact_group, len(ids), len(set(ids)))\n",
    "                    counts.append(len(ids))\n",
    "\n",
    "                    writer.writerow([central_group, contact_group, len(ids), len(set(ids))])"
   ]
  },
  {
   "cell_type": "markdown",
   "metadata": {},
   "source": [
    "# Data Gathering"
   ]
  },
  {
   "cell_type": "code",
   "execution_count": 9,
   "metadata": {
    "scrolled": true
   },
   "outputs": [
    {
     "name": "stdout",
     "output_type": "stream",
     "text": [
      "RCOMe CF F\n",
      "Pandas is reading csv...\n"
     ]
    },
    {
     "name": "stderr",
     "output_type": "stream",
     "text": [
      "\r",
      "  0%|                                                                                         | 0/7354 [00:00<?, ?it/s]"
     ]
    },
    {
     "name": "stdout",
     "output_type": "stream",
     "text": [
      "Done\n",
      "Applying Kabsch Algorithm...\n"
     ]
    },
    {
     "name": "stderr",
     "output_type": "stream",
     "text": [
      "100%|█████████████████████████████████████████████████████████████████████████████| 7354/7354 [00:33<00:00, 217.09it/s]\n"
     ]
    },
    {
     "name": "stdout",
     "output_type": "stream",
     "text": [
      "Adding model CH3 group... Done\n",
      "Searching for nearest atom from central group...\n",
      "Atoms in contact group: 2 atom to count:  F\n",
      "Coordinate df length: 7355\n",
      "Coordinate df is made, duration: 4.483382225036621 s\n",
      "RCOMe CF F 40.46534037590027 0.5308012962341309 4.551450490951538\n",
      "RCOMe RCN N\n",
      "Pandas is reading csv...\n"
     ]
    },
    {
     "name": "stderr",
     "output_type": "stream",
     "text": [
      "  1%|█                                                                              | 25/1873 [00:00<00:07, 247.18it/s]"
     ]
    },
    {
     "name": "stdout",
     "output_type": "stream",
     "text": [
      "Done\n",
      "Applying Kabsch Algorithm...\n"
     ]
    },
    {
     "name": "stderr",
     "output_type": "stream",
     "text": [
      "100%|█████████████████████████████████████████████████████████████████████████████| 1873/1873 [00:08<00:00, 225.06it/s]\n"
     ]
    },
    {
     "name": "stdout",
     "output_type": "stream",
     "text": [
      "Adding model CH3 group... Done\n",
      "Searching for nearest atom from central group...\n",
      "Atoms in contact group: 2 atom to count:  N\n",
      "Coordinate df length: 1874\n",
      "Coordinate df is made, duration: 0.11573076248168945 s\n",
      "RCOMe RCN N 10.278057336807251 0.22608518600463867 0.12371277809143066\n",
      "RCOMe R2CO O\n",
      "Pandas is reading csv...\n",
      "Done\n"
     ]
    },
    {
     "name": "stderr",
     "output_type": "stream",
     "text": [
      "  0%|                                                                              | 28/63129 [00:00<03:54, 268.90it/s]"
     ]
    },
    {
     "name": "stdout",
     "output_type": "stream",
     "text": [
      "Applying Kabsch Algorithm...\n"
     ]
    },
    {
     "name": "stderr",
     "output_type": "stream",
     "text": [
      "100%|███████████████████████████████████████████████████████████████████████████| 63129/63129 [05:10<00:00, 203.29it/s]\n"
     ]
    },
    {
     "name": "stdout",
     "output_type": "stream",
     "text": [
      "Adding model CH3 group... Done\n",
      "Searching for nearest atom from central group...\n",
      "Atoms in contact group: 2 atom to count:  O\n",
      "Coordinate df length: 63130\n",
      "Coordinate df is made, duration: 3.587888717651367 s\n",
      "RCOMe R2CO O 363.9013981819153 1.9477989673614502 3.6982920169830322\n",
      "RCOMe XH H\n",
      "Pandas is reading csv...\n",
      "Done\n"
     ]
    },
    {
     "name": "stderr",
     "output_type": "stream",
     "text": [
      "  0%|                                                                              | 27/41429 [00:00<02:37, 262.75it/s]"
     ]
    },
    {
     "name": "stdout",
     "output_type": "stream",
     "text": [
      "Applying Kabsch Algorithm...\n"
     ]
    },
    {
     "name": "stderr",
     "output_type": "stream",
     "text": [
      "100%|███████████████████████████████████████████████████████████████████████████| 41429/41429 [03:07<00:00, 220.86it/s]\n"
     ]
    },
    {
     "name": "stdout",
     "output_type": "stream",
     "text": [
      "Adding model CH3 group... Done\n",
      "Searching for nearest atom from central group...\n",
      "Atoms in contact group: 2 atom to count:  H\n",
      "Coordinate df length: 41430\n",
      "Coordinate df is made, duration: 2.2023210525512695 s\n",
      "RCOMe XH H 220.5341396331787 1.150475025177002 2.2496469020843506\n",
      "RCOMe CCH3 H\n",
      "Pandas is reading csv...\n",
      "Done\n"
     ]
    },
    {
     "name": "stderr",
     "output_type": "stream",
     "text": [
      "  0%|                                                                              | 19/36735 [00:00<03:21, 182.18it/s]"
     ]
    },
    {
     "name": "stdout",
     "output_type": "stream",
     "text": [
      "Applying Kabsch Algorithm...\n"
     ]
    },
    {
     "name": "stderr",
     "output_type": "stream",
     "text": [
      "100%|███████████████████████████████████████████████████████████████████████████| 36735/36735 [02:49<00:00, 216.68it/s]\n"
     ]
    },
    {
     "name": "stdout",
     "output_type": "stream",
     "text": [
      "Adding model CH3 group... Done\n",
      "Searching for nearest atom from central group...\n",
      "Atoms in contact group: 5 atom to count:  H\n",
      "Coordinate df length: 110208\n",
      "Coordinate df is made, duration: 21.120024919509888 s\n",
      "RCOMe CCH3 H 207.12408137321472 1.7157833576202393 21.209062337875366\n",
      "RCOMe C2CH2 H\n",
      "Pandas is reading csv...\n",
      "Done\n"
     ]
    },
    {
     "name": "stderr",
     "output_type": "stream",
     "text": [
      "  0%|                                                                              | 19/21098 [00:00<01:53, 186.12it/s]"
     ]
    },
    {
     "name": "stdout",
     "output_type": "stream",
     "text": [
      "Applying Kabsch Algorithm...\n"
     ]
    },
    {
     "name": "stderr",
     "output_type": "stream",
     "text": [
      "100%|███████████████████████████████████████████████████████████████████████████| 21098/21098 [01:51<00:00, 189.32it/s]\n"
     ]
    },
    {
     "name": "stdout",
     "output_type": "stream",
     "text": [
      "Adding model CH3 group... Done\n",
      "Searching for nearest atom from central group...\n",
      "Atoms in contact group: 5 atom to count:  H\n",
      "Coordinate df length: 42198\n",
      "Coordinate df is made, duration: 8.546244382858276 s\n",
      "RCOMe C2CH2 H 138.15983200073242 1.0722732543945312 8.617626905441284\n",
      "RCOMe RC6H5 centroid\n",
      "Pandas is reading csv...\n",
      "Done\n"
     ]
    },
    {
     "name": "stderr",
     "output_type": "stream",
     "text": [
      "  0%|                                                                              | 24/34069 [00:00<02:27, 231.07it/s]"
     ]
    },
    {
     "name": "stdout",
     "output_type": "stream",
     "text": [
      "Applying Kabsch Algorithm...\n"
     ]
    },
    {
     "name": "stderr",
     "output_type": "stream",
     "text": [
      "100%|███████████████████████████████████████████████████████████████████████████| 34069/34069 [03:14<00:00, 175.05it/s]\n"
     ]
    },
    {
     "name": "stdout",
     "output_type": "stream",
     "text": [
      "Adding model CH3 group... Done\n",
      "Searching for nearest atom from central group...\n",
      "Atoms in contact group: 12 atom to count:  centroid\n",
      "Coordinate df length: 34070\n",
      "Coordinate df is made, duration: 23.669304370880127 s\n",
      "RCOMe RC6H5 centroid 259.3950071334839 2.9902634620666504 23.85352063179016\n",
      "RCOMe ArCH H\n",
      "Pandas is reading csv...\n",
      "Done\n"
     ]
    },
    {
     "name": "stderr",
     "output_type": "stream",
     "text": [
      "  0%|                                                                              | 18/54940 [00:00<05:15, 174.31it/s]"
     ]
    },
    {
     "name": "stdout",
     "output_type": "stream",
     "text": [
      "Applying Kabsch Algorithm...\n"
     ]
    },
    {
     "name": "stderr",
     "output_type": "stream",
     "text": [
      "100%|███████████████████████████████████████████████████████████████████████████| 54940/54940 [05:51<00:00, 156.50it/s]\n"
     ]
    },
    {
     "name": "stdout",
     "output_type": "stream",
     "text": [
      "Adding model CH3 group... Done\n",
      "Searching for nearest atom from central group...\n",
      "Atoms in contact group: 9 atom to count:  H\n",
      "Coordinate df length: 164823\n",
      "Coordinate df is made, duration: 26.36086654663086 s\n",
      "RCOMe ArCH H 461.28501296043396 2.7009198665618896 26.585445880889893\n"
     ]
    }
   ],
   "source": [
    "run_everything_again = True\n",
    "\n",
    "if run_everything_again:\n",
    "    with open('results/redo_coordinate_df.csv', 'a', newline='') as resultsfile:\n",
    "#         writer = csv.writer(resultsfile)\n",
    "#         writer.writerow(['central', 'contact', 'to_count', 'coordinate_df'])\n",
    "\n",
    "        for central_group in central_groups:\n",
    "            for to_count_contact, contact_group in zip(to_count, contact_groups):\n",
    "             \n",
    "                print(central_group, contact_group, to_count_contact)\n",
    "\n",
    "                datafile = \".\\\\data\\\\\" + central_group + \"\\\\\" + central_group + \"_\" + contact_group + \"_vdw.5.cor\"\n",
    "                result1 = \".\\\\results\\\\\" + central_group + \"\\\\\" + central_group + \"_\" + contact_group + \"_vdw.5\\\\\"\\\n",
    "                          + central_group + \"_\" + contact_group + \"_kabsch_aligned.csv\"\n",
    "\n",
    "                settings = Settings(datafile)\n",
    "                settings.set_atom_to_count(to_count_contact)\n",
    "\n",
    "                t0_alignment = time.time()\n",
    "                do_kabsch_align(datafile, settings)\n",
    "                t1_alignment = time.time()\n",
    "                alignment_time = t1_alignment - t0_alignment\n",
    "\n",
    "                t0_avg_frag = time.time()\n",
    "                \n",
    "                aligned_fragments_df = pd.read_csv(settings.get_kabsch_aligned_csv_filename())\n",
    "                avg_frag = average_fragment(aligned_fragments_df, settings)\n",
    "\n",
    "                if central_group == \"RCOMe\":\n",
    "                    avg_frag = add_model_methyl(fragment=avg_frag, settings=settings)\n",
    "\n",
    "                avg_frag.to_csv(settings.get_avg_frag_filename(), index=False)\n",
    "                t1_avg_frag = time.time()\n",
    "                avg_fragment_time = t1_avg_frag - t0_avg_frag\n",
    "                \n",
    "                t0_coordinate_df = time.time()\n",
    "                df = aligned_fragments_df[aligned_fragments_df.label == \"-\"]\n",
    "            \n",
    "                coordinate_df = make_coordinate_df(df, settings, avg_frag)\n",
    "                \n",
    "                t1_coordinate_df = time.time()\n",
    "                coordinate_df_time = t1_coordinate_df - t0_coordinate_df\n",
    "                \n",
    "                print(central_group, contact_group, to_count_contact, alignment_time, avg_fragment_time, coordinate_df_time)\n",
    "                \n",
    "                \n",
    "#                 writer.writerow([central_group, contact_group, to_count_contact, coordinate_df_time])"
   ]
  },
  {
   "cell_type": "markdown",
   "metadata": {},
   "source": [
    "# Analyzing data"
   ]
  },
  {
   "cell_type": "code",
   "execution_count": null,
   "metadata": {
    "scrolled": true
   },
   "outputs": [],
   "source": [
    "df = pd.read_csv('results/pre_density_comp_time.csv')\n",
    "\n",
    "df_count = pd.read_csv('results/amounts_structures.csv')\n",
    "df = pd.merge(df, df_count,  how='left', left_on=['central','contact'], right_on = ['central','contact'])\n",
    "\n",
    "real_coordinate_time = pd.read_csv('results/redo_coordinate_df.csv')\n",
    "\n",
    "real_coordinate_time.columns = ['central', 'contact', 'to_count', 'coordinate_df_real']\n",
    "df = pd.merge(df, real_coordinate_time,  how='left', left_on=['central','contact', 'to_count'], right_on = ['central','contact', 'to_count'])"
   ]
  },
  {
   "cell_type": "code",
   "execution_count": null,
   "metadata": {
    "scrolled": false
   },
   "outputs": [],
   "source": [
    "for central_group in central_groups:\n",
    "    print(central_group)\n",
    "    bars1 = df[df.central == central_group]['alignment']\n",
    "    bars2 = df[df.central == central_group]['avg_fragment']\n",
    "    bars3 = df[df.central == central_group]['coordinate_df']\n",
    "        \n",
    "    bar_width = 0.25  # the width of the bars\n",
    "    r1 = np.arange(len(bars1))\n",
    "    r2 = [x + bar_width for x in r1]\n",
    "    r3 = [x + bar_width for x in r2]\n",
    "\n",
    "    # make that plot\n",
    "    fig, ax = plt.subplots()\n",
    "    rects1 = ax.bar(r1, bars1, bar_width, label='Alignment')\n",
    "    rects2 = ax.bar(r2, bars2, bar_width, label='avg_fragment')\n",
    "    rects3 = ax.bar(r3, bars3, bar_width, label='coordinate_df')\n",
    "\n",
    "    ax.set_xticks([r + bar_width for r in range(len(bars1))])\n",
    "    ax.set_xticklabels(df[df.central == central_group]['contact'])\n",
    "    \n",
    "    plt.title('Prep comp times ' + central_group)\n",
    "    \n",
    "    plt.legend()\n",
    "    \n",
    "    plt.savefig(\"results/figures/Prep_times_\" + central_group + \".svg\", format=\"svg\")\n",
    "    plt.show()"
   ]
  },
  {
   "cell_type": "code",
   "execution_count": null,
   "metadata": {},
   "outputs": [],
   "source": [
    "# sort df\n",
    "df[\"total\"] = df[\"alignment\"] + df[\"avg_fragment\"] + df[\"coordinate_df\"]\n",
    "df = df.sort_values(\"total\", ascending=False)\n",
    "\n",
    "df.to_hdf('ready_pre_density_comp.hdf', 'key')"
   ]
  },
  {
   "cell_type": "code",
   "execution_count": null,
   "metadata": {
    "scrolled": false
   },
   "outputs": [],
   "source": [
    "i = 0\n",
    "r1 = []\n",
    "xtick_labels = []\n",
    "\n",
    "fig, ax = plt.subplots(figsize=(9,5))\n",
    "    \n",
    "for _, row in df.iterrows():\n",
    "    bars1 = row['alignment']\n",
    "    bars2 = row['avg_fragment']\n",
    "    bars3 = row['coordinate_df']\n",
    "        \n",
    "    bar_width = 0.5  # the width of the bars\n",
    "    r1.append(i)\n",
    "\n",
    "    # make that plot\n",
    "    rects1 = plt.bar(i, bars1, bar_width, color=\"tab:blue\")\n",
    "    rects2 = plt.bar(i, bars2, bar_width, bottom=bars1, color=\"tab:orange\")\n",
    "    rects3 = plt.bar(i, bars3, bar_width, bottom=bars1+bars2, color=\"tab:green\")\n",
    "\n",
    "    xtick_labels.append(row[\"central\"] + \"-\" + row['contact'])\n",
    "    i+=1\n",
    "\n",
    "\n",
    "    \n",
    "plt.xticks(r1, xtick_labels, rotation=90)\n",
    "\n",
    "plt.title('Prep comp times')\n",
    "plt.subplots_adjust(bottom=0.3)\n",
    "\n",
    "ax.set_xlabel(\"Pair\")\n",
    "ax.set_ylabel(\"Computational time (s)\")\n",
    "\n",
    "ax2 = ax.twinx()\n",
    "ax2.set_ylabel(\"Amount\")\n",
    "\n",
    "line = ax2.plot(range(len(df)), df[\"amount_structures\"], color=\"red\", label=\"no unique fragments\")\n",
    "\n",
    "plt.legend((rects1[0], rects2[0], rects3[0], line[0]), ('alignment', 'avg_fragment', 'coordinate_df', 'No. fragments'))\n",
    "\n",
    "plt.savefig(\"results/figures/Prep_times_total.svg\", format=\"svg\")\n",
    "\n",
    "plt.show()"
   ]
  },
  {
   "cell_type": "code",
   "execution_count": null,
   "metadata": {},
   "outputs": [],
   "source": [
    "jit_df = pd.read_csv('results/coordinate_df_jit.csv')\n",
    "\n",
    "\n",
    "combined = pd.merge(jit_df, df,  how='left', left_on=['contact','central', 'to_count'], right_on = ['contact','central', 'to_count', ])\n",
    "\n",
    "combined[\"total_jit\"] = combined[\"alignment\"] + combined[\"avg_fragment\"] + combined[\"coordinate_df_jit\"]\n",
    "combined = combined.sort_values(\"total\", ascending=False)\n",
    "\n",
    "combined[\"diff\"] = combined[\"coordinate_df\"] - combined[\"coordinate_df_jit\"]"
   ]
  },
  {
   "cell_type": "code",
   "execution_count": null,
   "metadata": {},
   "outputs": [],
   "source": [
    "i = 0\n",
    "r1 = []\n",
    "xtick_labels = []\n",
    "\n",
    "fig, ax = plt.subplots(figsize=(9,5))\n",
    "    \n",
    "for _, row in combined.iterrows():\n",
    "    bars1 = row['alignment']\n",
    "    bars2 = row['avg_fragment']\n",
    "    bars3 = row['coordinate_df_jit']\n",
    "        \n",
    "    bar_width = 0.5  # the width of the bars\n",
    "    r1.append(i)\n",
    "\n",
    "    # make that plot\n",
    "    rects1 = plt.bar(i, bars1, bar_width, color=\"tab:blue\")\n",
    "    rects2 = plt.bar(i, bars2, bar_width, bottom=bars1, color=\"tab:orange\")\n",
    "    rects3 = plt.bar(i, bars3, bar_width, bottom=bars1+bars2, color=\"tab:green\")\n",
    "\n",
    "    xtick_labels.append(row[\"central\"] + \"-\" + row['contact'])\n",
    "    i+=1\n",
    "\n",
    "plt.xticks(r1, xtick_labels, rotation=90)\n",
    "\n",
    "plt.title('Prep comp times')\n",
    "plt.subplots_adjust(bottom=0.3)\n",
    "\n",
    "ax.set_xlabel(\"Pair\")\n",
    "ax.set_ylabel(\"Computational time (s)\")\n",
    "\n",
    "ax2 = ax.twinx()\n",
    "ax2.set_ylabel(\"Amount\")\n",
    "\n",
    "line = ax2.plot(range(len(df)), df[\"amount_structures\"], color=\"red\", label=\"no unique fragments\")\n",
    "\n",
    "plt.legend((rects1[0], rects2[0], rects3[0], line[0]), ('alignment', 'avg_fragment', 'coordinate_df_jit', 'No. fragments'))\n",
    "\n",
    "plt.savefig(\"results/figures/Prep_times_total.svg\", format=\"svg\")\n",
    "\n",
    "plt.show()"
   ]
  },
  {
   "cell_type": "code",
   "execution_count": null,
   "metadata": {},
   "outputs": [],
   "source": []
  },
  {
   "cell_type": "code",
   "execution_count": null,
   "metadata": {},
   "outputs": [],
   "source": []
  },
  {
   "cell_type": "code",
   "execution_count": null,
   "metadata": {},
   "outputs": [],
   "source": []
  },
  {
   "cell_type": "markdown",
   "metadata": {},
   "source": [
    "# some code to check if labels are the same in the fragments of all the pairs"
   ]
  },
  {
   "cell_type": "code",
   "execution_count": null,
   "metadata": {},
   "outputs": [],
   "source": [
    "central_group = \"RC6F5\"\n",
    "    \n",
    "def plot_fragment_with_labels(central_group, contact_group):\n",
    "    datafile = \"..\\\\data\\\\\" + central_group + \"\\\\\" + central_group + \"_\" + contact_group + \"_vdw.5.cor\"\n",
    "    csvfile =  \"..\\\\data\\\\\" + central_group + \"\\\\\" + central_group + \"_\" + contact_group + \"_vdw.5.csv\"\n",
    "\n",
    "    fp = open(csvfile)\n",
    "    labels = fp.readline().strip().split(',')\n",
    "    atoms = fp.readline().strip().split(',')\n",
    "    fp.close()\n",
    "\n",
    "    to_delete = []\n",
    "    for i in range(len(labels)):\n",
    "        if not \"LAB\" in labels[i]:\n",
    "            to_delete.append(i)\n",
    "\n",
    "    for i in reversed(to_delete):\n",
    "        del labels[i]\n",
    "        del atoms[i]\n",
    "\n",
    "    fp = open(datafile)\n",
    "    line = fp.readline()\n",
    "    line = fp.readline()\n",
    "\n",
    "    firstfragment = True\n",
    "    dictionary = {}\n",
    "\n",
    "    while firstfragment:                 \n",
    "        information = line.split()\n",
    "        x, y, z = float(information[1]), float(information[2]), float(information[3])\n",
    "        dictionary[information[0].strip(\"%\")] = [x,y,z]\n",
    "\n",
    "        line = fp.readline()\n",
    "        if \"**FRAG**\" in line:\n",
    "            firstfragment = False\n",
    "\n",
    "    fp.close()\n",
    "\n",
    "    print(atoms)\n",
    "    print(dictionary)\n",
    "\n",
    "    fig = plt.figure()\n",
    "    ax: Axes3D = fig.add_subplot(111, projection='3d')\n",
    "\n",
    "    for i, atom in enumerate(atoms):\n",
    "        x,y,z = dictionary[atom][0], dictionary[atom][1], dictionary[atom][2]\n",
    "\n",
    "        if 'R' in atom:\n",
    "            color = 'green'\n",
    "            label = 'R'\n",
    "        elif 'H' in atom:\n",
    "            color = 'grey'\n",
    "            label = 'H'\n",
    "        elif 'O' in atom:\n",
    "            color='red'\n",
    "            label = 'O'\n",
    "        elif 'F' in atom:\n",
    "            color='orchid'\n",
    "            label = 'F'\n",
    "        elif 'N' in atom:\n",
    "            color='blue'\n",
    "            label = 'N'\n",
    "        else:\n",
    "            color = 'black'\n",
    "            label ='C'\n",
    "\n",
    "        ax.scatter(x,y,z, color=color)\n",
    "\n",
    "        ax.text(x+0.01, y+0.01, z+0.01, labels[i])\n",
    "\n",
    "    ax.set_xlabel('X axis')\n",
    "    ax.set_ylabel('Y axis')\n",
    "    ax.set_zlabel('Z axis')\n",
    "\n",
    "    plt.title(central_group + \"-\" + contact_group)\n",
    "    plt.show()"
   ]
  },
  {
   "cell_type": "code",
   "execution_count": null,
   "metadata": {},
   "outputs": [],
   "source": [
    "plot_fragment_with_labels(central_group=\"RC6F5\", contact_group=\"C2CH2\")"
   ]
  },
  {
   "cell_type": "code",
   "execution_count": null,
   "metadata": {},
   "outputs": [],
   "source": []
  }
 ],
 "metadata": {
  "kernelspec": {
   "display_name": "Python 3",
   "language": "python",
   "name": "python3"
  },
  "language_info": {
   "codemirror_mode": {
    "name": "ipython",
    "version": 3
   },
   "file_extension": ".py",
   "mimetype": "text/x-python",
   "name": "python",
   "nbconvert_exporter": "python",
   "pygments_lexer": "ipython3",
   "version": "3.7.8"
  }
 },
 "nbformat": 4,
 "nbformat_minor": 4
}
