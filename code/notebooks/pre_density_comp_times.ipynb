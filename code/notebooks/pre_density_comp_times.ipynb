{
 "cells": [
  {
   "cell_type": "code",
   "execution_count": 1,
   "metadata": {},
   "outputs": [],
   "source": [
    "%matplotlib notebook\n",
    "import os\n",
    "import time\n",
    "import numpy as np\n",
    "import csv\n",
    "import pandas as pd\n",
    "\n",
    "import matplotlib\n",
    "import matplotlib.pyplot as plt\n",
    "from mpl_toolkits.mplot3d import Axes3D\n",
    "\n",
    "from load_from_coords_1 import align_if_not_aligned_yet\n",
    "from classes.Settings import Settings\n",
    "from calc_avg_fragment_2 import read_results_alignment, make_avg_fragment_if_not_exists\n",
    "\n",
    "from helpers.geometry_helpers import make_coordinate_df\n",
    "from helpers.density_helpers import prepare_df\n",
    "\n",
    "central_groups = [\"H2O\"] #[\"RCOMe\", \"RNO2\", \"H2O\", \"ArCI\", \"NO3\", \"RC6F5\", \"RC6H5\"] #,\n",
    "contact_groups = [\"CF\", \"RCN\", \"R2CO\", \"XH\", \"CCH3\", \"C2CH2\", \"RC6H5\", \"ArCH\"] #  \n",
    "to_count =       [\"F\",   \"N\",    \"O\",   \"H\",   \"H\",     \"H\", \"centroid\", \"H\"]\n",
    "resolutions = np.arange(0.1, 1.1, 0.1)"
   ]
  },
  {
   "cell_type": "markdown",
   "metadata": {},
   "source": [
    "# Count the structures"
   ]
  },
  {
   "cell_type": "code",
   "execution_count": 2,
   "metadata": {
    "scrolled": false
   },
   "outputs": [
    {
     "name": "stdout",
     "output_type": "stream",
     "text": [
      "H2O CF 3775 1208\n",
      "H2O RCN 6886 2335\n",
      "H2O R2CO 106727 30635\n",
      "H2O XH 559303 56792\n",
      "H2O CCH3 20864 8006\n",
      "H2O C2CH2 19979 8122\n",
      "H2O RC6H5 16231 5184\n",
      "H2O ArCH 23145 9803\n"
     ]
    }
   ],
   "source": [
    "count = True\n",
    "counts = []\n",
    "\n",
    "if count:\n",
    "    for central_group in central_groups:\n",
    "\n",
    "        for to_count_contact, contact_group in zip(to_count, contact_groups):\n",
    "            datafile = \".\\\\data\\\\\" + central_group + \"\\\\\" + central_group + \"_\" + contact_group + \"_vdw.5.cor\"\n",
    "\n",
    "            ids = []\n",
    "\n",
    "            with open(datafile, 'r') as resultsFile:\n",
    "                line = \"hoi\"\n",
    "                while line:\n",
    "                    line = resultsFile.readline()\n",
    "                    if \"**\" in line:\n",
    "                        ids.append(line.split(\"**\")[0])\n",
    "\n",
    "                print(central_group, contact_group, len(ids), len(set(ids)))\n",
    "                counts.append(len(ids))"
   ]
  },
  {
   "cell_type": "markdown",
   "metadata": {},
   "source": [
    "# Data Gathering"
   ]
  },
  {
   "cell_type": "code",
   "execution_count": 3,
   "metadata": {
    "scrolled": false
   },
   "outputs": [
    {
     "name": "stderr",
     "output_type": "stream",
     "text": [
      "100%|████████████████████████████████████████████████████████████████████████| 22650/22650 [00:00<00:00, 196100.70it/s]"
     ]
    },
    {
     "name": "stdout",
     "output_type": "stream",
     "text": [
      "H2O CF F\n",
      "Reading fragments from .cor file\n",
      "Aligning fragments and writing result to csv"
     ]
    },
    {
     "name": "stderr",
     "output_type": "stream",
     "text": [
      "\n",
      "  6%|████▎                                                                        | 212/3775 [00:00<00:03, 1030.49it/s]"
     ]
    },
    {
     "name": "stdout",
     "output_type": "stream",
     "text": [
      "\n"
     ]
    },
    {
     "name": "stderr",
     "output_type": "stream",
     "text": [
      "100%|█████████████████████████████████████████████████████████████████████████████| 3775/3775 [00:03<00:00, 974.55it/s]\n"
     ]
    },
    {
     "name": "stdout",
     "output_type": "stream",
     "text": [
      "H2O\n",
      "Searching for nearest atom from contact group...\n",
      "3775\n"
     ]
    },
    {
     "name": "stderr",
     "output_type": "stream",
     "text": [
      " 32%|██████████████████████▉                                                 | 13146/41316 [00:00<00:00, 130505.52it/s]"
     ]
    },
    {
     "name": "stdout",
     "output_type": "stream",
     "text": [
      "Done\n",
      "H2O RCN N\n",
      "Reading fragments from .cor file\n"
     ]
    },
    {
     "name": "stderr",
     "output_type": "stream",
     "text": [
      "100%|████████████████████████████████████████████████████████████████████████| 41316/41316 [00:00<00:00, 207000.68it/s]\n",
      "  3%|██▏                                                                           | 195/6886 [00:00<00:07, 943.27it/s]"
     ]
    },
    {
     "name": "stdout",
     "output_type": "stream",
     "text": [
      "Aligning fragments and writing result to csv\n"
     ]
    },
    {
     "name": "stderr",
     "output_type": "stream",
     "text": [
      "100%|████████████████████████████████████████████████████████████████████████████| 6886/6886 [00:06<00:00, 1037.37it/s]\n"
     ]
    },
    {
     "name": "stdout",
     "output_type": "stream",
     "text": [
      "H2O\n",
      "Searching for nearest atom from contact group...\n",
      "6886\n",
      "Done\n",
      "H2O R2CO O\n"
     ]
    },
    {
     "name": "stderr",
     "output_type": "stream",
     "text": [
      "  1%|▊                                                                        | 7185/640362 [00:00<00:08, 71306.89it/s]"
     ]
    },
    {
     "name": "stdout",
     "output_type": "stream",
     "text": [
      "Reading fragments from .cor file\n"
     ]
    },
    {
     "name": "stderr",
     "output_type": "stream",
     "text": [
      "100%|██████████████████████████████████████████████████████████████████████| 640362/640362 [00:03<00:00, 213199.30it/s]\n",
      "  0%|                                                                             | 93/106727 [00:00<01:55, 922.87it/s]"
     ]
    },
    {
     "name": "stdout",
     "output_type": "stream",
     "text": [
      "Aligning fragments and writing result to csv\n"
     ]
    },
    {
     "name": "stderr",
     "output_type": "stream",
     "text": [
      "100%|█████████████████████████████████████████████████████████████████████████| 106727/106727 [01:54<00:00, 934.66it/s]\n"
     ]
    },
    {
     "name": "stdout",
     "output_type": "stream",
     "text": [
      "H2O\n",
      "Searching for nearest atom from contact group...\n",
      "106727\n",
      "Done\n",
      "H2O XH H\n"
     ]
    },
    {
     "name": "stderr",
     "output_type": "stream",
     "text": [
      "  0%|                                                                        | 2698/3355818 [00:00<02:31, 22173.86it/s]"
     ]
    },
    {
     "name": "stdout",
     "output_type": "stream",
     "text": [
      "Reading fragments from .cor file\n"
     ]
    },
    {
     "name": "stderr",
     "output_type": "stream",
     "text": [
      "100%|████████████████████████████████████████████████████████████████████| 3355818/3355818 [00:17<00:00, 195756.83it/s]\n",
      "  0%|                                                                             | 66/559303 [00:00<14:22, 648.50it/s]"
     ]
    },
    {
     "name": "stdout",
     "output_type": "stream",
     "text": [
      "Aligning fragments and writing result to csv\n"
     ]
    },
    {
     "name": "stderr",
     "output_type": "stream",
     "text": [
      "100%|█████████████████████████████████████████████████████████████████████████| 559303/559303 [15:11<00:00, 613.60it/s]\n"
     ]
    },
    {
     "name": "stdout",
     "output_type": "stream",
     "text": [
      "H2O\n",
      "Searching for nearest atom from contact group...\n",
      "559303\n"
     ]
    },
    {
     "name": "stderr",
     "output_type": "stream",
     "text": [
      " 17%|████████████▏                                                          | 32185/187776 [00:00<00:00, 319517.71it/s]"
     ]
    },
    {
     "name": "stdout",
     "output_type": "stream",
     "text": [
      "Done\n",
      "H2O CCH3 H\n",
      "Reading fragments from .cor file\n"
     ]
    },
    {
     "name": "stderr",
     "output_type": "stream",
     "text": [
      "100%|██████████████████████████████████████████████████████████████████████| 187776/187776 [00:00<00:00, 314297.88it/s]\n",
      "  0%|▎                                                                             | 91/20864 [00:00<00:23, 903.04it/s]"
     ]
    },
    {
     "name": "stdout",
     "output_type": "stream",
     "text": [
      "Aligning fragments and writing result to csv\n"
     ]
    },
    {
     "name": "stderr",
     "output_type": "stream",
     "text": [
      "100%|███████████████████████████████████████████████████████████████████████████| 20864/20864 [00:24<00:00, 863.60it/s]\n"
     ]
    },
    {
     "name": "stdout",
     "output_type": "stream",
     "text": [
      "H2O\n",
      "Searching for nearest atom from contact group...\n",
      "62592\n"
     ]
    },
    {
     "name": "stderr",
     "output_type": "stream",
     "text": [
      " 16%|███████████                                                            | 27880/179811 [00:00<00:00, 276436.16it/s]"
     ]
    },
    {
     "name": "stdout",
     "output_type": "stream",
     "text": [
      "Done\n",
      "H2O C2CH2 H\n",
      "Reading fragments from .cor file\n"
     ]
    },
    {
     "name": "stderr",
     "output_type": "stream",
     "text": [
      "100%|██████████████████████████████████████████████████████████████████████| 179811/179811 [00:00<00:00, 278623.71it/s]\n",
      "  1%|▌                                                                            | 159/19979 [00:00<00:25, 780.78it/s]"
     ]
    },
    {
     "name": "stdout",
     "output_type": "stream",
     "text": [
      "Aligning fragments and writing result to csv\n"
     ]
    },
    {
     "name": "stderr",
     "output_type": "stream",
     "text": [
      "100%|███████████████████████████████████████████████████████████████████████████| 19979/19979 [00:24<00:00, 819.49it/s]\n"
     ]
    },
    {
     "name": "stdout",
     "output_type": "stream",
     "text": [
      "H2O\n",
      "Searching for nearest atom from contact group...\n",
      "39958\n"
     ]
    },
    {
     "name": "stderr",
     "output_type": "stream",
     "text": [
      " 10%|███████▏                                                               | 26375/259696 [00:00<00:00, 261837.49it/s]"
     ]
    },
    {
     "name": "stdout",
     "output_type": "stream",
     "text": [
      "Done\n",
      "H2O RC6H5 centroid\n",
      "Reading fragments from .cor file\n"
     ]
    },
    {
     "name": "stderr",
     "output_type": "stream",
     "text": [
      "100%|██████████████████████████████████████████████████████████████████████| 259696/259696 [00:00<00:00, 275079.46it/s]\n",
      "  0%|▎                                                                             | 63/16231 [00:00<00:25, 625.53it/s]"
     ]
    },
    {
     "name": "stdout",
     "output_type": "stream",
     "text": [
      "Aligning fragments and writing result to csv\n"
     ]
    },
    {
     "name": "stderr",
     "output_type": "stream",
     "text": [
      "100%|███████████████████████████████████████████████████████████████████████████| 16231/16231 [00:24<00:00, 675.54it/s]\n"
     ]
    },
    {
     "name": "stdout",
     "output_type": "stream",
     "text": [
      "H2O\n",
      "Searching for nearest atom from contact group...\n",
      "16231\n"
     ]
    },
    {
     "name": "stderr",
     "output_type": "stream",
     "text": [
      "\r",
      "  0%|                                                                                       | 0/300885 [00:00<?, ?it/s]"
     ]
    },
    {
     "name": "stdout",
     "output_type": "stream",
     "text": [
      "Done\n",
      "H2O ArCH H\n",
      "Reading fragments from .cor file\n"
     ]
    },
    {
     "name": "stderr",
     "output_type": "stream",
     "text": [
      "100%|██████████████████████████████████████████████████████████████████████| 300885/300885 [00:01<00:00, 241158.41it/s]\n",
      "  0%|▏                                                                             | 59/23145 [00:00<00:39, 580.16it/s]"
     ]
    },
    {
     "name": "stdout",
     "output_type": "stream",
     "text": [
      "Aligning fragments and writing result to csv\n"
     ]
    },
    {
     "name": "stderr",
     "output_type": "stream",
     "text": [
      "100%|███████████████████████████████████████████████████████████████████████████| 23145/23145 [00:34<00:00, 678.16it/s]\n"
     ]
    },
    {
     "name": "stdout",
     "output_type": "stream",
     "text": [
      "H2O\n",
      "Searching for nearest atom from contact group...\n",
      "69435\n",
      "Done\n"
     ]
    }
   ],
   "source": [
    "run_everything_again = True\n",
    "\n",
    "if run_everything_again:\n",
    "    with open('coordinate_df_.csv', 'a', newline='') as resultsfile:\n",
    "        writer = csv.writer(resultsfile)\n",
    "        writer.writerow(['central', 'contact', 'to_count', 'alignment', 'avg_fragment', 'coordinate_df'])\n",
    "\n",
    "        for central_group in central_groups:\n",
    "            for to_count_contact, contact_group in zip(to_count, contact_groups):\n",
    "                print(central_group, contact_group, to_count_contact)\n",
    "\n",
    "                datafile = \".\\\\data\\\\\" + central_group + \"\\\\\" + central_group + \"_\" + contact_group + \"_vdw.5.cor\"\n",
    "                result1 = \".\\\\results\\\\\" + central_group + \"\\\\\" + central_group + \"_\" + contact_group + \"_vdw.5\\\\\"\\\n",
    "                          + central_group + \"_\" + contact_group + \"_vdw.5_aligned.csv\"\n",
    "\n",
    "                settings = Settings(datafile)\n",
    "                settings.set_atom_to_count(to_count_contact)\n",
    "\n",
    "                starttime = time.time()\n",
    "                align_if_not_aligned_yet(settings, datafile)\n",
    "                alignment_time = time.time() - starttime\n",
    "\n",
    "                aligned_fragments_df = read_results_alignment(settings.get_aligned_csv_filename())\n",
    "                avg_fragment = make_avg_fragment_if_not_exists(settings, aligned_fragments_df)\n",
    "                avg_fragment_time = time.time() - starttime - alignment_time\n",
    "\n",
    "                df = aligned_fragments_df[~aligned_fragments_df.in_central_group]\n",
    "                coordinate_df = make_coordinate_df(df, settings, avg_fragment)\n",
    "                coordinate_df_time = time.time() - starttime - avg_fragment_time\n",
    "\n",
    "                writer.writerow([central_group, contact_group, to_count_contact, alignment_time, avg_fragment_time, coordinate_df_time])"
   ]
  },
  {
   "cell_type": "markdown",
   "metadata": {},
   "source": [
    "# Analyzing data"
   ]
  },
  {
   "cell_type": "code",
   "execution_count": null,
   "metadata": {},
   "outputs": [],
   "source": [
    "df = pd.read_csv('results/density_comp_time1.csv')\n",
    "df[\"count\"] = counts[:-2]\n",
    "display(df)"
   ]
  },
  {
   "cell_type": "code",
   "execution_count": null,
   "metadata": {
    "scrolled": true
   },
   "outputs": [],
   "source": [
    "for central_group in central_groups:\n",
    "    print(central_group)\n",
    "    bars1 = df[df.central == central_group]['alignment']\n",
    "    bars2 = df[df.central == central_group]['avg_fragment']\n",
    "    bars3 = df[df.central == central_group]['coordinate_df']\n",
    "        \n",
    "    bar_width = 0.25  # the width of the bars\n",
    "    r1 = np.arange(len(bars1))\n",
    "    r2 = [x + bar_width for x in r1]\n",
    "    r3 = [x + bar_width for x in r2]\n",
    "\n",
    "    # make that plot\n",
    "    fig, ax = plt.subplots(figsize=(6,4))\n",
    "    rects1 = ax.bar(r1, bars1, bar_width, label='Alignment')\n",
    "    rects2 = ax.bar(r2, bars2, bar_width, label='avg_fragment')\n",
    "    rects3 = ax.bar(r3, bars3, bar_width, label='coordinate_df')\n",
    "\n",
    "    ax.set_xticks([r + bar_width for r in range(len(bars1))])\n",
    "    ax.set_xticklabels(df[df.central == central_group]['contact'])\n",
    "    \n",
    "    plt.title('Prep comp times ' + central_group)\n",
    "    \n",
    "    plt.legend()\n",
    "    \n",
    "    plt.savefig(\"results/figures/Prep_times_\" + central_group + \".svg\", format=\"svg\")\n",
    "    plt.show()"
   ]
  },
  {
   "cell_type": "code",
   "execution_count": null,
   "metadata": {},
   "outputs": [],
   "source": [
    "# sort df\n",
    "df[\"total\"] = df[\"alignment\"] + df[\"avg_fragment\"] + df[\"coordinate_df\"]\n",
    "df = df.sort_values(\"total\", ascending=False)"
   ]
  },
  {
   "cell_type": "code",
   "execution_count": null,
   "metadata": {
    "scrolled": false
   },
   "outputs": [],
   "source": [
    "i = 0\n",
    "r1 = []\n",
    "xtick_labels = []\n",
    "\n",
    "fig, ax = plt.subplots(figsize=(9,5))\n",
    "    \n",
    "for _, row in df.iterrows():\n",
    "    bars1 = row['alignment']\n",
    "    bars2 = row['avg_fragment']\n",
    "    bars3 = row['coordinate_df']\n",
    "        \n",
    "    bar_width = 0.5  # the width of the bars\n",
    "    r1.append(i)\n",
    "\n",
    "    # make that plot\n",
    "    rects1 = plt.bar(i, bars1, bar_width, color=\"tab:blue\")\n",
    "    rects2 = plt.bar(i, bars2, bar_width, bottom=bars1, color=\"tab:orange\")\n",
    "    rects3 = plt.bar(i, bars3, bar_width, bottom=bars1+bars2, color=\"tab:green\")\n",
    "\n",
    "    xtick_labels.append(row[\"central\"] + \"-\" + row['contact'])\n",
    "    i+=1\n",
    "\n",
    "\n",
    "    \n",
    "plt.xticks(r1, xtick_labels, rotation=90)\n",
    "\n",
    "plt.title('Prep comp times')\n",
    "plt.subplots_adjust(bottom=0.3)\n",
    "\n",
    "ax.set_xlabel(\"Pair\")\n",
    "ax.set_ylabel(\"Computational time (s)\")\n",
    "\n",
    "ax2 = ax.twinx()\n",
    "ax2.set_ylabel(\"Amount\")\n",
    "\n",
    "line = ax2.plot(range(len(df)), df[\"count\"], color=\"red\", label=\"no unique fragments\")\n",
    "\n",
    "plt.legend((rects1[0], rects2[0], rects3[0], line[0]), ('alignment', 'avg_fragment', 'coordinate_df', 'No. fragments'))\n",
    "\n",
    "plt.savefig(\"results/figures/Prep_times_total.svg\", format=\"svg\")\n",
    "\n",
    "plt.show()"
   ]
  },
  {
   "cell_type": "code",
   "execution_count": null,
   "metadata": {},
   "outputs": [],
   "source": [
    "jit_df = pd.read_csv('coordinate_df_jit.csv')\n",
    "\n",
    "\n",
    "combined = pd.merge(jit_df, df,  how='left', left_on=['contact','central', 'to_count'], right_on = ['contact','central', 'to_count', ])\n",
    "\n",
    "combined[\"total_jit\"] = combined[\"alignment\"] + combined[\"avg_fragment\"] + combined[\"coordinate_df_jit\"]\n",
    "combined = combined.sort_values(\"total\", ascending=False)\n",
    "\n",
    "combined[\"diff\"] = combined[\"coordinate_df\"] - combined[\"coordinate_df_jit\"]"
   ]
  },
  {
   "cell_type": "code",
   "execution_count": null,
   "metadata": {},
   "outputs": [],
   "source": [
    "i = 0\n",
    "r1 = []\n",
    "xtick_labels = []\n",
    "\n",
    "fig, ax = plt.subplots(figsize=(9,5))\n",
    "    \n",
    "for _, row in combined.iterrows():\n",
    "    bars1 = row['alignment']\n",
    "    bars2 = row['avg_fragment']\n",
    "    bars3 = row['coordinate_df_jit']\n",
    "        \n",
    "    bar_width = 0.5  # the width of the bars\n",
    "    r1.append(i)\n",
    "\n",
    "    # make that plot\n",
    "    rects1 = plt.bar(i, bars1, bar_width, color=\"tab:blue\")\n",
    "    rects2 = plt.bar(i, bars2, bar_width, bottom=bars1, color=\"tab:orange\")\n",
    "    rects3 = plt.bar(i, bars3, bar_width, bottom=bars1+bars2, color=\"tab:green\")\n",
    "\n",
    "    xtick_labels.append(row[\"central\"] + \"-\" + row['contact'])\n",
    "    i+=1\n",
    "\n",
    "\n",
    "    \n",
    "plt.xticks(r1, xtick_labels, rotation=90)\n",
    "\n",
    "plt.title('Prep comp times')\n",
    "plt.subplots_adjust(bottom=0.3)\n",
    "\n",
    "ax.set_xlabel(\"Pair\")\n",
    "ax.set_ylabel(\"Computational time (s)\")\n",
    "\n",
    "ax2 = ax.twinx()\n",
    "ax2.set_ylabel(\"Amount\")\n",
    "\n",
    "line = ax2.plot(range(len(df)), df[\"count\"], color=\"red\", label=\"no unique fragments\")\n",
    "\n",
    "plt.legend((rects1[0], rects2[0], rects3[0], line[0]), ('alignment', 'avg_fragment', 'coordinate_df_jit', 'No. fragments'))\n",
    "\n",
    "plt.savefig(\"results/figures/Prep_times_total.svg\", format=\"svg\")\n",
    "\n",
    "plt.show()"
   ]
  },
  {
   "cell_type": "markdown",
   "metadata": {},
   "source": [
    "# some code to check if labels are the same in the fragments of all the pairs"
   ]
  },
  {
   "cell_type": "code",
   "execution_count": null,
   "metadata": {},
   "outputs": [],
   "source": [
    "central_group = \"ArCI\"\n",
    "    \n",
    "def plot_fragment_with_labels(central_group, contact_group):\n",
    "    datafile = \".\\\\data\\\\\" + central_group + \"\\\\\" + central_group + \"_\" + contact_group + \"_vdw.5.cor\"\n",
    "    csvfile =  \".\\\\data\\\\\" + central_group + \"\\\\\" + central_group + \"_\" + contact_group + \"_vdw.5.csv\"\n",
    "\n",
    "    fp = open(csvfile)\n",
    "    labels = fp.readline().strip().split(',')\n",
    "    atoms = fp.readline().strip().split(',')\n",
    "    fp.close()\n",
    "\n",
    "    to_delete = []\n",
    "    for i in range(len(labels)):\n",
    "        if not \"LAB\" in labels[i]:\n",
    "            to_delete.append(i)\n",
    "\n",
    "    for i in reversed(to_delete):\n",
    "        del labels[i]\n",
    "        del atoms[i]\n",
    "\n",
    "    fp = open(datafile)\n",
    "    line = fp.readline()\n",
    "    line = fp.readline()\n",
    "\n",
    "    firstfragment = True\n",
    "    dictionary = {}\n",
    "\n",
    "    while firstfragment:                 \n",
    "        information = line.split()\n",
    "        x, y, z = float(information[1]), float(information[2]), float(information[3])\n",
    "        dictionary[information[0].strip(\"%\")] = [x,y,z]\n",
    "\n",
    "        line = fp.readline()\n",
    "        if \"**FRAG**\" in line:\n",
    "            firstfragment = False\n",
    "\n",
    "    fp.close()\n",
    "\n",
    "    print(atoms)\n",
    "    print(dictionary)\n",
    "\n",
    "    fig = plt.figure()\n",
    "    ax: Axes3D = fig.add_subplot(111, projection='3d')\n",
    "\n",
    "    for i, atom in enumerate(atoms):\n",
    "        x,y,z = dictionary[atom][0], dictionary[atom][1], dictionary[atom][2]\n",
    "\n",
    "        if 'R' in atom:\n",
    "            color = 'green'\n",
    "            label = 'R'\n",
    "        elif 'H' in atom:\n",
    "            color = 'grey'\n",
    "            label = 'H'\n",
    "        elif 'O' in atom:\n",
    "            color='red'\n",
    "            label = 'O'\n",
    "        elif 'F' in atom:\n",
    "            color='orchid'\n",
    "            label = 'F'\n",
    "        elif 'N' in atom:\n",
    "            color='blue'\n",
    "            label = 'N'\n",
    "        else:\n",
    "            color = 'black'\n",
    "            label ='C'\n",
    "\n",
    "        ax.scatter(x,y,z, color=color)\n",
    "\n",
    "        ax.text(x+0.01, y+0.01, z+0.01, labels[i])\n",
    "\n",
    "    ax.set_xlabel('X axis')\n",
    "    ax.set_ylabel('Y axis')\n",
    "    ax.set_zlabel('Z axis')\n",
    "\n",
    "    plt.title(central_group + \"-\" + contact_group)\n",
    "    plt.show()"
   ]
  }
 ],
 "metadata": {
  "kernelspec": {
   "display_name": "Python 3",
   "language": "python",
   "name": "python3"
  },
  "language_info": {
   "codemirror_mode": {
    "name": "ipython",
    "version": 3
   },
   "file_extension": ".py",
   "mimetype": "text/x-python",
   "name": "python",
   "nbconvert_exporter": "python",
   "pygments_lexer": "ipython3",
   "version": "3.7.8"
  }
 },
 "nbformat": 4,
 "nbformat_minor": 4
}
