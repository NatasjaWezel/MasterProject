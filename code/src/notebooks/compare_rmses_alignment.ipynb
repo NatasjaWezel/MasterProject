{
 "cells": [
  {
   "cell_type": "code",
   "execution_count": null,
   "metadata": {},
   "outputs": [],
   "source": [
    "import pandas as pd\n",
    "import matplotlib.pyplot as plt"
   ]
  },
  {
   "cell_type": "code",
   "execution_count": null,
   "metadata": {},
   "outputs": [],
   "source": [
    "df_rot = pd.read_csv('../results/RC6F5/RC6F5_C2CH2_vdw.5/RC6F5_C2CH2_rotation_structures_not_mirrored.csv')\n",
    "df_rot_mir = pd.read_csv('../results/RC6F5/RC6F5_C2CH2_vdw.5/RC6F5_C2CH2_rotation_structures.csv')\n",
    "\n",
    "df_rot_1243 = pd.read_csv('../results/RC6F5/RC6F5_C2CH2_vdw.5/RC6F5_C2CH2_rotation_structures_12-4-3.csv')\n",
    "\n",
    "df_kab = pd.read_csv('../results/RC6F5/RC6F5_C2CH2_vdw.5/RC6F5_C2CH2_kabsch_structures_not_mirrored.csv')\n",
    "df_kab_mir = pd.read_csv('../results/RC6F5/RC6F5_C2CH2_vdw.5/RC6F5_C2CH2_kabsch_structures.csv')"
   ]
  },
  {
   "cell_type": "code",
   "execution_count": null,
   "metadata": {},
   "outputs": [],
   "source": [
    "df_rot.plot()"
   ]
  },
  {
   "cell_type": "code",
   "execution_count": null,
   "metadata": {},
   "outputs": [],
   "source": [
    "df_rot_mir.plot()"
   ]
  },
  {
   "cell_type": "code",
   "execution_count": null,
   "metadata": {},
   "outputs": [],
   "source": [
    "df_kab.plot()"
   ]
  },
  {
   "cell_type": "code",
   "execution_count": null,
   "metadata": {},
   "outputs": [],
   "source": [
    "df_kab_mir.plot()"
   ]
  },
  {
   "cell_type": "code",
   "execution_count": null,
   "metadata": {},
   "outputs": [],
   "source": [
    "print(df_rot.rmse.mean())\n",
    "print(df_rot_mir.rmse.mean())\n",
    "print(df_rot_1243.rmse.mean())\n",
    "\n",
    "print(df_kab.rmse.mean())\n",
    "print(df_kab_mir.rmse.mean())"
   ]
  },
  {
   "cell_type": "code",
   "execution_count": null,
   "metadata": {},
   "outputs": [],
   "source": [
    "# use a smoothing algorithm\n",
    "df_rot['rmse_smooth'] = df_rot.iloc[:,1].rolling(window=200).mean()\n",
    "df_rot_mir['rmse_smooth'] = df_rot_mir.iloc[:,1].rolling(window=200).mean()\n",
    "\n",
    "df_rot_1243['rmse_smooth'] = df_rot_1243.iloc[:,1].rolling(window=200).mean()\n",
    "\n",
    "df_kab['rmse_smooth'] = df_kab.iloc[:,1].rolling(window=200).mean()\n",
    "df_kab_mir['rmse_smooth'] = df_kab_mir.iloc[:,1].rolling(window=200).mean()\n",
    "\n",
    "display(df_rot_1243)\n"
   ]
  },
  {
   "cell_type": "code",
   "execution_count": null,
   "metadata": {},
   "outputs": [],
   "source": [
    "plt.figure(figsize=(8,6))\n",
    "plt.title('RMSEs of different superimposition algorithms')\n",
    "\n",
    "plt.plot(range(0, len(df_rot)), df_rot.rmse, label='Rotation')\n",
    "plt.plot(range(0, len(df_rot_mir)), df_rot_mir.rmse, label=\"Rotation, mirrored, lab 1, 2, 3\")\n",
    "plt.plot(range(0, len(df_rot_1243)), df_rot_1243.rmse, label=\"Rotation, mirrored, lab12, 4, 3\")\n",
    "\n",
    "plt.plot(range(0, len(df_kab)), df_kab.rmse, label='Kabsch')\n",
    "plt.plot(range(0, len(df_kab_mir)), df_kab_mir.rmse, label='Kabsch, mirrored')\n",
    "\n",
    "plt.legend()\n",
    "plt.xlabel(\"Structure ID\")\n",
    "plt.ylabel(\"RMSE\")\n",
    "\n",
    "plt.show()"
   ]
  },
  {
   "cell_type": "code",
   "execution_count": null,
   "metadata": {},
   "outputs": [],
   "source": [
    "display(df_rot_1243)\n",
    "\n",
    "plt.figure(figsize=(6,3))\n",
    "plt.title('RMSEs of different superimposition algorithms')\n",
    "\n",
    "plt.plot(range(0, len(df_rot)), df_rot.rmse_smooth, label='R')\n",
    "plt.plot(range(0, len(df_rot_mir)), df_rot_mir.rmse_smooth, label=\"Rmir, lab1, 2, 3\")\n",
    "plt.plot(range(0, len(df_rot_1243)), df_rot_1243.rmse_smooth, label='Rmir, lab12, 4, 3')\n",
    "plt.legend()\n",
    "\n",
    "plt.ylabel(\"RMSE Rotation\")\n",
    "plt.xlabel(\"Structure ID\")\n",
    "\n",
    "plt.plot(range(0, len(df_kab)), df_kab.rmse_smooth, label='Kabsch', color='tab:red')\n",
    "plt.plot(range(0, len(df_kab_mir)), df_kab_mir.rmse_smooth, label='Kabsch mir', color='tab:purple')\n",
    "plt.legend(loc='upper right')\n",
    "\n",
    "\n",
    "plt.show()"
   ]
  },
  {
   "cell_type": "code",
   "execution_count": null,
   "metadata": {},
   "outputs": [],
   "source": [
    "# make the figure\n",
    "fig, (ax1, ax2) = plt.subplots(1, 2, figsize=(12,3))\n",
    "# fig.tight_layout()\n",
    "fig.suptitle('RMSEs of different superimposition algorithms')\n",
    "\n",
    "\n",
    "ax1.plot(range(0, len(df_rot)), df_rot.rmse_smooth, label='R')\n",
    "ax1.plot(range(0, len(df_rot_mir)), df_rot_mir.rmse_smooth, label=\"Rmir, lab1, 2, 3\")\n",
    "ax1.plot(range(0, len(df_rot_1243)), df_rot_1243.rmse_smooth, label='Rmir, lab12, 4, 3')\n",
    "ax1.plot(range(0, len(df_kab)), df_kab.rmse_smooth, label='Kabsch', color='tab:red')\n",
    "ax1.plot(range(0, len(df_kab_mir)), df_kab_mir.rmse_smooth, label='Kabsch mir', color='tab:purple')\n",
    "\n",
    "ax1.set_xlabel(\"Structure ID\")\n",
    "ax1.set_ylabel(\"RMSE Rotation\")\n",
    "\n",
    "ax1.legend(loc='upper right')\n",
    "\n",
    "\n",
    "\n",
    "ax2.plot(range(0, len(df_kab)), df_kab.rmse_smooth, label='Kabsch', color='tab:red')\n",
    "ax2.plot(range(0, len(df_kab_mir)), df_kab_mir.rmse_smooth, label='Kabsch, mirrored', color='tab:purple')\n",
    "\n",
    "\n",
    "ax2.set_xlabel(\"Structure ID\")\n",
    "ax2.set_ylabel(\"RMSE Kabsch\")\n",
    "\n",
    "ax2.legend(loc='upper right')\n",
    "\n",
    "\n",
    "\n",
    "plt.savefig('../results/figures/comparing_rmse.svg', format='svg', bbox_inches='tight')"
   ]
  },
  {
   "cell_type": "code",
   "execution_count": null,
   "metadata": {},
   "outputs": [],
   "source": [
    "plt.plot(range(0, len(df_kab)), df_kab.rmse)\n",
    "plt.plot(range(0, len(df_kab_mir)), df_kab_mir.rmse)\n",
    "\n",
    "plt.xlim(0, 200)\n",
    "\n",
    "plt.figure(figsize=(8,6))\n",
    "plt.plot(range(0, len(df_rot)), df_rot.rmse, label='Rotation')\n",
    "plt.plot(range(0, len(df_rot_mir)), df_rot_mir.rmse, label=\"Rotation, mirrored\")\n",
    "\n",
    "plt.plot(range(0, len(df_kab)), df_kab.rmse, label='Kabsch')\n",
    "plt.plot(range(0, len(df_kab_mir)), df_kab_mir.rmse, label='Kabsch, mirrored')\n",
    "plt.xlim(0, 200)\n",
    "\n",
    "plt.legend()\n",
    "plt.title(\"RMSE of fragment compared to fragment 0\")\n",
    "plt.ylabel(\"RMSE\")\n",
    "plt.xlabel(\"Fragment id\")"
   ]
  },
  {
   "cell_type": "code",
   "execution_count": null,
   "metadata": {},
   "outputs": [],
   "source": [
    "df['rmse_diff'] = df_mir.rmse - df.rmse\n",
    "\n",
    "sliced_df = df[df.rmse_diff != 0]\n",
    "\n",
    "plt.figure()\n",
    "plt.plot(range(0, len(sliced_df)), sliced_df.rmse_diff)\n",
    "\n",
    "\n",
    "sliced_df2 = df[df.rmse_diff == 0]"
   ]
  },
  {
   "cell_type": "markdown",
   "metadata": {},
   "source": [
    "# Check if the same happens for H2O"
   ]
  },
  {
   "cell_type": "code",
   "execution_count": null,
   "metadata": {},
   "outputs": [],
   "source": [
    "df_kab_water = pd.read_csv('../results/H2O/H2O_C2CH2_vdw.5/H2O_C2CH2_kabsch_structures.csv')\n",
    "df_rot_water = pd.read_csv('../results/H2O/H2O_C2CH2_vdw.5/H2O_C2CH2_rotation_structures.csv')"
   ]
  },
  {
   "cell_type": "code",
   "execution_count": null,
   "metadata": {},
   "outputs": [],
   "source": [
    "plt.plot(range(0, len(df_rot_water)), df_kab_water.rmse)\n",
    "plt.plot(range(0, len(df_rot_water)), df_rot_water.rmse)\n",
    "\n",
    "plt.figure()\n",
    "plt.plot(range(0, len(df_rot_water)), df_kab_water.rmse)\n",
    "plt.plot(range(0, len(df_rot_water)), df_rot_water.rmse)\n",
    "\n",
    "plt.xlim(0, 200)"
   ]
  },
  {
   "cell_type": "markdown",
   "metadata": {},
   "source": [
    "# Check the average fragment calculation: you should see the different"
   ]
  },
  {
   "cell_type": "code",
   "execution_count": null,
   "metadata": {},
   "outputs": [],
   "source": []
  }
 ],
 "metadata": {
  "kernelspec": {
   "display_name": "Python 3",
   "language": "python",
   "name": "python3"
  },
  "language_info": {
   "codemirror_mode": {
    "name": "ipython",
    "version": 3
   },
   "file_extension": ".py",
   "mimetype": "text/x-python",
   "name": "python",
   "nbconvert_exporter": "python",
   "pygments_lexer": "ipython3",
   "version": "3.7.8"
  }
 },
 "nbformat": 4,
 "nbformat_minor": 4
}
