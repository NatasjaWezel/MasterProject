{
 "cells": [
  {
   "cell_type": "code",
   "execution_count": null,
   "metadata": {},
   "outputs": [],
   "source": [
    "%matplotlib notebook\n",
    "from helpers.helpers import read_results_alignment\n",
    "\n",
    "from helpers.geometry_helpers import make_avg_fragment_if_not_exists\n",
    "from helpers.helpers import read_results_alignment\n",
    "from helpers.plot_functions import plot_fragment_colored\n",
    "\n",
    "import matplotlib.pyplot as plt\n",
    "from mpl_toolkits.mplot3d import Axes3D\n",
    "\n",
    "import numpy as np\n",
    "import pandas as pd\n",
    "import math"
   ]
  },
  {
   "cell_type": "code",
   "execution_count": null,
   "metadata": {},
   "outputs": [],
   "source": [
    "filenames = []\n",
    "filenames.append(\".\\\\results\\\\ArCI\\\\ArCI_R2CO_vdw.5\\\\ArCI_R2CO_vdw.5_aligned.csv\")\n",
    "filenames.append(\".\\\\results\\\\ArCI\\\\ArCI_R2CO_vdw.5\\\\124_ArCI_R2CO_vdw.5_aligned.csv\")\n",
    "filenames.append(\".\\\\results\\\\ArCI\\\\ArCI_R2CO_vdw.5\\\\426_ArCI_R2CO_vdw.5_aligned.csv\")\n",
    "\n",
    "dfs = []\n",
    "for filename in filenames:\n",
    "    dfs.append(read_results_alignment(filename))"
   ]
  },
  {
   "cell_type": "code",
   "execution_count": null,
   "metadata": {},
   "outputs": [],
   "source": [
    "avg_fragments = []\n",
    "\n",
    "for df in dfs:\n",
    "    central_group_df = df[df.in_central_group]\n",
    "\n",
    "    fragment = central_group_df.groupby('atom_label').agg({'atom_symbol': 'first', 'atom_x': 'mean',\n",
    "                                                                  'atom_y': 'mean', 'atom_z': 'mean'}).reset_index()\n",
    "    fragment_stds = central_group_df.groupby('atom_label').agg({'atom_x': 'std',\n",
    "                                                                  'atom_y': 'std', 'atom_z': 'std'}).reset_index()\n",
    "    fragment_stds.columns = [col + '_std' for col in fragment_stds.columns]\n",
    "\n",
    "    fragment_total = pd.merge(fragment, fragment_stds, left_on='atom_label', right_on='atom_label_std')\n",
    "    fragment_total = fragment_total.drop(columns=\"atom_label_std\")\n",
    "    \n",
    "    avg_fragments.append(fragment_total)\n",
    "    \n",
    "    display(fragment_total)"
   ]
  },
  {
   "cell_type": "code",
   "execution_count": null,
   "metadata": {},
   "outputs": [],
   "source": [
    "for i, avg_fragment in enumerate(avg_fragments):\n",
    "    z = 2.58\n",
    "    squared_datapoints = math.sqrt(len(dfs[i]))\n",
    "    ci_z = z / squared_datapoints\n",
    "    \n",
    "    avg_fragment['atom_x_ci'] = avg_fragment['atom_x_std'] * ci_z / 2\n",
    "    avg_fragment['atom_y_ci'] = avg_fragment['atom_y_std'] * ci_z / 2\n",
    "    avg_fragment['atom_z_ci'] = avg_fragment['atom_z_std'] * ci_z / 2\n",
    "    \n",
    "    print(sum(avg_fragment.drop(columns=['atom_symbol', 'atom_x', 'atom_y', 'atom_z', 'atom_x_std', 'atom_y_std', 'atom_z_std']).mean()))\n",
    "          \n",
    "    print(avg_fragment.drop(columns=['atom_symbol', 'atom_x_std', 'atom_y_std', 'atom_z_std']).round(4).to_latex())\n",
    "    print(avg_fragment.drop(columns=['atom_symbol', 'atom_x_std', 'atom_y_std', 'atom_z_std']).mean().round(4).to_latex())\n",
    "\n",
    "display(avg_fragments[0])"
   ]
  },
  {
   "cell_type": "code",
   "execution_count": null,
   "metadata": {},
   "outputs": [],
   "source": [
    "for avg_fragment in avg_fragments:\n",
    "    # width of the bars\n",
    "    bar_width = 0.25\n",
    "\n",
    "    r1 = np.arange(len(fragment_total))\n",
    "    r2 = [x + bar_width for x in r1]\n",
    "    r3 = [x + bar_width for x in r2]\n",
    "\n",
    "    plt.figure()\n",
    "    plt.bar(r1, avg_fragment.atom_x, yerr=avg_fragment.atom_x_ci, width=bar_width,\n",
    "            capsize=7, label='x', color='tab:blue')\n",
    "\n",
    "    plt.bar(r2, avg_fragment.atom_y, yerr=avg_fragment.atom_y_ci, width=bar_width,\n",
    "            capsize=7, label='y', color='tab:orange')\n",
    "\n",
    "    plt.bar(r3, avg_fragment.atom_z, yerr=avg_fragment.atom_z_ci, width=bar_width,\n",
    "            capsize=7, label='z', color='tab:green')\n",
    "\n",
    "    plt.xticks([r + bar_width for r in range(len(avg_fragment))], [atom.atom_label for _, atom in avg_fragment.iterrows()])\n",
    "\n",
    "    plt.xlabel('Atom coordinate')\n",
    "    plt.ylabel('Coordinate value')\n",
    "\n",
    "    plt.legend()\n",
    "    plt.show()"
   ]
  },
  {
   "cell_type": "code",
   "execution_count": null,
   "metadata": {},
   "outputs": [],
   "source": [
    "for avg_fragment in avg_fragments:\n",
    "    plt.figure(figsize=(8, 4))\n",
    "    plt.title(\"Confidence Intervals per sample mean\")\n",
    "    \n",
    "    plt.bar(r1, avg_fragment.atom_x_std * ci_z / 2, width=bar_width,\n",
    "            capsize=7, label='x', color='tab:blue')\n",
    "\n",
    "    plt.bar(r2, avg_fragment.atom_y_std * ci_z / 2, width=bar_width,\n",
    "            capsize=7, label='y', color='tab:orange')\n",
    "\n",
    "    plt.bar(r3, avg_fragment.atom_z_std * ci_z / 2, width=bar_width,\n",
    "            capsize=7, label='z', color='tab:green')\n",
    "\n",
    "\n",
    "    bar = plt.bar(r1[-1] + 1, sum(avg_fragment.atom_x_ci)/len(avg_fragment), width=bar_width,\n",
    "            capsize=7, color='tab:blue')\n",
    "    \n",
    "    bar = plt.bar(r2[-1] + 1, sum(avg_fragment.atom_y_ci)/len(avg_fragment), width=bar_width,\n",
    "            capsize=7, color='tab:orange')\n",
    "\n",
    "    bar = plt.bar(r3[-1] + 1, sum(avg_fragment.atom_z_ci)/len(avg_fragment), width=bar_width,\n",
    "            capsize=7, color='tab:green')\n",
    "\n",
    "    xtick_labels = [atom.atom_label for _, atom in avg_fragment.iterrows()]\n",
    "    xtick_labels.append('Average')\n",
    "    plt.xticks([r + bar_width for r in range(len(avg_fragment) + 1)], xtick_labels)\n",
    "\n",
    "    plt.xlabel('Atom label')\n",
    "    plt.ylabel('Coordinate value')\n",
    "\n",
    "    plt.legend()\n",
    "    plt.show()"
   ]
  },
  {
   "cell_type": "code",
   "execution_count": null,
   "metadata": {},
   "outputs": [],
   "source": [
    "for avg_fragment in avg_fragments:\n",
    "\n",
    "    fig = plt.figure()\n",
    "    \n",
    "    # plot the (average of the) central group\n",
    "    plt.scatter(avg_fragment.atom_x, avg_fragment.atom_y)\n",
    "\n",
    "    plt.xlabel('X axis')\n",
    "    plt.ylabel('Y axis')\n",
    "\n",
    "    plt.show()"
   ]
  }
 ],
 "metadata": {
  "kernelspec": {
   "display_name": "Python 3",
   "language": "python",
   "name": "python3"
  },
  "language_info": {
   "codemirror_mode": {
    "name": "ipython",
    "version": 3
   },
   "file_extension": ".py",
   "mimetype": "text/x-python",
   "name": "python",
   "nbconvert_exporter": "python",
   "pygments_lexer": "ipython3",
   "version": "3.7.8"
  }
 },
 "nbformat": 4,
 "nbformat_minor": 4
}
