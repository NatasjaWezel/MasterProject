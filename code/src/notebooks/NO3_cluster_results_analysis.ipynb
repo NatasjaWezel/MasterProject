{
 "cells": [
  {
   "cell_type": "code",
   "execution_count": null,
   "metadata": {
    "scrolled": false
   },
   "outputs": [],
   "source": [
    "%matplotlib notebook\n",
    "\n",
    "import copy\n",
    "\n",
    "import pandas as pd\n",
    "import matplotlib.pyplot as plt\n",
    "import numpy as np\n",
    "\n",
    "from mpl_toolkits.mplot3d import Axes3D\n",
    "\n",
    "from classes.Settings import Settings\n",
    "from helpers.plot_functions import plot_density, plot_fragment_colored, plot_vdw_spheres\n",
    "from helpers.density_helpers import calculate_no_bins, add_boundaries_per_bin\n",
    "from calc_avg_fragment_2 import read_results_alignment, make_avg_fragment_if_not_exists\n",
    "\n",
    "from helpers.density_helpers import prepare_df, find_available_volume\n",
    "from helpers.geometry_helpers import (make_coordinate_df,\n",
    "                                      get_vdw_distance_contact)\n",
    "\n",
    "from sklearn.cluster import KMeans\n",
    "\n",
    "from tqdm import tqdm\n",
    "import time\n",
    "import math\n",
    "import copy"
   ]
  },
  {
   "cell_type": "code",
   "execution_count": null,
   "metadata": {},
   "outputs": [],
   "source": [
    "resolutions = []\n",
    "\n",
    "resolutions1 = np.arange(0.1, 1.1, 0.1)\n",
    "resolutions.extend(resolutions1)"
   ]
  },
  {
   "cell_type": "markdown",
   "metadata": {},
   "source": [
    "## Other stuff"
   ]
  },
  {
   "cell_type": "code",
   "execution_count": null,
   "metadata": {},
   "outputs": [],
   "source": [
    "def make_density_plot(avg_fragment, density_df, settings):\n",
    "    plotname = settings.get_density_plotname()\n",
    "    fig = plt.figure()\n",
    "    ax: Axes3D = fig.add_subplot(111, projection='3d')\n",
    "\n",
    "    ax = plot_fragment_colored(ax, avg_fragment)\n",
    "\n",
    "    p, ax = plot_density(ax=ax, df=density_df, settings=settings)\n",
    "\n",
    "    ax.set_title(\"4D density plot\\n Resolution: \" + str(settings.resolution))\n",
    "\n",
    "    fig.colorbar(p)\n",
    "    plt.savefig(plotname)\n",
    "    plt.show()"
   ]
  },
  {
   "cell_type": "code",
   "execution_count": null,
   "metadata": {},
   "outputs": [],
   "source": [
    "settings = Settings(\".\\\\results\\\\NO3\\\\NO3_XH_vdw.5\\\\NO3_XH_vdw.5_aligned.csv\")\n",
    "settings.set_atom_to_count(\"H\")\n",
    "settings.set_resolution(round(0.5, 2))\n",
    "\n",
    "df = read_results_alignment(settings.get_aligned_csv_filename())\n",
    "avg_fragment = make_avg_fragment_if_not_exists(settings, df)\n",
    "\n",
    "density_df = pd.read_hdf(settings.get_density_df_filename(), settings.get_density_df_key())\n",
    "make_density_plot(avg_fragment, density_df, settings)"
   ]
  },
  {
   "cell_type": "code",
   "execution_count": null,
   "metadata": {},
   "outputs": [],
   "source": [
    "def calc_clusters(density_df, amount_of_clusters):\n",
    "    to_cluster_df = density_df[density_df['to_cluster']]\n",
    "    \n",
    "    X = np.transpose(np.array([to_cluster_df.x_center, to_cluster_df.y_center, to_cluster_df.z_center]))\n",
    "\n",
    "    kmeans = KMeans(n_clusters=amount_of_clusters, random_state=1)\n",
    "    kmeans.fit(X)\n",
    "    \n",
    "    density_df.loc[density_df['to_cluster'], \"cluster\"] = kmeans.labels_\n",
    "    \n",
    "    return density_df, kmeans.cluster_centers_"
   ]
  },
  {
   "cell_type": "code",
   "execution_count": null,
   "metadata": {},
   "outputs": [],
   "source": [
    "def make_cluster_plot(avg_fragment, df, column, settings, centroids):\n",
    "    colors = [\"red\", \"green\", \"blue\"]\n",
    "    \n",
    "    df[\"cluster_color\"] = \"grey\"\n",
    "\n",
    "    df.loc[df[column].notna(), \"cluster_color\"] = [colors[int(i)] for i in list(df.loc[df[column].notna(), column])]\n",
    "    df = df[df[settings.to_count_contact + \"_normalized\"] > 0]\n",
    "\n",
    "    fig = plt.figure()\n",
    "    ax: Axes3D = fig.add_subplot(111, projection='3d')\n",
    "\n",
    "    ax = plot_fragment_colored(ax, avg_fragment)\n",
    "    \n",
    "    greys = df[df.cluster_color == \"grey\"]\n",
    "    rest = df[df.cluster_color != \"grey\"]\n",
    "    \n",
    "    for i, centroid in enumerate(centroids):\n",
    "        volume = len(df[df[column] == i]) * settings.resolution**3\n",
    "        ax.scatter(centroid[0], centroid[1], centroid[2], s=100,\\\n",
    "                    label=\"Cluster: \" + str(i+1), color=colors[i])\n",
    "    \n",
    "    ax.scatter(list(greys.x_center), list(greys.y_center), list(greys.z_center), s=0.1,\n",
    "               color=list(greys.cluster_color), alpha=0.75)\n",
    "\n",
    "    ax.scatter(list(rest.x_center), list(rest.y_center), list(rest.z_center),\n",
    "               color=list(rest.cluster_color))\n",
    "\n",
    "    ax.set_title(\"Clusters from density plot\\n Resolution: \" + str(settings.resolution))\n",
    "    \n",
    "    ax.set_xlim(-6, 6)\n",
    "    ax.set_ylim(-6, 6)\n",
    "    \n",
    "    ax.set_xlabel(\"X coordinate\")\n",
    "    ax.set_ylabel(\"Y coordinate\")\n",
    "    \n",
    "    ax.legend(fontsize='x-small')\n",
    "\n",
    "    plt.show()"
   ]
  },
  {
   "cell_type": "code",
   "execution_count": null,
   "metadata": {},
   "outputs": [],
   "source": [
    "def find_bins_to_cluster(settings, fraction=0.25):\n",
    "    \n",
    "    density_df = pd.read_hdf(settings.get_density_df_filename(), settings.get_density_df_key())\n",
    "    print(settings.get_density_df_filename(), settings.get_density_df_key())\n",
    "    \n",
    "    density_df[\"x_center\"] = density_df.xstart + 0.5 * settings.resolution\n",
    "    density_df[\"y_center\"] = density_df.ystart + 0.5 * settings.resolution\n",
    "    density_df[\"z_center\"] = density_df.zstart + 0.5 * settings.resolution\n",
    "    \n",
    "    # normalize\n",
    "    density_df.loc[:, settings.to_count_contact + \"_normalized\"] =\\\n",
    "        density_df[settings.to_count_contact] / density_df[settings.to_count_contact].sum()\n",
    "\n",
    "    # reset cluster color for when you run this cell again\n",
    "    density_df[\"cluster_color\"] = np.nan\n",
    "    \n",
    "    # set a threshold as to determine will belong to a cluster and which ones won't\n",
    "    # get the upper kwartant\n",
    "    max_bin = density_df[settings.to_count_contact].max()\n",
    "    threshold = max_bin * fraction\n",
    "    print(\"Threshold k-means:\", threshold, \"max_bin:\", max_bin, \"with fraction:\", fraction)\n",
    "  \n",
    "    density_df[\"cluster\"] = np.nan\n",
    "    density_df[\"to_cluster\"] = False\n",
    "    density_df.loc[density_df[settings.to_count_contact] > threshold, 'to_cluster'] = True\n",
    "    \n",
    "    return density_df"
   ]
  },
  {
   "cell_type": "code",
   "execution_count": null,
   "metadata": {
    "scrolled": true
   },
   "outputs": [],
   "source": [
    "amount_of_clusters = 3\n",
    "\n",
    "# set up cluster df to save all the clusters and their information in\n",
    "cluster_df = pd.DataFrame(index=range(0, len(resolutions) * amount_of_clusters),\\\n",
    "                           columns=[\"resolution\", \"cluster_id\", \"centroid_x\", \"centroid_y\", \"centroid_z\",\\\n",
    "                                    \"cluster_volume\", \"datafraction\"])\n",
    "\n",
    "cluster_count = 0\n",
    "\n",
    "for resolution in resolutions:\n",
    "    print(\"RESOLUTION: \", round(resolution, 2))\n",
    "    settings.set_resolution(round(resolution, 2))\n",
    "    \n",
    "    # work only with bins that are >0.25*maximum full\n",
    "    density_df = find_bins_to_cluster(settings=settings, fraction=0.3)\n",
    "        \n",
    "    # calc for each bin in what cluster it belongs\n",
    "    density_df, centroids = calc_clusters(density_df, amount_of_clusters)\n",
    "        \n",
    "    make_cluster_plot(avg_fragment, density_df, 'cluster', settings, centroids)\n",
    "       \n",
    "    for i, centroid in enumerate(centroids):\n",
    "        df = density_df\n",
    "\n",
    "        volume = len(df[df.cluster == i]) * (settings.resolution**3)\n",
    "        data_fraction = df[df.cluster == i][settings.to_count_contact + \"_normalized\"].sum()\n",
    "        \n",
    "        # specific for NO3 - XH\n",
    "        cluster_idx = 3\n",
    "        \n",
    "        if centroid[0] > 1.5:\n",
    "            cluster_idx = 1\n",
    "        elif centroid[1] < -0.5:\n",
    "            cluster_idx = 2\n",
    "\n",
    "        cluster_df.iloc[cluster_count] = [float(resolution), cluster_idx, centroid[0], centroid[1], centroid[2], volume, data_fraction]\n",
    "        \n",
    "        cluster_count +=1"
   ]
  },
  {
   "cell_type": "code",
   "execution_count": null,
   "metadata": {
    "scrolled": true
   },
   "outputs": [],
   "source": [
    "display(cluster_df)"
   ]
  },
  {
   "cell_type": "code",
   "execution_count": null,
   "metadata": {
    "scrolled": false
   },
   "outputs": [],
   "source": [
    "clusters = [[], [], []]\n",
    "\n",
    "fig = plt.figure(figsize=(5,5))\n",
    "ax = fig.add_subplot(1, 1, 1)\n",
    "\n",
    "plt.title(\"Centroid of the clusters for all resolutions\")\n",
    "\n",
    "\n",
    "colors = [\"green\", \"tab:green\", \"fuchsia\"]\n",
    "\n",
    "for _, centroid in cluster_df.iterrows():\n",
    "    ax.scatter(centroid.centroid_x, centroid.centroid_y, color=colors[int(centroid.cluster_id - 1)])\n",
    "    \n",
    "\n",
    "for _, row in avg_fragment.iterrows():\n",
    "    if row.atom_symbol == \"O\":\n",
    "        ax.scatter(row.atom_x, row.atom_y, edgecolor=\"black\", color=\"red\")\n",
    "    else:\n",
    "        ax.scatter(row.atom_x, row.atom_y, edgecolor=\"black\", color=\"grey\")\n",
    "\n",
    "plt.xlim(-2, 5)\n",
    "plt.ylim(-3, 4)\n",
    "plt.show()"
   ]
  },
  {
   "cell_type": "code",
   "execution_count": null,
   "metadata": {},
   "outputs": [],
   "source": [
    "cluster_df = cluster_df.astype('float')\n",
    "cluster_df[\"fraction_over_volume\"] = cluster_df[\"datafraction\"] / cluster_df[\"cluster_volume\"]"
   ]
  },
  {
   "cell_type": "code",
   "execution_count": null,
   "metadata": {
    "scrolled": false
   },
   "outputs": [],
   "source": [
    "plt.figure(figsize=(6,4))\n",
    "plt.title(\"Cluster volume\")\n",
    "for i in range(amount_of_clusters):\n",
    "    \n",
    "    plt.plot(cluster_df[cluster_df[\"cluster_id\"] == i + 1].resolution, \n",
    "             cluster_df[cluster_df[\"cluster_id\"] == i + 1].cluster_volume, \n",
    "             label=\"Cluster \" + str(i+1),\n",
    "             color=colors[i -1])\n",
    "\n",
    "plt.xlabel(\"Resolution\")\n",
    "plt.ylabel(\"Volume ($\\AA^{3}$)\")\n",
    "plt.legend()\n",
    "plt.show()"
   ]
  },
  {
   "cell_type": "code",
   "execution_count": null,
   "metadata": {},
   "outputs": [],
   "source": [
    "plt.figure(figsize=(6,4))\n",
    "plt.title(\"Datfraction per cluster\")\n",
    "for i in range(amount_of_clusters):\n",
    "    \n",
    "    plt.plot(cluster_df[cluster_df[\"cluster_id\"] == i + 1].resolution, \n",
    "             cluster_df[cluster_df[\"cluster_id\"] == i + 1].datafraction,\n",
    "             label=\"Cluster \" + str(i+1),\n",
    "             color=colors[i-1])\n",
    "\n",
    "plt.legend()\n",
    "plt.xlabel(\"Resolution\")\n",
    "plt.ylabel(\"Fraction\")\n",
    "plt.show()"
   ]
  },
  {
   "cell_type": "code",
   "execution_count": null,
   "metadata": {},
   "outputs": [],
   "source": [
    "plt.figure(figsize=(5,4))\n",
    "plt.title(\"Fraction over volume\")\n",
    "for i in range(amount_of_clusters):\n",
    "    \n",
    "    plt.plot(cluster_df[cluster_df[\"cluster_id\"] == i + 1].resolution, \n",
    "             cluster_df[cluster_df[\"cluster_id\"] == i + 1].fraction_over_volume,\n",
    "             label=\"Cluster \" + str(i+1),\n",
    "             color=colors[i-1])\n",
    "\n",
    "plt.legend()\n",
    "plt.xlabel(\"Resolution\")\n",
    "plt.ylabel(\"Fraction over volume ($\\AA^{-3}$)\")\n",
    "plt.show()"
   ]
  },
  {
   "cell_type": "markdown",
   "metadata": {},
   "source": [
    "# General: make function for Directionality Calculation"
   ]
  },
  {
   "cell_type": "code",
   "execution_count": null,
   "metadata": {},
   "outputs": [],
   "source": [
    "def recluster(df, settings, recluster_frac):\n",
    "    amount = settings.to_count_contact\n",
    "    \n",
    "    unique_clusters = df.cluster.dropna().unique()\n",
    "\n",
    "    df[\"new_cluster\"] = np.nan\n",
    "    \n",
    "    fullest_bin = []\n",
    "    for cluster_id in unique_clusters:\n",
    "        \n",
    "        max_bin = df[df.cluster == cluster_id][amount].max()\n",
    "        \n",
    "        # add old bins that are full enough when using local maximum\n",
    "        fraction = max_bin * recluster_frac\n",
    "        print(\"Cluster id: \" + str(cluster_id), \" max bin: \" + str(max_bin) + \" fraction for this bin: \", fraction)\n",
    "        df.loc[((df.cluster == cluster_id) & (df[amount] > fraction)), 'new_cluster'] = cluster_id      \n",
    "            \n",
    "        # add bins in \"x\" radius around the local maximums\n",
    "        new_found = True\n",
    "        \n",
    "        # search 1 bins further in all directions\n",
    "        radius = settings.resolution\n",
    "        \n",
    "        # while new bins that belong to the cluster are found, keep expanding\n",
    "        while new_found:\n",
    "            old_length = len(df[df.new_cluster == cluster_id])\n",
    "            \n",
    "            for _, row in df[df.new_cluster == cluster_id].iterrows():\n",
    "                df.loc[(df.x_center > row.x_center - radius) & (df.x_center < row.x_center + radius) & \n",
    "                    (df.y_center > row.y_center - radius) & (df.y_center < row.y_center + radius) &\n",
    "                    (df.z_center > row.z_center - radius) & (df.z_center < row.z_center + radius) &\n",
    "                    (df[amount] > fraction) & (df.new_cluster.isna()), 'new_cluster'] = cluster_id\n",
    "                \n",
    "            new_length = len(df[df.new_cluster == cluster_id])\n",
    "            \n",
    "            if new_length <= old_length:\n",
    "                new_found = False\n",
    "        \n",
    "    return df"
   ]
  },
  {
   "cell_type": "code",
   "execution_count": null,
   "metadata": {},
   "outputs": [],
   "source": [
    "def calc_directionality(central, contact, to_count_contact, resolution, k, kmeans_frac, recluster_frac):\n",
    "    settings = Settings(\".\\\\results\\\\NO3\\\\NO3_XH_vdw.5\\\\NO3_XH_vdw.5_aligned.csv\")\n",
    "    settings.set_atom_to_count(to_count_contact)\n",
    "    settings.set_resolution(round(0.2, 2))\n",
    "\n",
    "    amount_of_clusters = 3\n",
    "\n",
    "    cluster_count = 0\n",
    "\n",
    "    # work only with bins that are >0.25*maximum full\n",
    "    density_df = find_bins_to_cluster(settings=settings, fraction=0.25)\n",
    "\n",
    "    # calc for each bin in what cluster it belongs\n",
    "    density_df, _ = calc_clusters(density_df, amount_of_clusters)\n",
    "    density_df.drop(columns=[\"to_cluster\"])\n",
    "    \n",
    "    # find the volume of the central group\n",
    "    tolerance = 0.5\n",
    "\n",
    "    df = read_results_alignment(settings.get_aligned_csv_filename())\n",
    "    avg_fragment = make_avg_fragment_if_not_exists(settings, df)\n",
    "\n",
    "    coordinate_df = make_coordinate_df(df, settings, avg_fragment)\n",
    "\n",
    "    contact_radius = get_vdw_distance_contact(coordinate_df, settings)\n",
    "\n",
    "    available_volume = find_available_volume(avg_fragment=avg_fragment, extra=(tolerance + contact_radius))\n",
    "    \n",
    "    print(\"\\nRecluster\")\n",
    "    density_df = recluster(density_df, settings, recluster_frac)\n",
    "        \n",
    "    return density_df, available_volume"
   ]
  },
  {
   "cell_type": "code",
   "execution_count": null,
   "metadata": {},
   "outputs": [],
   "source": [
    "density_df, V_available = calc_directionality(central=\"NO3\",\n",
    "                                              contact=\"XH\",\n",
    "                                              to_count_contact=\"H\",\n",
    "                                              resolution=0.2, \n",
    "                                              k=3, \n",
    "                                              kmeans_frac=0.25,\n",
    "                                              recluster_frac=0.25)\n",
    "\n",
    "display(density_df)\n",
    "print(\"Available volume:\", V_available)"
   ]
  },
  {
   "cell_type": "code",
   "execution_count": null,
   "metadata": {},
   "outputs": [],
   "source": [
    "unique_clusters = density_df.cluster.dropna().unique()"
   ]
  },
  {
   "cell_type": "code",
   "execution_count": null,
   "metadata": {},
   "outputs": [],
   "source": [
    "print('Cluster ID, Volume, DataFraction Datafraction/Volume, Datafraction/Volume * available volume')\n",
    "# print result for comparance\n",
    "for cluster_id in unique_clusters:\n",
    "    volume = len(density_df[density_df.cluster == cluster_id]) * (0.2**3)\n",
    "    data_fraction = density_df[density_df.cluster == cluster_id][settings.to_count_contact + \"_normalized\"].sum()\n",
    "    \n",
    "    print(cluster_id +1,  round(volume,4), round(data_fraction,4), round(data_fraction/volume,4), round(data_fraction/volume * V_available,4))\n",
    "\n",
    "print(\"\\nReclustered\")\n",
    "for cluster_id in unique_clusters:\n",
    "    volume = len(density_df[density_df.new_cluster == cluster_id]) * (0.2**3)\n",
    "    data_fraction = density_df[density_df.new_cluster == cluster_id][settings.to_count_contact + \"_normalized\"].sum()\n",
    "    \n",
    "    print(cluster_id+1,  round(volume,4), round(data_fraction,4), round(data_fraction/volume,4), round(data_fraction/volume * V_available,4))"
   ]
  },
  {
   "cell_type": "code",
   "execution_count": null,
   "metadata": {},
   "outputs": [],
   "source": [
    "make_cluster_plot(avg_fragment, density_df, 'cluster', settings, centroids)\n",
    "make_cluster_plot(avg_fragment, density_df, 'new_cluster', settings, centroids)"
   ]
  },
  {
   "cell_type": "code",
   "execution_count": null,
   "metadata": {},
   "outputs": [],
   "source": [
    "def show_directionality(avg_fragment, df, column, settings, available_volume):\n",
    "    colors = [\"red\", \"green\", \"blue\"]\n",
    "    \n",
    "    df[\"cluster_color\"] = \"grey\"\n",
    "\n",
    "    df.loc[df[column].notna(), \"cluster_color\"] = [colors[int(i)] for i in list(df.loc[df[column].notna(), column])]\n",
    "    df = df[df[settings.to_count_contact + \"_normalized\"] > 0]\n",
    "\n",
    "    fig = plt.figure(figsize=(8,8))\n",
    "    ax: Axes3D = fig.add_subplot(111, projection='3d')\n",
    "\n",
    "    rest = df[df.cluster_color != \"grey\"]\n",
    "    \n",
    "    for cluster_id in df[column].dropna().unique():\n",
    "        points = df[df[column] == cluster_id]\n",
    "        firstpoint = points.iloc[0]\n",
    "        volume = len(points) * settings.resolution**3\n",
    "        fraction = points[settings.to_count_contact + \"_normalized\"].sum()\n",
    "        directionality = fraction/volume * available_volume\n",
    "        \n",
    "        ax.scatter(firstpoint.x_center, firstpoint.y_center, firstpoint.z_center,\\\n",
    "                    label=\"Cluster: \" + str(cluster_id) + \" Directionality:\" + str(round(directionality, 2)),\\\n",
    "                    color=firstpoint.cluster_color)\n",
    "    \n",
    "    ax.scatter(list(rest.x_center), list(rest.y_center), list(rest.z_center),\n",
    "               color=list(rest.cluster_color))\n",
    "    \n",
    "    # plot the average fragment\n",
    "    ax = plot_fragment_colored(ax, avg_fragment)\n",
    "\n",
    "    ax.set_title(\"Clusters \" + settings.central_group_name + \"-\" + settings.contact_group_name + \", resolution: \" + str(settings.resolution))\n",
    "    \n",
    "    ax.set_xlim(-6, 6)\n",
    "    ax.set_ylim(-6, 6)\n",
    "    \n",
    "    ax.set_xlabel(\"X coordinate\")\n",
    "    ax.set_ylabel(\"Y coordinate\")\n",
    "    \n",
    "    ax.legend(fontsize='x-small')\n",
    "    \n",
    "    elev = 91\n",
    "    azim = 89\n",
    "    ax.view_init(elev, azim)\n",
    "\n",
    "    plt.show()"
   ]
  },
  {
   "cell_type": "code",
   "execution_count": null,
   "metadata": {
    "scrolled": false
   },
   "outputs": [],
   "source": [
    "settings.set_resolution(0.2)\n",
    "\n",
    "show_directionality(avg_fragment, density_df, 'cluster', settings, V_available)\n",
    "show_directionality(avg_fragment, density_df, 'new_cluster', settings, V_available)"
   ]
  },
  {
   "cell_type": "code",
   "execution_count": null,
   "metadata": {},
   "outputs": [],
   "source": []
  },
  {
   "cell_type": "code",
   "execution_count": null,
   "metadata": {},
   "outputs": [],
   "source": []
  },
  {
   "cell_type": "markdown",
   "metadata": {},
   "source": [
    "# Azimuth, elevation test"
   ]
  },
  {
   "cell_type": "code",
   "execution_count": null,
   "metadata": {},
   "outputs": [],
   "source": [
    "# ****************************************************************************\n",
    "# *                               Create data                                *\n",
    "# ****************************************************************************\n",
    "np.random.seed(11)\n",
    "n = 200\n",
    "x = y = np.linspace(-10, 10, n)\n",
    "z = np.random.randn(n)*3 + 2\n",
    "\n",
    "\n",
    "# ****************************************************************************\n",
    "# *                                 Plot data                                *\n",
    "# ****************************************************************************\n",
    "fig = plt.figure()\n",
    "ax = fig.add_subplot(111, projection='3d')\n",
    "ax.scatter(x, y, z)\n",
    "ax.set_xlabel('x')\n",
    "ax.set_ylabel('y')\n",
    "ax.set_zlabel('z')\n",
    "\n",
    "# # If we knew what angles we wanted to set, these lines will set it\n",
    "\n",
    "\n",
    "# Show the figure, adjust it with the mouse\n",
    "plt.show()\n",
    "\n",
    "# Once the figure is closed, the azimutal angle and the elevation will\n",
    "# be printed. They may be used as input for ax.view_init(elev, azim)\n",
    "print('ax.azim {}'.format(ax.azim))\n",
    "print('ax.elev {}'.format(ax.elev))"
   ]
  },
  {
   "cell_type": "code",
   "execution_count": null,
   "metadata": {},
   "outputs": [],
   "source": []
  }
 ],
 "metadata": {
  "kernelspec": {
   "display_name": "Python 3",
   "language": "python",
   "name": "python3"
  },
  "language_info": {
   "codemirror_mode": {
    "name": "ipython",
    "version": 3
   },
   "file_extension": ".py",
   "mimetype": "text/x-python",
   "name": "python",
   "nbconvert_exporter": "python",
   "pygments_lexer": "ipython3",
   "version": "3.7.8"
  }
 },
 "nbformat": 4,
 "nbformat_minor": 4
}
