{
 "cells": [
  {
   "cell_type": "markdown",
   "metadata": {},
   "source": [
    "# Labels\n",
    "- Throw away some of the atoms\n",
    "        - For example H atoms in RCOMe\n",
    "    \n",
    "- Treat some atoms as R\n",
    "        - For example the two C atoms in ArCI\n",
    "        \n",
    "First, plot the first fragments and their labels.      \n"
   ]
  },
  {
   "cell_type": "code",
   "execution_count": null,
   "metadata": {},
   "outputs": [],
   "source": [
    "%matplotlib notebook\n",
    "import pandas as pd\n",
    "import matplotlib.pyplot as plt\n",
    "import numpy as np"
   ]
  },
  {
   "cell_type": "code",
   "execution_count": null,
   "metadata": {},
   "outputs": [],
   "source": [
    "central_groups = [\"RCOMe\", \"RNO2\", \"ArCI\", \"NO3\", \"RC6F5\", \"H2O\", \"RC6H5\"]\n",
    "contact_groups = [\"ArCH\", \"C2CH2\", \"CCH3\", \"CF\", \"R2CO\", \"RC6H5\", \"RCN\", \"XH\", \"XH\"]\n",
    "to_count =       [\"H\",    \"H\",      \"H\",   \"F\", \"O\",     \"centroid\", \"N\", \"H\", \"O\"]"
   ]
  },
  {
   "cell_type": "code",
   "execution_count": null,
   "metadata": {},
   "outputs": [],
   "source": [
    "def plot_fragment_with_labels(central_group, contact_group):\n",
    "    datafile = \"..\\\\data\\\\\" + central_group + \"\\\\\" + central_group + \"_\" + contact_group + \"_vdw.5.cor\"\n",
    "    csvfile =  \"..\\\\data\\\\\" + central_group + \"\\\\\" + central_group + \"_\" + contact_group + \"_vdw.5.csv\"\n",
    "\n",
    "    fp = open(csvfile)\n",
    "    labels = fp.readline().strip().split(',')\n",
    "    atoms = fp.readline().strip().split(',')\n",
    "    fp.close()\n",
    "\n",
    "    to_delete = []\n",
    "    for i in range(len(labels)):\n",
    "        if not \"LAB\" in labels[i]:\n",
    "            to_delete.append(i)\n",
    "\n",
    "    for i in reversed(to_delete):\n",
    "        del labels[i]\n",
    "        del atoms[i]\n",
    "        \n",
    "    print(labels, '\\n', atoms)\n",
    "\n",
    "    fp = open(datafile)\n",
    "    line = fp.readline()\n",
    "    line = fp.readline()\n",
    "\n",
    "    firstfragment = True\n",
    "    dictionary = {}\n",
    "\n",
    "    while firstfragment:                 \n",
    "        information = line.split()\n",
    "        x, y, z = float(information[1]), float(information[2]), float(information[3])\n",
    "        dictionary[information[0]] = [x,y,z]\n",
    "\n",
    "        line = fp.readline()\n",
    "        \n",
    "        if \"**FRAG**\" in line:\n",
    "            firstfragment = False\n",
    "\n",
    "    fp.close()\n",
    "\n",
    "    fig = plt.figure()\n",
    "    ax: Axes3D = fig.add_subplot(111, projection='3d')\n",
    "\n",
    "    for i, atom in enumerate(atoms):\n",
    "        x,y,z = dictionary[atom][0], dictionary[atom][1], dictionary[atom][2]\n",
    "        \n",
    "        if 'H' in atom:\n",
    "            color = 'grey'\n",
    "            label = 'H'\n",
    "        elif 'O' in atom:\n",
    "            color='red'\n",
    "            label = 'O'\n",
    "        elif 'F' in atom:\n",
    "            color='orchid'\n",
    "            label = 'F'\n",
    "        elif 'N' in atom:\n",
    "            color='blue'\n",
    "            label = 'N'\n",
    "        else:\n",
    "            color = 'black'\n",
    "            label ='C'\n",
    "\n",
    "        ax.scatter(x,y,z, color=color)\n",
    "\n",
    "        ax.text(x+0.01, y+0.01, z+0.01, labels[i])\n",
    "\n",
    "        \n",
    "    # Hide grid lines\n",
    "    ax.grid(False)\n",
    "\n",
    "    # Hide axes ticks\n",
    "    ax.set_xticks([])\n",
    "    ax.set_yticks([])\n",
    "    ax.set_zticks([])\n",
    "    \n",
    "    ax.axis('off')\n",
    "#     ax.set_xlabel('X axis')\n",
    "#     ax.set_ylabel('Y axis')\n",
    "#     ax.set_zlabel('Z axis')\n",
    "\n",
    "    plt.title(central_group + \"-\" + contact_group)\n",
    "    plt.show()"
   ]
  },
  {
   "cell_type": "code",
   "execution_count": null,
   "metadata": {
    "scrolled": true
   },
   "outputs": [],
   "source": [
    "for central_group in central_groups:\n",
    "    if central_group == \"RC6H5\" and contact_group == \"RC6H5\" or central_group == \"RC6H5\" and contact_group == \"ArCH\":\n",
    "        continue\n",
    "\n",
    "    plot_fragment_with_labels(central_group, \"CF\")"
   ]
  },
  {
   "cell_type": "markdown",
   "metadata": {},
   "source": [
    "### Now plot the things as how the \"user\" has defined them\n",
    "In reality, this is still a script, but it could be implemented in a GUI."
   ]
  },
  {
   "cell_type": "code",
   "execution_count": null,
   "metadata": {},
   "outputs": [],
   "source": [
    "definitions = pd.read_csv('../data/central_groups.csv')\n",
    "display(definitions)"
   ]
  },
  {
   "cell_type": "code",
   "execution_count": null,
   "metadata": {},
   "outputs": [],
   "source": [
    "def plot_fragment_with_user_labels(central_group, contact_group, definitions):\n",
    "    row = definitions.loc[definitions.name == central_group]\n",
    "    print(row)\n",
    "    \n",
    "    datafile = \"..\\\\data\\\\\" + central_group + \"\\\\\" + central_group + \"_\" + contact_group + \"_vdw.5.cor\"\n",
    "    csvfile =  \"..\\\\data\\\\\" + central_group + \"\\\\\" + central_group + \"_\" + contact_group + \"_vdw.5.csv\"\n",
    "\n",
    "    fp = open(csvfile)\n",
    "    labels = fp.readline().strip().split(',')\n",
    "    atoms = fp.readline().strip().split(',')\n",
    "    fp.close()\n",
    "\n",
    "    to_delete = []\n",
    "    for i in range(len(labels)):\n",
    "        if not \"LAB\" in labels[i]:\n",
    "            to_delete.append(i)\n",
    "\n",
    "    for i in reversed(to_delete):\n",
    "        del labels[i]\n",
    "        del atoms[i]\n",
    "        \n",
    "    print(labels, '\\n', atoms)\n",
    "\n",
    "    fp = open(datafile)\n",
    "    line = fp.readline()\n",
    "    line = fp.readline()\n",
    "\n",
    "    firstfragment = True\n",
    "    dictionary = {}\n",
    "\n",
    "    while firstfragment:                 \n",
    "        information = line.split()\n",
    "        x, y, z = float(information[1]), float(information[2]), float(information[3])\n",
    "        dictionary[information[0]] = [x,y,z]\n",
    "\n",
    "        line = fp.readline()\n",
    "        \n",
    "        if \"**FRAG**\" in line:\n",
    "            firstfragment = False\n",
    "\n",
    "    fp.close()\n",
    "\n",
    "    fig = plt.figure()\n",
    "    ax: Axes3D = fig.add_subplot(111, projection='3d')\n",
    "\n",
    "    for i, atom in enumerate(atoms):\n",
    "        x,y,z = dictionary[atom][0], dictionary[atom][1], dictionary[atom][2]\n",
    "                \n",
    "        if labels[i].strip() in row.bin.item().split('-'):\n",
    "            ax.scatter(x,y,z, color='grey', marker='x')\n",
    "        elif labels[i].strip() in row.R.item().split('-'):\n",
    "            ax.scatter(x,y,z, color='lightgreen', marker='o')\n",
    "        else:\n",
    "            ax.scatter(x,y,z, color='blue')\n",
    "            \n",
    "        ax.text(x+0.01, y+0.01, z+0.01, labels[i])\n",
    "\n",
    "    ax.set_xlabel('X axis')\n",
    "    ax.set_ylabel('Y axis')\n",
    "    ax.set_zlabel('Z axis')\n",
    "\n",
    "    plt.title(central_group + \"-\" + contact_group)\n",
    "    plt.show()"
   ]
  },
  {
   "cell_type": "code",
   "execution_count": null,
   "metadata": {
    "scrolled": false
   },
   "outputs": [],
   "source": [
    "for central_group in central_groups:\n",
    "    if central_group == \"RC6H5\" and contact_group == \"RC6H5\" or central_group == \"RC6H5\" and contact_group == \"ArCH\":\n",
    "        continue\n",
    "\n",
    "    plot_fragment_with_user_labels(central_group, \"CF\", definitions)"
   ]
  },
  {
   "cell_type": "code",
   "execution_count": null,
   "metadata": {},
   "outputs": [],
   "source": []
  }
 ],
 "metadata": {
  "kernelspec": {
   "display_name": "Python 3",
   "language": "python",
   "name": "python3"
  },
  "language_info": {
   "codemirror_mode": {
    "name": "ipython",
    "version": 3
   },
   "file_extension": ".py",
   "mimetype": "text/x-python",
   "name": "python",
   "nbconvert_exporter": "python",
   "pygments_lexer": "ipython3",
   "version": "3.7.8"
  }
 },
 "nbformat": 4,
 "nbformat_minor": 4
}
