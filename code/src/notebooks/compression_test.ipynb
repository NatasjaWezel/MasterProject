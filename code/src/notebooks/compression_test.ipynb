{
 "cells": [
  {
   "cell_type": "code",
   "execution_count": null,
   "metadata": {},
   "outputs": [],
   "source": [
    "import sys\n",
    "\n",
    "sys.path.append('..//scripts//')"
   ]
  },
  {
   "cell_type": "code",
   "execution_count": null,
   "metadata": {},
   "outputs": [],
   "source": [
    "%matplotlib notebook\n",
    "import matplotlib\n",
    "import matplotlib.pyplot as plt\n",
    "from mpl_toolkits.mplot3d import Axes3D\n",
    "\n",
    "import os\n",
    "import time\n",
    "import numpy as np\n",
    "import csv\n",
    "import pandas as pd\n",
    "\n",
    "from helpers.geometry_helpers import average_fragment\n",
    "\n",
    "from helpers.density_helpers import count_points_per_square, prepare_df\n",
    "from constants.paths import WORKDIR, RADII_CSV\n",
    "from classes.Settings import Settings, Radii"
   ]
  },
  {
   "cell_type": "code",
   "execution_count": null,
   "metadata": {
    "scrolled": true
   },
   "outputs": [],
   "source": [
    "volumes_free = pd.read_csv('../../results/volumes_free.csv')\n",
    "display(volumes_free)"
   ]
  },
  {
   "cell_type": "code",
   "execution_count": null,
   "metadata": {},
   "outputs": [],
   "source": [
    "def sample_df(amount, df):\n",
    "    \"\"\" deze functie pakt aantal/percentage random uit lijst \"\"\"\n",
    "    \n",
    "    df = df.sample(n=amount)\n",
    "    \n",
    "    return df"
   ]
  },
  {
   "cell_type": "code",
   "execution_count": null,
   "metadata": {
    "scrolled": true
   },
   "outputs": [],
   "source": [
    "central_group = \"H2O\"\n",
    "\n",
    "contact_group = \"XH\"\n",
    "to_count = \"O\"\n",
    "\n",
    "runs = 1000\n",
    "\n",
    "amounts = np.arange(50000, 150000, 50000)\n",
    "\n",
    "resolution = 0.50\n",
    "cluster_frac = 0.25\n",
    "volumes = volumes_free\n",
    "\n",
    "datafile = \"..\\\\data\\\\\" + central_group + \"\\\\\" + central_group + \"_\" + contact_group + \"_vdw.5.cor\"\n",
    "\n",
    "# settings for filenames etc.\n",
    "settings = Settings(WORKDIR, datafile)\n",
    "settings.set_atom_to_count(to_count)\n",
    "settings.set_resolution(round(resolution, 2))\n",
    "\n",
    "df = pd.read_csv(settings.get_structure_csv_filename())\n",
    "coordinate_df = pd.read_hdf(settings.get_coordinate_df_filename(), settings.get_coordinate_df_key())\n",
    "aligned_fragments_df = pd.read_csv(settings.get_aligned_csv_filename())\n",
    "\n",
    "for amount in amounts:\n",
    "   \n",
    "    for i, run in enumerate(range(runs)):\n",
    "        sampled_df = sample_df(amount, df)\n",
    "\n",
    "        structure_indices = sampled_df.index.to_list()\n",
    "\n",
    "        # select rows from dfs\n",
    "        coordinate_sampled = coordinate_df[coordinate_df.fragment_id.isin(structure_indices)]\n",
    "        aligned_sampled = aligned_fragments_df[(aligned_fragments_df.fragment_id.isin(structure_indices)) & (aligned_fragments_df.label != \"-\")]\n",
    "\n",
    "        # make radii object to get vdw radii\n",
    "        radii = Radii(RADII_CSV)\n",
    "\n",
    "        # calc new avg fragment\n",
    "        fragment = average_fragment(aligned_sampled, settings, radii)\n",
    "        \n",
    "        key = \"resolution\" + str(resolution).replace('.', '') + \"compression\" + str(amount) + \"i\" + str(i)\n",
    "        try:\n",
    "            \n",
    "            density_df = pd.read_hdf(\"compression_test_H2O_XH_O.hdf\", key)\n",
    "            print(\"Density df already existed, loaded from file\")\n",
    "            \n",
    "            continue\n",
    "        except (FileNotFoundError, KeyError):\n",
    "            empty_density_df = prepare_df(df=coordinate_sampled, settings=settings)\n",
    "            density_df = count_points_per_square(df=empty_density_df, contact_points_df=coordinate_sampled, settings=settings)\n",
    "            density_df.to_hdf(\"compression_test_H2O_XH_O.hdf\", key)\n",
    "\n",
    "        density_df['datafrac_normalized'] = density_df[to_count] / density_df[to_count].sum()\n",
    "\n",
    "        threshold = density_df.datafrac_normalized.max() * cluster_frac\n",
    "\n",
    "        in_cluster = density_df[density_df.datafrac_normalized >= threshold]\n",
    "        Vavailable = volumes.loc[(volumes.central == central_group) & (volumes.contact == contact_group) & (volumes.to_count == to_count), 'volume'].item()  \n",
    "        \n",
    "        datafrac = in_cluster.datafrac_normalized.sum()\n",
    "        Vcluster = len(in_cluster) * resolution**3\n",
    "\n",
    "        directionality = datafrac / Vcluster * Vavailable        \n",
    "        \n",
    "        with open('results.csv', 'a', newline=\"\") as resultsfile:\n",
    "            writer = csv.writer(resultsfile)\n",
    "            writer.writerow([amount, directionality])\n",
    "        \n",
    "        print(i, run, directionality)"
   ]
  },
  {
   "cell_type": "markdown",
   "metadata": {
    "scrolled": true
   },
   "source": [
    "# Check CI intervals"
   ]
  },
  {
   "cell_type": "code",
   "execution_count": null,
   "metadata": {},
   "outputs": [],
   "source": [
    "df = pd.read_csv('results.csv', header=None)\n",
    "df.columns = [\"datapoints\", \"directionality\"]\n",
    "df = df[~df.index.isin(df[df.datapoints == 350000][1000:].index)]\n",
    "df = df[~df.index.isin(df[df.datapoints == 400000][1000:].index)]\n",
    "\n",
    "display(df)"
   ]
  },
  {
   "cell_type": "code",
   "execution_count": null,
   "metadata": {},
   "outputs": [],
   "source": [
    "stats = df.groupby(\"datapoints\").agg([\"count\", \"std\", \"mean\"]).reset_index()\n",
    "stats.columns = [\"datapoints\", \"count\", \"std\", \"average\"]\n",
    "\n",
    "ci95_hi = []\n",
    "ci95_lo = []\n",
    "\n",
    "ci99_hi = []\n",
    "ci99_lo = []\n",
    "\n",
    "for i, row in stats.iterrows():\n",
    "    count, std, mean = float(row[\"count\"]), float(row[\"std\"]), float(row[\"average\"])\n",
    "    ci95_hi.append(mean + 1.96*std/np.sqrt(count))\n",
    "    ci95_lo.append(mean - 1.96*std/np.sqrt(count))\n",
    "    \n",
    "    ci99_hi.append(mean + 2.58*std/np.sqrt(count))\n",
    "    ci99_lo.append(mean - 2.58*std/np.sqrt(count))\n",
    "\n",
    "stats['ci95_hi'] = ci95_hi\n",
    "stats['ci95_lo'] = ci95_lo\n",
    "\n",
    "stats['ci99_hi'] = ci99_hi\n",
    "stats['ci99_lo'] = ci99_lo\n",
    "\n",
    "stats"
   ]
  },
  {
   "cell_type": "code",
   "execution_count": null,
   "metadata": {},
   "outputs": [],
   "source": [
    "fig, ax = plt.subplots(figsize=(6,3))\n",
    "fig.subplots_adjust(bottom=0.17)\n",
    "\n",
    "plt.title(\"Compression algorithm 99% confidence intervals\")\n",
    "plt.grid(True)\n",
    "plt.xlabel(\"Amount of random datapoints (*10000)\")\n",
    "plt.ylabel(\"Directionality\")\n",
    "\n",
    "ax.errorbar(stats.datapoints, stats.average, fmt='o', yerr=(stats.average - stats.ci99_lo), color='rebeccapurple', capsize=5)\n",
    "labels = [5, 10, 15, 20, 25, 30, 35, 40, 45, 50]\n",
    "ax.set_xticks([x*10000 for x in labels])\n",
    "ax.set_xticklabels(labels=labels)\n",
    "\n",
    "plt.show()\n",
    "plt.savefig('../../results/CI_compression_H2O_XH_H.png')\n",
    "# ax.fill_between(stats.datapoints, stats.ci95_lo, stats.ci95_hi, color='r', alpha=.1)\n",
    "# ax.fill_between(stats.datapoints, stats.ci99_lo, stats.ci99_hi, color='b', alpha=.1)"
   ]
  },
  {
   "cell_type": "code",
   "execution_count": null,
   "metadata": {},
   "outputs": [],
   "source": [
    "fig, ax = plt.subplots()\n",
    "\n",
    "plt.title(\"Compression algorithm 99% confidence intervals\")\n",
    "plt.grid(True)\n",
    "plt.xlabel(\"Amount of random datapoints (*10000)\")\n",
    "plt.ylabel(\"Directionality\")\n",
    "\n",
    "ax.scatter(stats.datapoints, stats.average, color=\"rebeccapurple\")\n",
    "ax.plot(stats.datapoints, stats.average, color=\"rebeccapurple\")\n",
    "\n",
    "ax.fill_between(stats.datapoints, stats.ci95_lo, stats.ci95_hi, color='purple', alpha=.2, label=\"99% CI\")\n",
    "ax.fill_between(stats.datapoints, stats.ci99_lo, stats.ci99_hi, color='yellow', alpha=.2, label=\"95% CI\")\n",
    "\n",
    "labels = [5, 10, 15, 20, 25, 30, 35, 40, 45, 50]\n",
    "ax.set_xticks([x*10000 for x in labels])\n",
    "ax.set_xticklabels(labels=labels)\n",
    "\n",
    "plt.legend()\n",
    "plt.show()\n",
    "\n",
    "plt.savefig('../../results/CI_compression_filled_H2O_XH_H.png')\n"
   ]
  },
  {
   "cell_type": "code",
   "execution_count": null,
   "metadata": {},
   "outputs": [],
   "source": []
  }
 ],
 "metadata": {
  "kernelspec": {
   "display_name": "Python 3",
   "language": "python",
   "name": "python3"
  },
  "language_info": {
   "codemirror_mode": {
    "name": "ipython",
    "version": 3
   },
   "file_extension": ".py",
   "mimetype": "text/x-python",
   "name": "python",
   "nbconvert_exporter": "python",
   "pygments_lexer": "ipython3",
   "version": "3.7.8"
  }
 },
 "nbformat": 4,
 "nbformat_minor": 4
}
