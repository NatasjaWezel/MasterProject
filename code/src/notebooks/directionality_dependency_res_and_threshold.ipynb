{
 "cells": [
  {
   "cell_type": "code",
   "execution_count": null,
   "metadata": {},
   "outputs": [],
   "source": [
    "import sys\n",
    "import csv\n",
    "import os\n",
    "\n",
    "sys.path.append('..//scripts//')\n",
    "\n",
    "from helpers.density_helpers import find_available_volume, prepare_df\n",
    "from classes.Settings import Settings, Radii\n",
    "\n",
    "from constants.paths import WORKDIR, RADII_CSV\n",
    "\n",
    "central_groups = [\"H2O\", \"ArCI\", \"REt\", \"RNO2\", \"RCOMe\", \"NO3\", \"RC6F5\", \"RC6H5\"]\n",
    "contact_groups = [\"ArCH\", \"C2CH2\", \"CCH3\", \"CF\", \"R2CO\", \"RC6H5\", \"RCN\", \"XH\", \"XH\"]\n",
    "to_count =       [\"H\",    \"H\",      \"H\",   \"F\", \"O\",     \"centroid\", \"N\", \"H\", \"O\"]"
   ]
  },
  {
   "cell_type": "code",
   "execution_count": null,
   "metadata": {},
   "outputs": [],
   "source": [
    "%matplotlib notebook\n",
    "import pandas as pd\n",
    "\n",
    "import matplotlib\n",
    "import matplotlib.pyplot as plt\n",
    "\n",
    "import numpy as np"
   ]
  },
  {
   "cell_type": "code",
   "execution_count": null,
   "metadata": {},
   "outputs": [],
   "source": [
    "def calc_directionality(to_count_contact, contact_group, central_group, cluster_frac, resolution, volumes):\n",
    "\n",
    "    datafile = \"..\\\\data\\\\\" + central_group + \"\\\\\" + central_group + \"_\" + contact_group + \"_vdw.5.cor\"\n",
    "\n",
    "    settings = Settings('..\\..', datafile)\n",
    "    settings.set_atom_to_count(to_count_contact)\n",
    "    settings.set_resolution(resolution)\n",
    "\n",
    "    density_df = pd.read_hdf(settings.get_density_df_filename(), settings.get_density_df_key())\n",
    "\n",
    "    density_df['datafrac_normalized'] = density_df[to_count_contact] / density_df[to_count_contact].sum()\n",
    "\n",
    "    threshold = density_df.datafrac_normalized.max() * cluster_frac\n",
    "    in_cluster = density_df[density_df.datafrac_normalized >= threshold]\n",
    "\n",
    "    Vavailable = volumes.loc[(volumes.central == central_group) & (volumes.contact == contact_group) & (volumes.to_count == to_count_contact), 'volume'].item()  \n",
    "\n",
    "    datafrac = in_cluster.datafrac_normalized.sum()\n",
    "    Vcluster = len(in_cluster) * resolution**3\n",
    "\n",
    "    directionality = datafrac / Vcluster * Vavailable\n",
    "\n",
    "    return directionality\n"
   ]
  },
  {
   "cell_type": "code",
   "execution_count": null,
   "metadata": {},
   "outputs": [],
   "source": [
    "def points_in_cluster(to_count_contact, contact_group, central_group, cluster_frac, resolution):\n",
    "\n",
    "    datafile = \"..\\\\data\\\\\" + central_group + \"\\\\\" + central_group + \"_\" + contact_group + \"_vdw.5.cor\"\n",
    "\n",
    "    settings = Settings('..\\..', datafile)\n",
    "    settings.set_atom_to_count(to_count_contact)\n",
    "    settings.set_resolution(resolution)\n",
    "\n",
    "    density_df = pd.read_hdf(settings.get_density_df_filename(), settings.get_density_df_key())\n",
    "\n",
    "    density_df['datafrac_normalized'] = density_df[to_count_contact] / density_df[to_count_contact].sum()\n",
    "\n",
    "    threshold = density_df.datafrac_normalized.max() * cluster_frac\n",
    "    in_cluster = density_df[density_df.datafrac_normalized >= threshold]\n",
    "    \n",
    "    return in_cluster.datafrac_normalized.sum(), in_cluster[to_count_contact].sum()\n"
   ]
  },
  {
   "cell_type": "code",
   "execution_count": null,
   "metadata": {},
   "outputs": [],
   "source": [
    "volumes_total = pd.read_csv('../../results/volumes_total.csv')"
   ]
  },
  {
   "cell_type": "markdown",
   "metadata": {},
   "source": [
    "# Directionality ~ Resolution"
   ]
  },
  {
   "cell_type": "code",
   "execution_count": null,
   "metadata": {},
   "outputs": [],
   "source": [
    "if not os.path.exists('../../results/dependencies/'):\n",
    "    os.mkdir('../../results/dependencies/')"
   ]
  },
  {
   "cell_type": "code",
   "execution_count": null,
   "metadata": {},
   "outputs": [],
   "source": [
    "cluster_frac = [0.10,0.25,0.40]\n",
    "resolutions = np.arange(0.1, 1.55, 0.05)\n",
    "\n",
    "# try:\n",
    "#     df = pd.read_csv('../../results/directionality_dependency_resolution.csv', header=None)\n",
    "# except FileNotFoundError:\n",
    "with open('../../results/directionality_dependency_resolution.csv', 'w', newline=\"\") as resultsfile:\n",
    "    csvwriter = csv.writer(resultsfile)\n",
    "    csvwriter.writerow([\"central\", \"contact\", \"to_count\", \"frac\", \"res\", \"directionality\"])\n",
    "\n",
    "\n",
    "for frac in cluster_frac:\n",
    "    for central_group in central_groups:\n",
    "        for to_count_contact, contact_group in zip(to_count, contact_groups):\n",
    "            for resolution in resolutions:\n",
    "                directionality = calc_directionality(to_count_contact, contact_group, central_group, frac, round(resolution, 2), volumes_total)\n",
    "\n",
    "                with open('../../results/directionality_dependency_resolution.csv', 'a', newline=\"\") as resultsfile:\n",
    "                    csvwriter = csv.writer(resultsfile)\n",
    "                    csvwriter.writerow([central_group, contact_group, to_count_contact, round(frac, 2), round(resolution, 2), directionality])"
   ]
  },
  {
   "cell_type": "code",
   "execution_count": null,
   "metadata": {},
   "outputs": [],
   "source": [
    "df = pd.read_csv('../../results/directionality_dependency_resolution.csv', header=0)\n",
    "display(df)"
   ]
  },
  {
   "cell_type": "code",
   "execution_count": null,
   "metadata": {
    "scrolled": true
   },
   "outputs": [],
   "source": [
    "for frac in cluster_frac:\n",
    "    for central in central_groups:\n",
    "        plt.figure(figsize=(8,8))\n",
    "        plt.grid(True)\n",
    "        plt.title(f\"Dependency of directionality on resolution {central}\")\n",
    "\n",
    "        for to_count_contact, contact in zip(to_count, contact_groups):\n",
    "            partdf = df[(df.frac == frac) & (df.central == central) & (df.contact == contact) & (df.to_count == to_count_contact)]\n",
    "\n",
    "            plt.plot(partdf.resolution, partdf.directionality)\n",
    "\n",
    "            plt.scatter(partdf.resolution, partdf.directionality, label=contact + \"-\" + to_count_contact)\n",
    "\n",
    "        plt.ylabel(\"Directionality\")\n",
    "        plt.xlabel(\"Resolution\")\n",
    "        plt.xlim(0.09, 0.81)\n",
    "        plt.legend()\n",
    "        plt.show()\n",
    "        plt.savefig(f\"../../results/dependencies/directionality_resolution_{central}_frac_{frac :.2f}_maxres08.png\")"
   ]
  },
  {
   "cell_type": "markdown",
   "metadata": {},
   "source": [
    "# Directionality ~ Threshold"
   ]
  },
  {
   "cell_type": "code",
   "execution_count": null,
   "metadata": {},
   "outputs": [],
   "source": [
    "resolutions = [0.2, 0.25, 0.3]\n",
    "cluster_fracs = np.arange(0.1, 1, 0.05)\n",
    "\n",
    "# try:\n",
    "#     df = pd.read_csv('../../directionality_dependency_threshold.csv', header=None)\n",
    "# except FileNotFoundError:\n",
    "with open('../../results/directionality_dependency_threshold.csv', 'w', newline=\"\") as resultsfile:\n",
    "    csvwriter = csv.writer(resultsfile)\n",
    "    csvwriter.writerow([\"central\", \"contact\", \"to_count\", \"res\", \"frac\", \"directionality\"])\n",
    "\n",
    "for resolution in resolutions:\n",
    "    for central_group in central_groups:\n",
    "        for to_count_contact, contact_group in zip(to_count, contact_groups):\n",
    "            for cluster_frac in cluster_fracs:\n",
    "                directionality = calc_directionality(to_count_contact, contact_group, central_group, cluster_frac, round(resolution, 2), volumes_total)\n",
    "\n",
    "                with open('../../results/directionality_dependency_threshold.csv', 'a', newline=\"\") as resultsfile:\n",
    "                    csvwriter = csv.writer(resultsfile)\n",
    "                    csvwriter.writerow([central_group, contact_group, to_count_contact, round(resolution,2), round(cluster_frac, 2), directionality])"
   ]
  },
  {
   "cell_type": "code",
   "execution_count": null,
   "metadata": {},
   "outputs": [],
   "source": [
    "df = pd.read_csv('../../results/directionality_dependency_threshold.csv', header=0)\n",
    "display(df)"
   ]
  },
  {
   "cell_type": "code",
   "execution_count": null,
   "metadata": {
    "scrolled": true
   },
   "outputs": [],
   "source": [
    "for resolution in resolutions:\n",
    "    for central in central_groups:\n",
    "        plt.figure(figsize=(8,8))\n",
    "        plt.grid(True)\n",
    "        plt.title(f\"Dependency of directionality on threshold {central}\")\n",
    "\n",
    "        for to_count_contact, contact in zip(to_count, contact_groups):\n",
    "            partdf = df[(df.res == resolution) & (df.central == central) & (df.contact == contact) & (df.to_count == to_count_contact)]\n",
    "\n",
    "            plt.plot(partdf.frac, partdf.directionality)\n",
    "\n",
    "            plt.scatter(partdf.frac, partdf.directionality, label=contact + \"-\" + to_count_contact)\n",
    "\n",
    "        plt.ylabel(\"Directionality\")\n",
    "        plt.xlabel(\"Fraction used to determine threshold\")\n",
    "        plt.legend()\n",
    "        plt.show()\n",
    "        plt.savefig(f\"../../results/dependencies/directionality_threshold_{central}_res_{resolution}.png\")    "
   ]
  },
  {
   "cell_type": "markdown",
   "metadata": {},
   "source": [
    "# Datapoints ~ Clusterfrac"
   ]
  },
  {
   "cell_type": "code",
   "execution_count": null,
   "metadata": {},
   "outputs": [],
   "source": [
    "resolutions = [0.2, 0.25, 0.3]\n",
    "cluster_fracs = np.arange(0.1, 1, 0.05)\n",
    "\n",
    "# try:\n",
    "#     df = pd.read_csv('../../results/datapoints_dependency_threshold.csv', header=None)\n",
    "# except FileNotFoundError:\n",
    "\n",
    "with open('../../results/datapoints_dependency_threshold.csv', 'w', newline=\"\") as resultsfile:\n",
    "                csvwriter = csv.writer(resultsfile)\n",
    "                csvwriter.writerow([\"central\", \"contact\", \"to_count\", \"res\", \"frac\", \"n\", \"n_frac\"])\n",
    "\n",
    "\n",
    "for resolution in resolutions:\n",
    "    for central_group in central_groups:\n",
    "        for to_count_contact, contact_group in zip(to_count, contact_groups):\n",
    "            for cluster_frac in cluster_fracs:\n",
    "                n_frac, n = points_in_cluster(to_count_contact, contact_group, central_group, cluster_frac, round(resolution, 2))\n",
    "\n",
    "                with open('../../results/datapoints_dependency_threshold.csv', 'a', newline=\"\") as resultsfile:\n",
    "                    csvwriter = csv.writer(resultsfile)\n",
    "                    csvwriter.writerow([central_group, contact_group, to_count_contact, round(resolution, 2), round(cluster_frac, 2), n, n_frac])"
   ]
  },
  {
   "cell_type": "code",
   "execution_count": null,
   "metadata": {},
   "outputs": [],
   "source": [
    "df = pd.read_csv('../../results/datapoints_dependency_threshold.csv', header=0)\n",
    "display(df)"
   ]
  },
  {
   "cell_type": "code",
   "execution_count": null,
   "metadata": {
    "scrolled": true
   },
   "outputs": [],
   "source": [
    "for resolution in resolutions:\n",
    "    for central in central_groups:\n",
    "        plt.figure(figsize=(8,8))\n",
    "        plt.grid(True)\n",
    "        plt.title(f\"Dependency of fraction datapoints on threshold {central}\")\n",
    "\n",
    "        for to_count_contact, contact in zip(to_count, contact_groups):\n",
    "            partdf = df[(df.res == resolution) & (df.central == central) & (df.contact == contact) & (df.to_count == to_count_contact)]\n",
    "\n",
    "            plt.plot(partdf.frac, partdf.n_frac)\n",
    "            plt.scatter(partdf.frac, partdf.n_frac, label=contact + \"-\" + to_count_contact)\n",
    "\n",
    "        plt.ylabel(\"Fraction of datapoints used for directionality calculation\")\n",
    "        plt.xlabel(\"Fraction used to determine threshold\")\n",
    "        plt.legend()\n",
    "        plt.show()   \n",
    "        plt.savefig(f\"../../results/dependencies/datapoints_threshold_{central}_res{resolution}.png\")"
   ]
  },
  {
   "cell_type": "code",
   "execution_count": null,
   "metadata": {},
   "outputs": [],
   "source": []
  },
  {
   "cell_type": "code",
   "execution_count": null,
   "metadata": {},
   "outputs": [],
   "source": []
  },
  {
   "cell_type": "code",
   "execution_count": null,
   "metadata": {},
   "outputs": [],
   "source": []
  }
 ],
 "metadata": {
  "kernelspec": {
   "display_name": "Python 3",
   "language": "python",
   "name": "python3"
  },
  "language_info": {
   "codemirror_mode": {
    "name": "ipython",
    "version": 3
   },
   "file_extension": ".py",
   "mimetype": "text/x-python",
   "name": "python",
   "nbconvert_exporter": "python",
   "pygments_lexer": "ipython3",
   "version": "3.7.8"
  }
 },
 "nbformat": 4,
 "nbformat_minor": 4
}
