{
 "cells": [
  {
   "cell_type": "code",
   "execution_count": null,
   "metadata": {},
   "outputs": [],
   "source": [
    "import sys\n",
    "\n",
    "sys.path.append('..//scripts//')"
   ]
  },
  {
   "cell_type": "code",
   "execution_count": null,
   "metadata": {},
   "outputs": [],
   "source": [
    "%matplotlib notebook\n",
    "\n",
    "# allows for automatic reloading of imports and makes it unncessecary to restart the kernel\n",
    "# whenever a function is changed\n",
    "%load_ext autoreload\n",
    "%autoreload 2\n",
    "\n",
    "import os\n",
    "import time\n",
    "import numpy as np\n",
    "import csv\n",
    "import pandas as pd\n",
    "\n",
    "from tqdm import tqdm\n",
    "\n",
    "import matplotlib\n",
    "import matplotlib.pyplot as plt\n",
    "from mpl_toolkits.mplot3d import Axes3D\n",
    "\n",
    "from calc_avg_fragment import calc_avg_fragment, calc_avg_rmse\n",
    "from constants.paths import CENTRAL_GROUPS_CSV\n",
    "from classes.Settings import AlignmentSettings\n",
    "from classes.Radii import Radii\n",
    "\n",
    "from align_kabsch import align_all_fragments\n",
    "\n",
    "central_groups = [\"H2O\", \"ArCI\", \"NO3\", \"RC6F5\", \"RNO2\", \"RCOMe\", \"REt\", \"RC6H5\"] #\n",
    "contact_groups = [\"CF\", \"RCN\", \"R2CO\", \"XH\", \"CCH3\", \"C2CH2\", \"RC6H5\", \"ArCH\"] #  \n",
    "to_count =       [\"F\",   \"N\",    \"O\",   \"H\", \"H\",     \"H\", \"centroid\", \"H\"]"
   ]
  },
  {
   "cell_type": "markdown",
   "metadata": {},
   "source": [
    "# Use Kmeans"
   ]
  },
  {
   "cell_type": "code",
   "execution_count": null,
   "metadata": {},
   "outputs": [],
   "source": [
    "df_avg_f = pd.DataFrame(index=contact_groups, columns=central_groups)\n",
    "\n",
    "for central_group in central_groups:\n",
    "    for to_count_contact, contact_group in zip(to_count, contact_groups):\n",
    "\n",
    "        print('\\n', central_group, contact_group, to_count_contact)\n",
    "\n",
    "        datafile = \"..\\\\data\\\\\" + central_group + \"\\\\\" + central_group + \"_\" + contact_group + \"_vdw.5.cor\"\n",
    "        result1 = \"..\\\\..\\\\results\\\\pairs\\\\\" + central_group + \"\\\\\" + central_group + \"_\" + contact_group + \"_vdw.5\\\\\"\\\n",
    "                  + central_group + \"_\" + contact_group + \"_aligned.csv\" \n",
    "\n",
    "        if not os.path.exists(f\"..\\\\..\\\\results\\\\pairs\\\\{central_group}\"):\n",
    "            os.mkdir(f\"..\\\\..\\\\results\\\\pairs\\\\{central_group}\\\\\")\n",
    "\n",
    "        t0_alignment = time.time()\n",
    "\n",
    "        labelfile = datafile.rsplit('.', 1)[0] + '.csv'\n",
    "\n",
    "        settings = AlignmentSettings(\"..\\\\..\", datafile, labelfile)\n",
    "        settings.set_atom_to_count(to_count_contact)\n",
    "        settings.set_central_group_csv(CENTRAL_GROUPS_CSV)\n",
    "        settings.prepare_alignment()\n",
    "        \n",
    "        align_all_fragments(settings)\n",
    "\n",
    "        avg_frag = calc_avg_fragment(settings)\n",
    "    \n",
    "        # DO RMSE TEST\n",
    "        rmse_avg_f = calc_avg_rmse(avg_frag[~avg_frag.label.str.contains(\"aH\")], settings)\n",
    "        df_avg_f.loc[df_avg_f.index == contact_group, central_group] = rmse_avg_f"
   ]
  },
  {
   "cell_type": "markdown",
   "metadata": {},
   "source": [
    "# Ignore KMEANs"
   ]
  },
  {
   "cell_type": "code",
   "execution_count": null,
   "metadata": {},
   "outputs": [],
   "source": [
    "df_avg_f_before_kmeans = pd.DataFrame(index=contact_groups, columns=central_groups)\n",
    "\n",
    "for central_group in central_groups:\n",
    "    for to_count_contact, contact_group in zip(to_count, contact_groups):\n",
    "\n",
    "        print('\\n', central_group, contact_group, to_count_contact)\n",
    "\n",
    "        datafile = \"..\\\\data\\\\\" + central_group + \"\\\\\" + central_group + \"_\" + contact_group + \"_vdw.5.cor\"\n",
    "        result1 = \"..\\\\..\\\\results\\\\pairs\\\\\" + central_group + \"\\\\\" + central_group + \"_\" + contact_group + \"_vdw.5\\\\\"\\\n",
    "                  + central_group + \"_\" + contact_group + \"_aligned.csv\" \n",
    "\n",
    "        if not os.path.exists(f\"..\\\\..\\\\results\\\\pairs\\\\{central_group}\"):\n",
    "            os.mkdir(f\"..\\\\..\\\\results\\\\pairs\\\\{central_group}\\\\\")\n",
    "\n",
    "        t0_alignment = time.time()\n",
    "\n",
    "        labelfile = datafile.rsplit('.', 1)[0] + '.csv'\n",
    "\n",
    "        settings = AlignmentSettings(\"..\\\\..\", datafile, labelfile)\n",
    "        settings.set_atom_to_count(to_count_contact)\n",
    "        settings.set_central_group_csv(CENTRAL_GROUPS_CSV)\n",
    "        settings.prepare_alignment()\n",
    "        \n",
    "        df = pd.read_csv(settings.get_aligned_csv_filename())\n",
    "        central_group_df = df[df.label != \"-\"]\n",
    "        \n",
    "        central_group_df = central_group_df.sort_values(['fragment_id', 'label'])\n",
    "        \n",
    "        avg_frag = central_group_df.groupby('label', sort=False).agg({'symbol': 'first',\n",
    "                                                                         'x': 'mean',\n",
    "                                                                         'y': 'mean',\n",
    "                                                                         'z': 'mean'}).reset_index()\n",
    "    \n",
    "        rmse_avg_f = calc_avg_rmse(avg_frag[~avg_frag.label.str.contains(\"aH\")], settings, central_group_df)\n",
    "\n",
    "        df_avg_f_before_kmeans.loc[df_avg_f_before_kmeans.index == contact_group, central_group] = rmse_avg_f"
   ]
  },
  {
   "cell_type": "code",
   "execution_count": null,
   "metadata": {},
   "outputs": [],
   "source": [
    "# function for set text color of positive \n",
    "# values in Dataframes \n",
    "def color_positive_green(val): \n",
    "    \"\"\" \n",
    "    Takes a scalar and returns a string with \n",
    "    the css property `'color: green'` for positive \n",
    "    strings, black otherwise. \n",
    "    \"\"\"\n",
    "    color = \"black\"\n",
    "    if val > 0.45: \n",
    "        color = 'red'\n",
    "    elif val > 0.1: \n",
    "        color = 'orange'\n",
    "        \n",
    "    return 'color: %s' % color \n",
    "\n",
    "pd.set_option('display.float_format', lambda x: '%.3f' % x)"
   ]
  },
  {
   "cell_type": "code",
   "execution_count": null,
   "metadata": {},
   "outputs": [],
   "source": [
    "df_avg_f_before_kmeans_styled = df_avg_f_before_kmeans.style.applymap(color_positive_green)\n",
    "\n",
    "display(df_avg_f_before_kmeans_styled)\n",
    "\n",
    "print(df_avg_f_before_kmeans.to_latex())"
   ]
  },
  {
   "cell_type": "code",
   "execution_count": null,
   "metadata": {},
   "outputs": [],
   "source": [
    "df_avg_f_styled = df_avg_f.style.applymap(color_positive_green)\n",
    "display(df_avg_f_styled)\n",
    "\n",
    "print(df_avg_f.to_latex())"
   ]
  },
  {
   "cell_type": "markdown",
   "metadata": {},
   "source": [
    "# Also compare to Kabsch"
   ]
  },
  {
   "cell_type": "code",
   "execution_count": null,
   "metadata": {
    "scrolled": true
   },
   "outputs": [],
   "source": [
    "df_rmse_kabsch = pd.DataFrame(index=contact_groups, columns=central_groups)\n",
    "\n",
    "for central_group in central_groups:\n",
    "    for to_count_contact, contact_group in zip(to_count, contact_groups):\n",
    "\n",
    "        print('\\n', central_group, contact_group, to_count_contact)\n",
    "\n",
    "        datafile = \"..\\\\data\\\\\" + central_group + \"\\\\\" + central_group + \"_\" + contact_group + \"_vdw.5.cor\"\n",
    "        result1 = \"..\\\\..\\\\results\\\\pairs\\\\\" + central_group + \"\\\\\" + central_group + \"_\" + contact_group + \"_vdw.5\\\\\"\\\n",
    "                  + central_group + \"_\" + contact_group + \"_aligned.csv\" \n",
    "\n",
    "        if not os.path.exists(f\"..\\\\..\\\\results\\\\pairs\\\\{central_group}\"):\n",
    "            os.mkdir(f\"..\\\\..\\\\results\\\\pairs\\\\{central_group}\\\\\")\n",
    "\n",
    "        t0_alignment = time.time()\n",
    "\n",
    "        labelfile = datafile.rsplit('.', 1)[0] + '.csv'\n",
    "\n",
    "        settings = AlignmentSettings(\"..\\\\..\", datafile, labelfile)\n",
    "        settings.set_atom_to_count(to_count_contact)\n",
    "        settings.set_central_group_csv(CENTRAL_GROUPS_CSV)\n",
    "        settings.prepare_alignment()\n",
    "        \n",
    "        df = pd.read_csv(settings.get_structure_csv_filename())\n",
    "        rmse_kabsch = df.rmse.mean()\n",
    "        df_rmse_kabsch.loc[df_rmse_kabsch.index == contact_group, central_group] = rmse_kabsch"
   ]
  },
  {
   "cell_type": "code",
   "execution_count": null,
   "metadata": {},
   "outputs": [],
   "source": [
    "df_rmse_kabsch_styled = df_rmse_kabsch.style.applymap(color_positive_green)\n",
    "display(df_rmse_kabsch_styled)\n",
    "\n",
    "print(df_rmse_kabsch.to_latex())"
   ]
  },
  {
   "cell_type": "markdown",
   "metadata": {},
   "source": [
    "# conclusions\n",
    "kabsch is ok\n",
    "\n",
    "kmeans is good backup plan"
   ]
  }
 ],
 "metadata": {
  "kernelspec": {
   "display_name": "Python 3",
   "language": "python",
   "name": "python3"
  },
  "language_info": {
   "codemirror_mode": {
    "name": "ipython",
    "version": 3
   },
   "file_extension": ".py",
   "mimetype": "text/x-python",
   "name": "python",
   "nbconvert_exporter": "python",
   "pygments_lexer": "ipython3",
   "version": "3.7.8"
  }
 },
 "nbformat": 4,
 "nbformat_minor": 4
}
