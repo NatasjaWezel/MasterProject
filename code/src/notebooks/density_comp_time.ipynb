{
 "cells": [
  {
   "cell_type": "markdown",
   "metadata": {},
   "source": [
    "# Density computational times\n",
    "The research question for this notebook is: \"What is a nice resolution to calculate the density?\"\n",
    "\n",
    "This depends on the computational time, and the accountability of the outcome."
   ]
  },
  {
   "cell_type": "code",
   "execution_count": null,
   "metadata": {},
   "outputs": [],
   "source": [
    "import sys\n",
    "\n",
    "sys.path.append('..//helpers//')\n",
    "sys.path.append('..//classes//')\n",
    "sys.path.append('..//constants//')\n",
    "sys.path.append('../')"
   ]
  },
  {
   "cell_type": "code",
   "execution_count": null,
   "metadata": {},
   "outputs": [],
   "source": [
    "%matplotlib notebook\n",
    "import matplotlib\n",
    "import matplotlib.pyplot as plt\n",
    "from mpl_toolkits.mplot3d import Axes3D\n",
    "\n",
    "import os\n",
    "import time\n",
    "import numpy as np\n",
    "import csv\n",
    "import pandas as pd\n",
    "\n",
    "from calc_density_4 import count_points_per_square\n",
    "\n",
    "from Settings import Settings\n",
    "\n",
    "from geometry_helpers import make_coordinate_df\n",
    "from density_helpers import prepare_df\n",
    "\n",
    "from paths import WORKDIR, RESULTSDIR, RADII_CSV"
   ]
  },
  {
   "cell_type": "code",
   "execution_count": null,
   "metadata": {},
   "outputs": [],
   "source": [
    "central_groups = [\"RCOMe\", \"RNO2\", \"ArCI\", \"NO3\", \"RC6F5\", \"H2O\", \"RC6H5\"]\n",
    "contact_groups = [\"CF\", \"RCN\", \"R2CO\", \"XH\", \"XH\", \"CCH3\", \"C2CH2\", \"RC6H5\", \"ArCH\"]  #\n",
    "to_count =       [\"F\",   \"N\",    \"O\",   \"H\", \"O\",  \"H\",     \"H\", \"centroid\", \"H\"] #, \n",
    "\n",
    "central_groups = [\"ArCI\"]\n",
    "contact_groups = [\"ArCH\"]  #\n",
    "to_count =       [\"H\"] #, \n",
    "\n",
    "resolutions = np.arange(0.1, 1.6, 0.1)\n",
    "\n",
    "resolutions = [0.25]\n",
    "\n",
    "resolutions = np.flip(resolutions)"
   ]
  },
  {
   "cell_type": "markdown",
   "metadata": {},
   "source": [
    "# Data Gathering"
   ]
  },
  {
   "cell_type": "code",
   "execution_count": null,
   "metadata": {
    "scrolled": false
   },
   "outputs": [],
   "source": [
    "rerun = True\n",
    "write_time = False\n",
    "\n",
    "if rerun:\n",
    "    with open('../results/density_comp_time.csv', 'a', newline='') as resultsfile:\n",
    "        if write_time:\n",
    "            writer = csv.writer(resultsfile)\n",
    "            writer.writerow(['central', 'contact', 'to_count', 'resolution', 'density_time'])\n",
    "\n",
    "        for central_group in central_groups:\n",
    "            for to_count_contact, contact_group in zip(to_count, contact_groups):\n",
    "                datafile = \".\\\\data\\\\\" + central_group + \"\\\\\" + central_group + \"_\" + contact_group + \"_vdw.5.cor\"\n",
    "                result1 = \".\\\\results\\\\\" + central_group + \"\\\\\" + central_group + \"_\" + contact_group + \"_vdw.5\\\\\"\\\n",
    "                          + central_group + \"_\" + contact_group + \"_kabsch_aligned.csv\"\n",
    "\n",
    "                for resolution in resolutions:\n",
    "                    print(\"\\nCalculating density for central group: \", central_group, \" contact group: \", contact_group,\n",
    "                          \"resolution: \", str(round(resolution, 2)))\n",
    "\n",
    "                    t0 = time.time()\n",
    "\n",
    "                    settings = Settings(RESULTSDIR, RADII_CSV, datafile)\n",
    "                    settings.set_atom_to_count(to_count_contact)\n",
    "\n",
    "                    # resolution of the bins, in Angstrom\n",
    "                    settings.set_resolution(round(resolution, 2))\n",
    "                    \n",
    "                    df = pd.read_csv(settings.get_kabsch_aligned_csv_filename())\n",
    "                    avg_frag = pd.read_csv(settings.get_avg_frag_filename())\n",
    "\n",
    "                    # grab only the atoms that are in the contact groups\n",
    "                    df_central = df[df['label'] == '-']\n",
    "                    coordinate_df = make_coordinate_df(df_central, settings, avg_frag)\n",
    "\n",
    "                    empty_density_df = prepare_df(df=coordinate_df, settings=settings)\n",
    "\n",
    "                    density_df = count_points_per_square(df=empty_density_df, contact_points_df=coordinate_df, settings=settings)\n",
    "\n",
    "                    # save so we can use the data but only change the plot - saves time :)\n",
    "                    density_df.to_hdf(settings.get_density_df_filename(), settings.get_density_df_key())               \n",
    "\n",
    "                    t1 = time.time() - t0\n",
    "                    print(\"Duration: %.2f s.\" % t1)      \n",
    "                    \n",
    "                    if write_time:\n",
    "                        writer.writerow([central_group, contact_group, to_count_contact, round(resolution, 2), t1])"
   ]
  },
  {
   "cell_type": "markdown",
   "metadata": {},
   "source": [
    "# Analyzing data"
   ]
  },
  {
   "cell_type": "code",
   "execution_count": null,
   "metadata": {
    "scrolled": false
   },
   "outputs": [],
   "source": [
    "df = pd.read_csv('../results/density_comp_time.csv')\n",
    "\n",
    "for central in central_groups:\n",
    "    plt.figure(figsize=(6,4))\n",
    "    for contact, to_count_contact in zip(contact_groups, to_count):\n",
    "        dfje = df[(df.central == central) & (df.contact == contact)]\n",
    "        print(len(dfje))\n",
    "        plt.plot(dfje.resolution, dfje.density_time, label=central + '-' + contact)\n",
    "        plt.scatter(dfje.resolution, dfje.density_time)\n",
    "    \n",
    "    plt.legend()\n",
    "    plt.xlabel(\"Resolution\")\n",
    "    plt.ylabel(\"Time (s)\")\n",
    "    plt.title(\"Density computational time \" + central)\n",
    "    plt.savefig(\"results/figures/comp_time_\" + central + \".svg\", format='svg')"
   ]
  },
  {
   "cell_type": "markdown",
   "metadata": {},
   "source": [
    "# Merge results with pre comp results"
   ]
  },
  {
   "cell_type": "code",
   "execution_count": null,
   "metadata": {},
   "outputs": [],
   "source": [
    "display(df)\n",
    "grouped = df.groupby(['central', 'contact', 'to_count'])"
   ]
  },
  {
   "cell_type": "code",
   "execution_count": null,
   "metadata": {},
   "outputs": [],
   "source": [
    "id_df = grouped['density_time'].apply(lambda x: pd.Series(x.values)).unstack()\n",
    "id_df = id_df.reset_index()"
   ]
  },
  {
   "cell_type": "code",
   "execution_count": null,
   "metadata": {
    "scrolled": true
   },
   "outputs": [],
   "source": [
    "id_df.columns = ['central', 'contact', 'to_count', 'res15', 'res14', 'res13', 'res12', 'res11',\\\n",
    "                                                   'res10', 'res09', 'res08', 'res07', 'res06',\\\n",
    "                                                   'res05', 'res04', 'res03', 'res02', 'res01']\n",
    "display(id_df)"
   ]
  },
  {
   "cell_type": "code",
   "execution_count": null,
   "metadata": {
    "scrolled": true
   },
   "outputs": [],
   "source": [
    "df_pre = pd.read_csv('results/pre_density_comp_time.csv')\n",
    "\n",
    "df_total = pd.merge(df_pre, id_df, how='left', left_on=['contact','central', 'to_count'], right_on = ['contact','central', 'to_count'])\n",
    "display(df_total)"
   ]
  },
  {
   "cell_type": "code",
   "execution_count": null,
   "metadata": {
    "scrolled": false
   },
   "outputs": [],
   "source": [
    "i = 0\n",
    "r1 = []\n",
    "xtick_labels = []\n",
    "\n",
    "fig, ax = plt.subplots(figsize=(9,15))\n",
    "    \n",
    "for _, row in df_total.iterrows():\n",
    "    bars1 = row['alignment']\n",
    "    bars2 = row['avg_fragment']\n",
    "    bars3 = row['coordinate_df']\n",
    "    bars4 = row['res01']\n",
    "    bars5 = row['res02']\n",
    "    bars6 = row['res03']\n",
    "    bars7 = row['res04']\n",
    "    bars8 = row['res05']\n",
    "        \n",
    "    bar_width = 0.5  # the width of the bars\n",
    "    r1.append(i)\n",
    "\n",
    "    bottom = 0\n",
    "    # make that plot\n",
    "    rects1 = plt.bar(i, bars1, bar_width, bottom=0, color=\"tab:blue\")\n",
    "    \n",
    "    bottom += bars1\n",
    "    rects2 = plt.bar(i, bars2, bar_width, bottom=bottom, color=\"tab:orange\")\n",
    "    \n",
    "    bottom += bars2\n",
    "    rects3 = plt.bar(i, bars3, bar_width, bottom=bottom, color=\"tab:green\")\n",
    "    \n",
    "    bottom += bars3\n",
    "    rects01 = plt.bar(i, bars4, bar_width, bottom=bottom, color='tab:red')\n",
    "    \n",
    "    bottom += bars4\n",
    "    rects02 = plt.bar(i, bars5, bar_width, bottom=bottom, color='tab:purple')\n",
    "    \n",
    "    bottom += bars5\n",
    "    rects03 = plt.bar(i, bars6, bar_width, bottom=bottom, color='tab:brown')\n",
    "    \n",
    "    bottom += bars6\n",
    "    rects04 = plt.bar(i, bars7, bar_width, bottom=bottom, color='tab:pink')\n",
    "    \n",
    "    bottom += bars7\n",
    "    rects05 = plt.bar(i, bars8, bar_width, bottom=bottom, color='tab:gray')\n",
    "    \n",
    "    xtick_labels.append(row[\"central\"] + \"-\" + row['contact'])\n",
    "    i+=1\n",
    "\n",
    "\n",
    "    \n",
    "plt.xticks(r1, xtick_labels, rotation=90)\n",
    "\n",
    "plt.title('Computational times')\n",
    "plt.subplots_adjust(bottom=0.3)\n",
    "\n",
    "ax.set_xlabel(\"Pair\")\n",
    "ax.set_ylabel(\"Computational time (s)\")\n",
    "\n",
    "# ax.set_ylim(0,100)\n",
    "\n",
    "ax2 = ax.twinx()\n",
    "ax2.set_ylabel(\"Amount\")\n",
    "# ax2.set_ylim(0, 600000)\n",
    "\n",
    "line = ax2.plot(range(len(df_total)), df_total[\"amount_structures\"], color=\"red\", label=\"no unique fragments\")\n",
    "\n",
    "plt.legend((rects1[0], rects2[0], rects3[0], rects01[0], rects02[0], rects03[0], rects04[0], rects05[0], line[0]),\n",
    "           ('alignment', 'avg_fragment', 'coordinate_df', 'density res 0.1', 'density res 0.2',\\\n",
    "            'density res 0.3', 'density res 0.4', 'density res 0.5', 'No. fragments'))\n",
    "\n",
    "plt.savefig(\"results/figures/comp_times_total.svg\", format=\"svg\")\n",
    "\n",
    "plt.show()"
   ]
  },
  {
   "cell_type": "code",
   "execution_count": null,
   "metadata": {},
   "outputs": [],
   "source": [
    "df_total.describe()"
   ]
  },
  {
   "cell_type": "code",
   "execution_count": null,
   "metadata": {},
   "outputs": [],
   "source": [
    "# df_total = df_total.drop(columns=['Unnamed: 0', 'total'])\n",
    "print(df_total.columns)"
   ]
  },
  {
   "cell_type": "code",
   "execution_count": null,
   "metadata": {},
   "outputs": [],
   "source": [
    "# df_total = df_total[['central', 'contact', 'to_count', 'alignment', 'coordinate_df',\n",
    "#        'avg_fragment', 'total', 'res15', 'res14', 'res13', 'res12', 'res11', 'res10', 'res09', 'res08',\n",
    "#        'res07', 'res06', 'res05', 'res04', 'res03', 'res02', 'res01']]\n",
    "\n",
    "# sort again\n",
    "df_total['total_density'] = df_total.iloc[:, -15:].sum(axis=1)\n",
    "df_total['total'] = df_total['total_density'] + df_total['alignment'] + df_total['avg_fragment'] + df_total['coordinate_df']\n",
    "df_total = df_total.sort_values(\"total\", ascending=False)"
   ]
  },
  {
   "cell_type": "code",
   "execution_count": null,
   "metadata": {},
   "outputs": [],
   "source": [
    "i = 0\n",
    "r1 = []\n",
    "xtick_labels = []\n",
    "\n",
    "fig, ax = plt.subplots(figsize=(9,12))\n",
    "    \n",
    "for _, row in df_total.iterrows():\n",
    "    bars1 = row['alignment']\n",
    "    bars2 = row['avg_fragment']\n",
    "    bars3 = row['coordinate_df']\n",
    "    bars4 = row['res01']\n",
    "    bars5 = row['res02']\n",
    "    bars6 = row['res03']\n",
    "    bars7 = row['res04']\n",
    "    bars8 = row['res05']\n",
    "        \n",
    "    bar_width = 0.5  # the width of the bars\n",
    "    r1.append(i)\n",
    "\n",
    "    bottom = 0\n",
    "    # make that plot\n",
    "    rects1 = plt.bar(i, bars1, bar_width, bottom=0, color=\"tab:blue\")\n",
    "    \n",
    "    bottom += bars1\n",
    "    rects2 = plt.bar(i, bars2, bar_width, bottom=bottom, color=\"tab:orange\")\n",
    "    \n",
    "    bottom += bars2\n",
    "    rects3 = plt.bar(i, bars3, bar_width, bottom=bottom, color=\"tab:green\")\n",
    "    \n",
    "    bottom += bars3\n",
    "    rects01 = plt.bar(i, bars4, bar_width, bottom=bottom, color='tab:red')\n",
    "    \n",
    "    bottom += bars4\n",
    "    rects02 = plt.bar(i, bars5, bar_width, bottom=bottom, color='tab:purple')\n",
    "    \n",
    "    bottom += bars5\n",
    "    rects03 = plt.bar(i, bars6, bar_width, bottom=bottom, color='tab:brown')\n",
    "    \n",
    "    bottom += bars6\n",
    "    rects04 = plt.bar(i, bars7, bar_width, bottom=bottom, color='tab:pink')\n",
    "    \n",
    "    bottom += bars7\n",
    "    rects05 = plt.bar(i, bars8, bar_width, bottom=bottom, color='tab:gray')\n",
    "    \n",
    "    xtick_labels.append(row[\"central\"] + \"-\" + row['contact'])\n",
    "    i+=1\n",
    "\n",
    "\n",
    "    \n",
    "plt.xticks(r1, xtick_labels, rotation=90)\n",
    "\n",
    "plt.title('Computational times')\n",
    "plt.subplots_adjust(bottom=0.3)\n",
    "\n",
    "ax.set_xlabel(\"Pair\")\n",
    "ax.set_ylabel(\"Computational time (s)\")\n",
    "\n",
    "# ax.set_ylim(0,100)\n",
    "\n",
    "ax2 = ax.twinx()\n",
    "ax2.set_ylabel(\"Amount\")\n",
    "# ax2.set_ylim(0, 600000)\n",
    "\n",
    "line = ax2.plot(range(len(df_total)), df_total[\"amount_structures\"], color=\"gold\", label=\"no unique fragments\")\n",
    "\n",
    "plt.legend((rects1[0], rects2[0], rects3[0], rects01[0], rects02[0], rects03[0], rects04[0], rects05[0], line[0]),\n",
    "           ('alignment', 'avg_fragment', 'coordinate_df', 'density res 0.1', 'density res 0.2',\\\n",
    "            'density res 0.3', 'density res 0.4', 'density res 0.5', 'No. fragments'))\n",
    "\n",
    "plt.savefig(\"results/figures/comp_times_total.svg\", format=\"svg\", bbox_inches='tight')\n",
    "plt.savefig(\"results/figures/comp_times_total.png\")\n",
    "\n",
    "plt.show()"
   ]
  },
  {
   "cell_type": "code",
   "execution_count": null,
   "metadata": {},
   "outputs": [],
   "source": [
    "df_total.describe()"
   ]
  },
  {
   "cell_type": "code",
   "execution_count": null,
   "metadata": {},
   "outputs": [],
   "source": [
    "df_test = df_total.copy()\n",
    "df_test['total'] = df_test['total'] - df_test['res01']\n",
    "df_test = df_test.drop(columns=['res01'])\n",
    "df_test.describe()"
   ]
  },
  {
   "cell_type": "markdown",
   "metadata": {},
   "source": [
    "# Conclusions"
   ]
  },
  {
   "cell_type": "code",
   "execution_count": null,
   "metadata": {},
   "outputs": [],
   "source": []
  }
 ],
 "metadata": {
  "kernelspec": {
   "display_name": "Python 3",
   "language": "python",
   "name": "python3"
  },
  "language_info": {
   "codemirror_mode": {
    "name": "ipython",
    "version": 3
   },
   "file_extension": ".py",
   "mimetype": "text/x-python",
   "name": "python",
   "nbconvert_exporter": "python",
   "pygments_lexer": "ipython3",
   "version": "3.7.8"
  }
 },
 "nbformat": 4,
 "nbformat_minor": 4
}
