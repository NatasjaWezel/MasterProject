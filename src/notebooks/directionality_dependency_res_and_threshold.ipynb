{
 "cells": [
  {
   "cell_type": "markdown",
   "metadata": {},
   "source": [
    "# Picking co-dependent variables\n",
    "In this notebook, the influences of resolution and threshold on each other are investigated."
   ]
  },
  {
   "cell_type": "code",
   "execution_count": null,
   "metadata": {},
   "outputs": [],
   "source": [
    "# allows for automatic reloading of imports and makes it unncessecary to restart the kernel\n",
    "# whenever a function is changed\n",
    "%load_ext autoreload\n",
    "%autoreload 2\n",
    "\n",
    "# show matplotlib plots in-line\n",
    "%matplotlib notebook\n",
    "\n",
    "import sys\n",
    "import csv\n",
    "import os\n",
    "\n",
    "import numpy as np\n",
    "import pandas as pd\n",
    "import matplotlib.pyplot as plt\n",
    "\n",
    "# so we can import scripts from the scripts folder, although it is not a child repository\n",
    "sys.path.append('..//scripts//')\n",
    "\n",
    "from helpers.density_helpers import find_available_volume, prepare_df\n",
    "from classes.Settings import Settings\n",
    "from classes.Radii import Radii\n",
    "\n",
    "from constants.paths import WORKDIR"
   ]
  },
  {
   "cell_type": "markdown",
   "metadata": {},
   "source": [
    "## Beneath we define the contact pairs"
   ]
  },
  {
   "cell_type": "code",
   "execution_count": null,
   "metadata": {},
   "outputs": [],
   "source": [
    "central_groups = [\"H2O\", \"ArCI\", \"REt\", \"RNO2\", \"RCOMe\", \"NO3\", \"RC6F5\", \"RC6H5\"]\n",
    "contact_groups = [\"ArCH\", \"C2CH2\", \"CCH3\", \"CF\", \"R2CO\", \"RC6H5\", \"RCN\", \"XH\", \"XH\"]\n",
    "contact_rps =       [\"H\",    \"H\",      \"H\",   \"F\", \"O\",     \"centroid\", \"N\", \"H\", \"O\"]"
   ]
  },
  {
   "cell_type": "code",
   "execution_count": null,
   "metadata": {},
   "outputs": [],
   "source": [
    "def calc_directionality(contact_rp, contact_group, central_group, cluster_frac, resolution, volumes):\n",
    "    \"\"\" Calculates a directionality for a certain contact pair, on a given resolution and volume. \"\"\"\n",
    "\n",
    "    # get the datafile and make a settings object\n",
    "    datafile = \"..\\\\data\\\\\" + central_group + \"\\\\\" + central_group + \"_\" + contact_group + \"_vdw.5.cor\"\n",
    "    settings = Settings('..\\..', datafile)\n",
    "    settings.set_contact_reference_point(contact_rp)\n",
    "    settings.set_resolution(resolution)\n",
    "    \n",
    "    # grab the calculated density df and normalize it\n",
    "    density_df = pd.read_hdf(settings.get_density_df_filename(), settings.get_density_df_key())\n",
    "    density_df['datafrac_normalized'] = density_df[contact_rp] / density_df[contact_rp].sum()\n",
    "    \n",
    "    # calculate threshold and the bins that are in the cluster according to that threshold\n",
    "    threshold = density_df.datafrac_normalized.max() * cluster_frac\n",
    "    in_cluster = density_df[density_df.datafrac_normalized >= threshold]\n",
    "    datafrac = in_cluster.datafrac_normalized.sum()\n",
    "    Vcluster = len(in_cluster) * resolution**3\n",
    "    \n",
    "    # get the available volume and calculate the directionality\n",
    "    Vavailable = volumes.loc[(volumes.central == central_group) & (volumes.contact == contact_group) & (volumes.contact_rp == contact_rp), 'volume'].item()  \n",
    "    directionality = datafrac / Vcluster * (Vavailable/2)\n",
    "    \n",
    "    return directionality\n"
   ]
  },
  {
   "cell_type": "code",
   "execution_count": null,
   "metadata": {},
   "outputs": [],
   "source": [
    "def points_in_cluster(contact_rp, contact_group, central_group, cluster_frac, resolution):\n",
    "    \"\"\" Calculates the amount of data that is in a cluster, given a certain cluster_frac. \"\"\"\n",
    "\n",
    "    # get the datafile and make a settings object\n",
    "    datafile = \"..\\\\data\\\\\" + central_group + \"\\\\\" + central_group + \"_\" + contact_group + \"_vdw.5.cor\"\n",
    "    settings = Settings('..\\..', datafile)\n",
    "    settings.set_contact_reference_point(contact_rp)\n",
    "    settings.set_resolution(resolution)\n",
    "    \n",
    "    # grab the calculated density df and normalize it\n",
    "    density_df = pd.read_hdf(settings.get_density_df_filename(), settings.get_density_df_key())\n",
    "    density_df['datafrac_normalized'] = density_df[contact_rp] / density_df[contact_rp].sum()\n",
    "    \n",
    "    # calculate the threshold and the bins that are in the cluster\n",
    "    threshold = density_df.datafrac_normalized.max() * cluster_frac\n",
    "    in_cluster = density_df[density_df.datafrac_normalized >= threshold]\n",
    "    \n",
    "    return in_cluster.datafrac_normalized.sum(), in_cluster[contact_rp].sum()\n"
   ]
  },
  {
   "cell_type": "code",
   "execution_count": null,
   "metadata": {},
   "outputs": [],
   "source": [
    "volumes_free = pd.read_csv('../../results/volumes_free.csv')\n",
    "volumes_total = pd.read_csv('../../results/volumes_total.csv')"
   ]
  },
  {
   "cell_type": "markdown",
   "metadata": {},
   "source": [
    "# Directionality ~ Resolution"
   ]
  },
  {
   "cell_type": "code",
   "execution_count": null,
   "metadata": {},
   "outputs": [],
   "source": [
    "# make a folder specifically for this purpose: it creates a lot of plots\n",
    "if not os.path.exists('../../results/dependencies/'):\n",
    "    os.mkdir('../../results/dependencies/')"
   ]
  },
  {
   "cell_type": "code",
   "execution_count": null,
   "metadata": {},
   "outputs": [],
   "source": [
    "# run it for different thresholds and resolutions\n",
    "cluster_fracs = [0.10,0.25,0.40]\n",
    "resolutions = np.arange(0.1, 1.55, 0.05)\n",
    "\n",
    "again = True\n",
    "\n",
    "try:\n",
    "    if again:\n",
    "        raise FileNotFoundError\n",
    "    \n",
    "    # if already exists and not specifically said that we must do it again, read the datafile.\n",
    "    df = pd.read_csv('../../results/directionality_dependency_resolution.csv', header=None)\n",
    "except FileNotFoundError:\n",
    "    with open('../../results/directionality_dependency_resolution.csv', 'w', newline=\"\") as resultsfile:\n",
    "        csvwriter = csv.writer(resultsfile)\n",
    "        csvwriter.writerow([\"central\", \"contact\", \"contact_rp\", \"frac\", \"res\", \"directionality\"])\n",
    "\n",
    "    # loop over the cluster fracs\n",
    "    for frac in cluster_fracs:\n",
    "        \n",
    "        # calculate for each pair\n",
    "        for central_group in central_groups:\n",
    "            for contact_rp, contact_group in zip(contact_rps, contact_groups):\n",
    "                \n",
    "                # for each resolution\n",
    "                for resolution in resolutions:\n",
    "                    directionality = calc_directionality(contact_rp, contact_group, central_group, frac, round(resolution, 2), volumes_free)\n",
    "\n",
    "                    with open('../../results/directionality_dependency_resolution.csv', 'a', newline=\"\") as resultsfile:\n",
    "                        csvwriter = csv.writer(resultsfile)\n",
    "                        csvwriter.writerow([central_group, contact_group, contact_rp, round(frac, 2), round(resolution, 2), directionality])"
   ]
  },
  {
   "cell_type": "code",
   "execution_count": null,
   "metadata": {},
   "outputs": [],
   "source": [
    "# display result\n",
    "df = pd.read_csv('../../results/directionality_dependency_resolution.csv', header=0)\n",
    "display(df)"
   ]
  },
  {
   "cell_type": "markdown",
   "metadata": {},
   "source": [
    "### plot all the results"
   ]
  },
  {
   "cell_type": "code",
   "execution_count": null,
   "metadata": {
    "scrolled": true
   },
   "outputs": [],
   "source": [
    "for frac in cluster_fracs:\n",
    "    for central in central_groups:\n",
    "        plt.figure(figsize=(8,4))\n",
    "        plt.subplots_adjust(bottom=0.2)\n",
    "        plt.grid(True)\n",
    "        plt.title(f\"Dependency of directionality on resolution {central}\")\n",
    "\n",
    "        for contact_rp, contact in zip(contact_rps, contact_groups):\n",
    "            partdf = df[(df.frac == frac) & (df.central == central) & (df.contact == contact) & (df.contact_rp == contact_rp)]\n",
    "\n",
    "            plt.plot(partdf.res, partdf.directionality)\n",
    "\n",
    "            plt.scatter(partdf.res, partdf.directionality, label=contact + \"-\" + contact_rp)\n",
    "\n",
    "        plt.ylabel(\"Directionality\")\n",
    "\n",
    "        plt.xlabel(\"Resolution\")\n",
    "        plt.xlim(0.09, 0.81)\n",
    "        plt.legend(loc='upper right')\n",
    "        plt.show()\n",
    "        plt.savefig(f\"../../results/dependencies/directionality_resolution_{central}_frac_{frac :.2f}_maxres08.png\")"
   ]
  },
  {
   "cell_type": "markdown",
   "metadata": {},
   "source": [
    "# Directionality ~ Threshold"
   ]
  },
  {
   "cell_type": "code",
   "execution_count": null,
   "metadata": {},
   "outputs": [],
   "source": [
    "# for different resolutions and cluster fracs\n",
    "resolutions = [0.2, 0.25, 0.3]\n",
    "cluster_fracs = np.arange(0.1, 1, 0.05)\n",
    "\n",
    "again = True\n",
    "\n",
    "try:\n",
    "    if again:\n",
    "        raise FileNotFoundError\n",
    "\n",
    "    # if already exists and not specifically said that we must do it again, read the datafile\n",
    "    df = pd.read_csv('../../results/directionality_dependency_threshold.csv', header=None)\n",
    "except FileNotFoundError:\n",
    "    with open('../../results/directionality_dependency_threshold.csv', 'w', newline=\"\") as resultsfile:\n",
    "        csvwriter = csv.writer(resultsfile)\n",
    "        csvwriter.writerow([\"central\", \"contact\", \"contact_rp\", \"res\", \"frac\", \"directionality\"])\n",
    "\n",
    "    # loop over the cluster fracs\n",
    "    for frac in cluster_fracs:\n",
    "        \n",
    "        # calculate for each pair\n",
    "        for central_group in central_groups:\n",
    "            for contact_rp, contact_group in zip(contact_rps, contact_groups):\n",
    "                \n",
    "                # for each resolution\n",
    "                for resolution in resolutions:\n",
    "                    directionality = calc_directionality(contact_rp, contact_group, central_group, frac, round(resolution, 2), volumes_total)\n",
    "\n",
    "                    with open('../../results/directionality_dependency_threshold.csv', 'a', newline=\"\") as resultsfile:\n",
    "                        csvwriter = csv.writer(resultsfile)\n",
    "                        csvwriter.writerow([central_group, contact_group, contact_rp, round(resolution,2), round(frac, 2), directionality])"
   ]
  },
  {
   "cell_type": "code",
   "execution_count": null,
   "metadata": {},
   "outputs": [],
   "source": [
    "df = pd.read_csv('../../results/directionality_dependency_threshold.csv', header=0)\n",
    "display(df)"
   ]
  },
  {
   "cell_type": "markdown",
   "metadata": {},
   "source": [
    "### plot all results"
   ]
  },
  {
   "cell_type": "code",
   "execution_count": null,
   "metadata": {
    "scrolled": true
   },
   "outputs": [],
   "source": [
    "for resolution in resolutions:\n",
    "    for central in central_groups:\n",
    "        plt.figure(figsize=(8,4))\n",
    "        plt.subplots_adjust(bottom=0.2)\n",
    "        \n",
    "        plt.grid(True)\n",
    "        plt.title(f\"Dependency of directionality on threshold {central}\")\n",
    "\n",
    "        for contact_rp, contact in zip(contact_rps, contact_groups):\n",
    "            partdf = df[(df.frac <= 0.4) &(df.res == resolution) & (df.central == central) & (df.contact == contact) & (df.contact_rp == contact_rp)]\n",
    "\n",
    "            plt.plot(partdf.frac, partdf.directionality)\n",
    "\n",
    "            plt.scatter(partdf.frac, partdf.directionality, label=contact + \"-\" + contact_rp)\n",
    "to\n",
    "        plt.ylabel(\"Directionality\")\n",
    "\n",
    "        plt.xlabel(\"Fraction used to determine threshold\")\n",
    "        plt.legend(loc='upper right')\n",
    "        plt.show()\n",
    "        plt.savefig(f\"../../results/dependencies/directionality_threshold_{central}_res_{resolution :.2f}.png\")    "
   ]
  },
  {
   "cell_type": "markdown",
   "metadata": {},
   "source": [
    "# Datapoints ~ Clusterfrac"
   ]
  },
  {
   "cell_type": "code",
   "execution_count": null,
   "metadata": {},
   "outputs": [],
   "source": [
    "# for different resolutions and cluster fracs\n",
    "resolutions = [0.1, 0.2, 0.25, 0.3, 0.5]\n",
    "cluster_fracs = np.arange(0.1, 1, 0.05)\n",
    "\n",
    "again = True\n",
    "\n",
    "try:\n",
    "    if again:\n",
    "        raise FileNotFoundError\n",
    "    \n",
    "    # if already exists and not specifically said that we must do it again, read the datafile\n",
    "    df = pd.read_csv('../../results/datapoints_dependency_threshold.csv', header=None)\n",
    "except FileNotFoundError:\n",
    "\n",
    "    with open('../../results/datapoints_dependency_threshold.csv', 'w', newline=\"\") as resultsfile:\n",
    "                    csvwriter = csv.writer(resultsfile)\n",
    "                    csvwriter.writerow([\"central\", \"contact\", \"contact_rp\", \"res\", \"frac\", \"n\", \"n_frac\"])\n",
    "\n",
    "    # for each resolution\n",
    "    for resolution in resolutions:\n",
    "        \n",
    "        # calculate for each pair\n",
    "        for central_group in central_groups:\n",
    "            for contact_rp, contact_group in zip(contact_rps, contact_groups):\n",
    "                # loop over the cluster fracs\n",
    "                for frac in cluster_fracs:\n",
    "\n",
    "                    n_frac, n = points_in_cluster(contact_rp, contact_group, central_group, cluster_frac, round(resolution, 2))\n",
    "\n",
    "                    with open('../../results/datapoints_dependency_threshold.csv', 'a', newline=\"\") as resultsfile:\n",
    "                        csvwriter = csv.writer(resultsfile)\n",
    "                        csvwriter.writerow([central_group, contact_group, contact_rp, round(resolution, 2), round(cluster_frac, 2), n, n_frac])"
   ]
  },
  {
   "cell_type": "code",
   "execution_count": null,
   "metadata": {},
   "outputs": [],
   "source": [
    "df = pd.read_csv('../../results/datapoints_dependency_threshold.csv', header=0)\n",
    "display(df)"
   ]
  },
  {
   "cell_type": "markdown",
   "metadata": {},
   "source": [
    "### plot all results"
   ]
  },
  {
   "cell_type": "code",
   "execution_count": null,
   "metadata": {
    "scrolled": true
   },
   "outputs": [],
   "source": [
    "for resolution in resolutions:\n",
    "    for central in central_groups:\n",
    "        plt.figure(figsize=(8,4))\n",
    "        plt.grid(True)\n",
    "        plt.title(f\"Dependency of fraction datapoints on threshold {central}\\nResolution: {resolution}\")\n",
    "\n",
    "        for contact_rp, contact in zip(contact_rps, contact_groups):\n",
    "            partdf = df[(df.res == resolution) & (df.central == central) & (df.contact == contact) & (df.contact_rp == contact_rp)]\n",
    "\n",
    "            plt.plot(partdf.frac, partdf.n_frac)\n",
    "            plt.scatter(partdf.frac, partdf.n_frac, label=contact + \"-\" + contact_rp)\n",
    "        \n",
    "        plt.subplots_adjust(bottom=0.2)\n",
    "        plt.ylim(0,1.05)\n",
    "        plt.ylabel(\"Fraction of datapoints\")\n",
    "        plt.xlabel(\"Fraction used to determine threshold\")\n",
    "        plt.legend(loc='upper right')\n",
    "        plt.show()   \n",
    "        plt.savefig(f\"../../results/dependencies/datapoints_threshold_{central}_res{resolution :.2f}.png\")"
   ]
  },
  {
   "cell_type": "markdown",
   "metadata": {},
   "source": [
    "# Conclusion\n",
    "These figures need to be studied very good to be able to pick the right resolution and threshold. See thesis and/or paper for the reasoning."
   ]
  }
 ],
 "metadata": {
  "kernelspec": {
   "display_name": "Python 3",
   "language": "python",
   "name": "python3"
  },
  "language_info": {
   "codemirror_mode": {
    "name": "ipython",
    "version": 3
   },
   "file_extension": ".py",
   "mimetype": "text/x-python",
   "name": "python",
   "nbconvert_exporter": "python",
   "pygments_lexer": "ipython3",
   "version": "3.7.8"
  }
 },
 "nbformat": 4,
 "nbformat_minor": 4
}
