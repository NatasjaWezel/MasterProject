{
 "cells": [
  {
   "cell_type": "markdown",
   "metadata": {},
   "source": [
    "# Estimating Volumes\n",
    "What is a good resolution to accurately estimate the volume of the central group?"
   ]
  },
  {
   "cell_type": "code",
   "execution_count": null,
   "metadata": {},
   "outputs": [],
   "source": [
    "import sys\n",
    "sys.path.append('..//scripts//')\n",
    "\n",
    "# allows for automatic reloading of imports and makes it unncessecary to restart the kernel\n",
    "# whenever a function is changed\n",
    "%load_ext autoreload\n",
    "%autoreload 2"
   ]
  },
  {
   "cell_type": "code",
   "execution_count": null,
   "metadata": {
    "scrolled": false
   },
   "outputs": [],
   "source": [
    "%matplotlib notebook\n",
    "\n",
    "import matplotlib.pyplot as plt\n",
    "\n",
    "import time\n",
    "import csv\n",
    "\n",
    "import pandas as pd\n",
    "import numpy as np\n",
    "\n",
    "from classes.Settings import Settings\n",
    "from classes.Radii import Radii\n",
    "\n",
    "from constants.paths import WORKDIR\n",
    "\n",
    "from helpers.density_helpers import find_available_volume\n",
    "\n",
    "from calc_avg_fragment import calc_avg_frag"
   ]
  },
  {
   "cell_type": "code",
   "execution_count": null,
   "metadata": {},
   "outputs": [],
   "source": [
    "resolutions = []\n",
    "resolutions0 = np.arange(0.02, 0.1, 0.01)\n",
    "resolutions.extend(resolutions0)\n",
    "\n",
    "resolutions1 = np.arange(0.1, 1.1, 0.1)\n",
    "resolutions.extend(resolutions1)\n",
    "\n",
    "resolutions.reverse()\n",
    "\n",
    "tolerance = 0.5\n",
    "\n",
    "central_groups = {\"H2O\": [\"H\", \"C\"], \"NO3\": [\"C\"], \"RC6H5\": [\"C\"], \"RC6F5\": [\"C\"]}"
   ]
  },
  {
   "cell_type": "markdown",
   "metadata": {},
   "source": [
    "# Here come the long calculations"
   ]
  },
  {
   "cell_type": "code",
   "execution_count": null,
   "metadata": {
    "scrolled": true
   },
   "outputs": [],
   "source": [
    "tolerance = 0.5\n",
    "\n",
    "rerun = False\n",
    "\n",
    "if rerun:\n",
    "    # open file and write headers\n",
    "    with open(\"../../results/binsize_for_volume.csv\", 'w', newline='') as resultsFile:\n",
    "        writer = csv.writer(resultsFile, delimiter=',')\n",
    "\n",
    "        writer.writerow(['central', 'contact', 'atom', 'res', 'Vmax', 'V', 'comptime'])\n",
    "    \n",
    "    for res in resolutions:\n",
    "        for cg in central_groups.keys():\n",
    "            settings = Settings(WORKDIR, f\"..\\\\data\\\\{cg}\\\\{cg}_CF_vdw.5\\\\{cg}_CF_vdw.5.csv\")\n",
    "            radii = Radii(settings.get_radii_csv_name())\n",
    "            \n",
    "            for atom in central_groups[cg]:      \n",
    "            \n",
    "                starttime = time.time()\n",
    "                settings.set_resolution(round(res,2))\n",
    "                \n",
    "                df = pd.read_csv(settings.get_aligned_csv_filename(), header=0)\n",
    "                avg_frag = calc_avg_frag(df, settings, radii)\n",
    "                \n",
    "                contact_group_radius = radii.get_vdw_distance_contact(atom)\n",
    "                \n",
    "                volume_max = find_available_volume(avg_fragment=avg_frag, extra=(tolerance + contact_group_radius), total=True, resolution=res)\n",
    "                volume_central = find_available_volume(avg_fragment=avg_frag, extra=0, total=True, resolution=res)\n",
    "                \n",
    "                comptime = time.time() - starttime\n",
    "\n",
    "                # save results\n",
    "                with open(\"../../results/binsize_for_volume.csv\", 'a', newline='') as resultsFile:\n",
    "                    writer = csv.writer(resultsFile, delimiter=',')\n",
    "\n",
    "                    writer.writerow([cg, 'CF', atom, res, volume_max, volume_central, comptime])\n",
    "                    \n",
    "                print(cg, 'CF', atom, res, volume_max, volume_central, comptime)"
   ]
  },
  {
   "cell_type": "markdown",
   "metadata": {},
   "source": [
    "## Resultaten plotten"
   ]
  },
  {
   "cell_type": "code",
   "execution_count": null,
   "metadata": {},
   "outputs": [],
   "source": [
    "df = pd.read_csv(\"../../results/binsize_for_volume.csv\")\n",
    "\n",
    "# reference values\n",
    "real_water = 16.85\n",
    "real_nitrate = 40.0872\n",
    "real_aryl = 89.0991\n",
    "real_pentafluoroaryl = 122.2819\n",
    "\n",
    "real_water_H_max = 137.178\n",
    "real_water_max = 232.971\n",
    "real_nitrate_max = 365.532\n",
    "real_aryl_max = 577.290\n",
    "real_pentafluoroaryl_max = 728.153\n",
    "\n",
    "# calculate the differences\n",
    "real_water_H_diff = real_water_H_max - real_water\n",
    "real_water_C_diff = real_water_max - real_water\n",
    "real_nitrate_diff = real_nitrate_max - real_nitrate\n",
    "real_aryl_diff = real_aryl_max - real_aryl\n",
    "real_pentafluoroaryl_diff = real_pentafluoroaryl_max - real_pentafluoroaryl"
   ]
  },
  {
   "cell_type": "code",
   "execution_count": null,
   "metadata": {},
   "outputs": [],
   "source": [
    "display(df)"
   ]
  },
  {
   "cell_type": "code",
   "execution_count": null,
   "metadata": {
    "scrolled": false
   },
   "outputs": [],
   "source": [
    "fig, ax = plt.subplots(figsize=(8, 4))\n",
    "plt.grid(True)\n",
    "plt.title(\"Volume of $H_2O$ as central group, with different resolutions\\n Contact group: CF\")\n",
    "\n",
    "# plot h2o - c\n",
    "h2o_df_max = df[(df.central == \"H2O\") & (df.atom == \"C\")]\n",
    "ax.scatter(h2o_df_max.res, h2o_df_max.Vmax, label=\"$H_2O$ + 0.5 + vdW 1.7\", color='tab:blue')\n",
    "ax.plot(h2o_df_max.res, h2o_df_max.Vmax, color='tab:blue')\n",
    "\n",
    "# plot h2o - h\n",
    "h2o_df_max_H = df[(df.central == \"H2O\") & (df.atom == \"H\")]\n",
    "ax.scatter(h2o_df_max_H.res, h2o_df_max_H.Vmax, label=\"$H_2O$ + 0.5 + vdW 1.09\", color='tab:green')\n",
    "ax.plot(h2o_df_max_H.res, h2o_df_max_H.Vmax, color='tab:green')\n",
    "\n",
    "# plot h2o\n",
    "h2o_df = df[(df.central == \"H2O\") & (df.atom == \"H\")]\n",
    "ax.scatter(h2o_df.res, h2o_df.V, label=\"$H_2O$\", color='tab:red')\n",
    "ax.plot(h2o_df.res, h2o_df.V, color='tab:red')\n",
    "\n",
    "ax.set_ylabel(r'Volume ($\\AA^3$)')\n",
    "ax.set_xlabel(\"Resolution\")\n",
    "ax.legend(loc='upper right')\n",
    "\n",
    "plt.savefig('../../results/plots/volumes.png', format='png')"
   ]
  },
  {
   "cell_type": "code",
   "execution_count": null,
   "metadata": {},
   "outputs": [],
   "source": [
    "# calculate percentage error\n",
    "df['percentage_error'] = 100\n",
    "df['per_err_central'] = 100\n",
    "\n",
    "df.loc[(df.central == \"H2O\") & (df.atom == \"H\"), 'percentage_error'] = (df[(df.central == \"H2O\") & (df.atom == \"H\")]['Vmax'] - real_water_H_max)/real_water_H_max * 100\n",
    "df.loc[(df.central == \"H2O\") & (df.atom == \"C\"), 'percentage_error'] = (df[(df.central == \"H2O\") & (df.atom == \"C\")]['Vmax'] - real_water_max)/real_water_max * 100\n",
    "\n",
    "df.loc[(df.central == \"NO3\"), 'percentage_error'] = abs((df[(df.central == \"NO3\")]['Vmax'] - real_nitrate_max)/real_nitrate_max) * 100\n",
    "df.loc[(df.central == \"RC6H5\"), 'percentage_error'] = abs((df[(df.central == \"RC6H5\")]['Vmax'] - real_aryl_max)/real_aryl_max) * 100\n",
    "df.loc[(df.central == \"RC6F5\"), 'percentage_error'] = abs((df[(df.central == \"RC6F5\")]['Vmax'] - real_pentafluoroaryl_max)/real_pentafluoroaryl_max) * 100\n",
    "\n",
    "################################## calculate of only central group\n",
    "\n",
    "df.loc[(df.central == \"H2O\") & (df.atom == \"H\"), 'per_err_central'] = (df[(df.central == \"H2O\") & (df.atom == \"H\")]['V'] - real_water)/real_water * 100\n",
    "df.loc[(df.central == \"H2O\") & (df.atom == \"C\"), 'per_err_central'] = (df[(df.central == \"H2O\") & (df.atom == \"C\")]['V'] - real_water)/real_water * 100\n",
    "\n",
    "df.loc[(df.central == \"NO3\"), 'per_err_central'] = abs((df[(df.central == \"NO3\")]['V'] - real_nitrate)/real_nitrate) * 100\n",
    "df.loc[(df.central == \"RC6H5\"), 'per_err_central'] = abs((df[(df.central == \"RC6H5\")]['V'] - real_aryl)/real_aryl) * 100\n",
    "df.loc[(df.central == \"RC6F5\"), 'per_err_central'] = abs((df[(df.central == \"RC6F5\")]['V'] - real_pentafluoroaryl)/real_pentafluoroaryl) * 100\n",
    "\n",
    "\n",
    "################################# calculate difference\n",
    "\n",
    "df['diff'] = df['Vmax'] - df['V']\n",
    "\n",
    "df.loc[(df.central == \"H2O\") & (df.atom == \"H\"), 'diff_perc'] = (df[(df.central == \"H2O\") & (df.atom == \"H\")]['diff'] - real_water_H_diff)/real_water_H_diff * 100\n",
    "df.loc[(df.central == \"H2O\") & (df.atom == \"C\"), 'diff_perc'] = (df[(df.central == \"H2O\") & (df.atom == \"C\")]['diff'] - real_water_C_diff)/real_water_C_diff * 100\n",
    "\n",
    "df.loc[(df.central == \"NO3\"), 'diff_perc'] = abs((df[(df.central == \"NO3\")]['diff'] - real_nitrate_diff)/real_nitrate_diff) * 100\n",
    "df.loc[(df.central == \"RC6H5\"), 'diff_perc'] = abs((df[(df.central == \"RC6H5\")]['diff'] - real_aryl_diff)/real_aryl_diff) * 100\n",
    "df.loc[(df.central == \"RC6F5\"), 'diff_perc'] = abs((df[(df.central == \"RC6F5\")]['diff'] - real_pentafluoroaryl_diff)/real_pentafluoroaryl_diff) * 100\n",
    "\n",
    "display(df)"
   ]
  },
  {
   "cell_type": "code",
   "execution_count": null,
   "metadata": {},
   "outputs": [],
   "source": [
    "fig, (ax1, ax2) = plt.subplots(1, 2, figsize=(8,4))\n",
    "ax1.grid(True)\n",
    "ax2.grid(True)\n",
    "plt.suptitle(\"Volume central groups, contact group: CF\")\n",
    "\n",
    "h2o_df_max = df[(df.central == \"H2O\") & (df.atom == \"C\")]\n",
    "h2o_df_max_H = df[(df.central == \"H2O\") & (df.atom == \"H\")]\n",
    "no3 = df[(df.central == \"NO3\")]\n",
    "rc6h5 = df[(df.central == \"RC6H5\")]\n",
    "rc6f5 = df[(df.central == \"RC6F5\")]\n",
    "\n",
    "# plot percental errors\n",
    "ax1.scatter(h2o_df_max.res, h2o_df_max.percentage_error, label=\"$H_2O$-C\", color='green')\n",
    "ax1.plot(h2o_df_max.res, h2o_df_max.percentage_error, color='green')\n",
    "\n",
    "ax1.scatter(h2o_df_max_H.res, h2o_df_max_H.percentage_error, label=\"$H_2O$-H\", color='blue')\n",
    "ax1.plot(h2o_df_max_H.res, h2o_df_max_H.percentage_error, color='blue')\n",
    "\n",
    "ax1.scatter(no3.res, no3.percentage_error, label=\"$NO_3^-$\", color='red')\n",
    "ax1.plot(no3.res, no3.percentage_error, color='red')\n",
    "\n",
    "ax1.scatter(rc6h5.res, rc6h5.percentage_error, label=\"$RC_6H_5$\", color='orchid')\n",
    "ax1.plot(rc6h5.res, rc6h5.percentage_error, color='orchid')\n",
    "\n",
    "ax1.scatter(rc6f5.res, rc6f5.percentage_error, label=\"$RC_6F_5$\", color='yellow')\n",
    "ax1.plot(rc6f5.res, rc6f5.percentage_error, color='yellow')\n",
    "\n",
    "\n",
    "# ax1.set_ylim(0, 10)\n",
    "# ax1.set_xlim(0, 0.1)\n",
    "\n",
    "# plot time\n",
    "ax2.set_yscale('log')\n",
    "\n",
    "ax2.scatter(h2o_df_max.res, h2o_df_max.comptime, color='tab:green', label=\"$H_2O$-H time\")\n",
    "ax2.plot(h2o_df_max.res, h2o_df_max.comptime, color='tab:green')\n",
    "\n",
    "ax2.scatter(h2o_df_max_H.res, h2o_df_max_H.comptime, color='tab:blue', label=\"$H_2O$-H\")\n",
    "ax2.plot(h2o_df_max_H.res, h2o_df_max_H.comptime, color='tab:blue')\n",
    "\n",
    "ax2.scatter(no3.res, no3.comptime, color='tab:red', label='$NO_3^-$ time')\n",
    "ax2.plot(no3.res, no3.comptime, color='tab:red')\n",
    "\n",
    "ax2.scatter(rc6h5.res, rc6h5.comptime, color='tab:purple', label=\"$RC_6H_5$ time\")\n",
    "ax2.plot(rc6h5.res, rc6h5.comptime, color='tab:purple')\n",
    "\n",
    "ax2.scatter(rc6f5.res, rc6f5.comptime, color='tab:orange', label=\"$RC_6F_5$ time\")\n",
    "ax2.plot(rc6f5.res, rc6f5.comptime, color='tab:orange')\n",
    "\n",
    "ax2.set_xlim(0, 0.1)\n",
    "ax2.vlines(0.03, 0, 100000, colors='black')\n",
    "\n",
    "ax1.hlines(3, 0, 1, colors='black')\n",
    "ax1.hlines(5, 0, 1, colors='black')\n",
    "\n",
    "ax1.set_title('Percentage error')\n",
    "ax2.set_title('Computational time')\n",
    "ax2.set_ylabel('Computational time (seconds)')\n",
    "ax2.set_xlabel('resolution')\n",
    "\n",
    "ax1.set_ylabel(r'Percentage')\n",
    "ax1.set_xlabel(\"resolution\")\n",
    "\n",
    "ax1.legend()\n",
    "ax2.legend()\n",
    "\n",
    "plt.subplots_adjust(wspace=0.3)\n",
    "plt.savefig('../../results/plots/volumes_error.png', format='png')"
   ]
  },
  {
   "cell_type": "code",
   "execution_count": null,
   "metadata": {
    "scrolled": false
   },
   "outputs": [],
   "source": [
    "plt.figure(figsize=(8,3.5))\n",
    "plt.subplots_adjust(bottom=0.2)\n",
    "plt.grid(True)\n",
    "plt.title(\"Percentage error available volume\\nTotal volume - central group volume, contact group CF\")\n",
    "\n",
    "h2o_df_max = df[(df.central == \"H2O\") & (df.atom == \"C\")]\n",
    "h2o_df_max_H = df[(df.central == \"H2O\") & (df.atom == \"H\")]\n",
    "no3 = df[(df.central == \"NO3\")]\n",
    "rc6h5 = df[(df.central == \"RC6H5\")]\n",
    "rc6f5 = df[(df.central == \"RC6F5\")]\n",
    "\n",
    "# plot percental errors\n",
    "plt.scatter(h2o_df_max_H.res, h2o_df_max_H.diff_perc, label=\"$H_2O$ + 0.5 + vdW 1.09 (H)\", color='tab:blue')\n",
    "plt.plot(h2o_df_max_H.res, h2o_df_max_H.diff_perc, color='tab:blue')\n",
    "\n",
    "plt.scatter(h2o_df_max.res, h2o_df_max.diff_perc, label=\"$H_2O$ + 0.5 + vdW 1.7 (C)\", color='tab:green')\n",
    "plt.plot(h2o_df_max.res, h2o_df_max.diff_perc, color='tab:green')\n",
    "\n",
    "plt.scatter(no3.res, no3.diff_perc, label=\"$NO_3^- + 0.5 + vdW 1.7 (C)$\", color='tab:red')\n",
    "plt.plot(no3.res, no3.diff_perc, color='tab:red')\n",
    "\n",
    "plt.scatter(rc6h5.res, rc6h5.diff_perc, label=\"$RC_6H_5 + 0.5 + vdW 1.7 (C)$\", color='tab:purple')\n",
    "plt.plot(rc6h5.res, rc6h5.diff_perc, color='tab:purple')\n",
    "\n",
    "plt.scatter(rc6f5.res, rc6f5.diff_perc, label=\"$RC_6F_5 + 0.5 + vdW 1.7 (C)$\", color='tab:orange')\n",
    "plt.plot(rc6f5.res, rc6f5.diff_perc, color='tab:orange')\n",
    "\n",
    "plt.hlines(3, 0, 1, colors='grey', linestyles='dashed')\n",
    "plt.hlines(5, 0, 1, colors='grey', linestyles='dashed')\n",
    "\n",
    "plt.ylim(0, 15)\n",
    "plt.xlim(0, 0.5)\n",
    "\n",
    "plt.ylabel('Percentage error')\n",
    "plt.xlabel(\"Resolution\")\n",
    "plt.legend(loc='lower right')\n",
    "\n",
    "plt.savefig('../../results/plots/volumes_error.svg', format='svg')"
   ]
  },
  {
   "cell_type": "markdown",
   "metadata": {},
   "source": [
    "# Conclusion\n",
    "We can use a resolution of 0.1 to estimate the available volume."
   ]
  },
  {
   "cell_type": "markdown",
   "metadata": {},
   "source": [
    "# Minor check for METHYL volume"
   ]
  },
  {
   "cell_type": "code",
   "execution_count": null,
   "metadata": {},
   "outputs": [],
   "source": [
    "avg_f = pd.read_csv(\"..\\\\..\\\\results\\\\pairs\\\\RCOMe\\\\RCOMe_R2CO_vdw.5\\\\RCOMe_R2CO_kmeans_ch3_test_avg_fragment.csv\")\n",
    "V_kmeans = find_available_volume(avg_fragment=avg_f, extra=0, total=True)\n",
    "print(V_kmeans)"
   ]
  },
  {
   "cell_type": "code",
   "execution_count": null,
   "metadata": {},
   "outputs": [],
   "source": [
    "avg_f = pd.read_csv(\"..\\\\..\\\\results\\\\pairs\\\\RCOMe\\\\RCOMe_R2CO_vdw.5\\\\RCOMe_R2CO_avg_fragment.csv\")\n",
    "V_20H = find_available_volume(avg_fragment=avg_f, extra=0, total=True)\n",
    "print(V_20H)"
   ]
  },
  {
   "cell_type": "code",
   "execution_count": null,
   "metadata": {},
   "outputs": [],
   "source": [
    "avg_f = pd.read_csv(\"..\\\\..\\\\results\\\\pairs\\\\RCOMe\\\\RCOMe_R2CO_vdw.5\\\\RCOMe_R2CO_avg_fragment_model_3H.csv\")\n",
    "V_3H = find_available_volume(avg_fragment=avg_f, extra=0, total=True)\n",
    "print(V_3H)"
   ]
  },
  {
   "cell_type": "code",
   "execution_count": null,
   "metadata": {},
   "outputs": [],
   "source": [
    "print(\"Differences\")\n",
    "print(f\"20H model vs 3H model {abs((V_20H - V_3H) / V_3H) * 100 :.2f}%\")\n",
    "print(f\"20H model vs kmeans model {abs((V_20H - V_kmeans) / V_kmeans) * 100 :.2f}%\")\n",
    "print(f\"3H model vs kmeans model {abs((V_3H - V_kmeans) / V_kmeans) * 100 :.2f}%\")"
   ]
  },
  {
   "cell_type": "code",
   "execution_count": null,
   "metadata": {},
   "outputs": [],
   "source": []
  }
 ],
 "metadata": {
  "kernelspec": {
   "display_name": "Python 3",
   "language": "python",
   "name": "python3"
  },
  "language_info": {
   "codemirror_mode": {
    "name": "ipython",
    "version": 3
   },
   "file_extension": ".py",
   "mimetype": "text/x-python",
   "name": "python",
   "nbconvert_exporter": "python",
   "pygments_lexer": "ipython3",
   "version": "3.7.8"
  }
 },
 "nbformat": 4,
 "nbformat_minor": 4
}
