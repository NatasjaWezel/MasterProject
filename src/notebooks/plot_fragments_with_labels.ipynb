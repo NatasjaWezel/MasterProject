{
 "cells": [
  {
   "cell_type": "markdown",
   "metadata": {},
   "source": [
    "# Labels      \n",
    "Plot the first fragments and their labels.      \n"
   ]
  },
  {
   "cell_type": "code",
   "execution_count": null,
   "metadata": {},
   "outputs": [],
   "source": [
    "%matplotlib notebook\n",
    "import pandas as pd\n",
    "import matplotlib.pyplot as plt\n",
    "import numpy as np\n",
    "\n",
    "import sys\n",
    "\n",
    "sys.path.append('../scripts/')\n",
    "sys.path.append('../')\n",
    "\n",
    "from classes.Radii import Radii\n",
    "from classes.Settings import AlignmentSettings\n",
    "\n",
    "from tools.plot_first_fragment_labels import plot_fragment_with_labels"
   ]
  },
  {
   "cell_type": "code",
   "execution_count": null,
   "metadata": {},
   "outputs": [],
   "source": [
    "central_groups = [\"RCOMe\", \"RNO2\", \"REt\", \"ArCI\", \"NO3\", \"RC6F5\", \"H2O\", \"RC6H5\"]\n",
    "contact_groups = [\"ArCH\"]"
   ]
  },
  {
   "cell_type": "code",
   "execution_count": null,
   "metadata": {
    "scrolled": false
   },
   "outputs": [],
   "source": [
    "for central in central_groups:\n",
    "    for contact in contact_groups:\n",
    "        # get the data file and make a settings object\n",
    "        datafile = \"..\\\\data\\\\\" + central + \"\\\\\" + central + \"_\" + contact + \"_vdw.5.cor\"\n",
    "        settings = AlignmentSettings('../', datafile)\n",
    "\n",
    "        plot_fragment_with_labels(settings)"
   ]
  },
  {
   "cell_type": "code",
   "execution_count": null,
   "metadata": {},
   "outputs": [],
   "source": []
  }
 ],
 "metadata": {
  "kernelspec": {
   "display_name": "Python 3",
   "language": "python",
   "name": "python3"
  },
  "language_info": {
   "codemirror_mode": {
    "name": "ipython",
    "version": 3
   },
   "file_extension": ".py",
   "mimetype": "text/x-python",
   "name": "python",
   "nbconvert_exporter": "python",
   "pygments_lexer": "ipython3",
   "version": "3.7.8"
  }
 },
 "nbformat": 4,
 "nbformat_minor": 4
}
