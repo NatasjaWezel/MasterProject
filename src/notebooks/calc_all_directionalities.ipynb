{
 "cells": [
  {
   "cell_type": "markdown",
   "metadata": {},
   "source": [
    "# Calculate all directionalities\n",
    "In this notebook, you can calculate all the directionalities of the groups of which the data is already in the data folder and the densities are already calculated. All the volumes also have to be calculated already. It will make a table containing the directionalities of all groups, sorted and colored on which ones are most directional or not. \n",
    "\n",
    "You can pick a resolution on which to do this, as long as this resolution has already been calculated. A threshold can also be picked. For this, no pre-calculations are required.\n",
    "\n",
    "$\\textit{NB: You can only do this if all the files of the contact pairs have the \"standard\" filename.}$"
   ]
  },
  {
   "cell_type": "code",
   "execution_count": null,
   "metadata": {},
   "outputs": [],
   "source": [
    "%matplotlib notebook\n",
    "%load_ext autoreload\n",
    "%autoreload 2\n",
    "\n",
    "import matplotlib.pyplot as plt\n",
    "import seaborn as sns\n",
    "import pandas as pd\n",
    "import sys\n",
    "\n",
    "# so we can import scripts from the scripts folder although it is not a child repository\n",
    "sys.path.append('..//scripts//')\n",
    "\n",
    "from classes.Settings import Settings\n",
    "from classes.Radii import Radii\n",
    "from constants.paths import WORKDIR\n",
    "\n",
    "from calc_density import calc_vdw_overlap"
   ]
  },
  {
   "cell_type": "markdown",
   "metadata": {},
   "source": [
    "# Here you can define the central and contact groups and the reference point from the contact group "
   ]
  },
  {
   "cell_type": "code",
   "execution_count": null,
   "metadata": {},
   "outputs": [],
   "source": [
    "central_groups = [\"ArCI\", \"REt\", \"RCOMe\", \"RNO2\", \"NO3\", \"RC6F5\", \"RC6H5\", \"H2O\"] #\n",
    "contact_groups = [\"CF\", \"RCN\", \"R2CO\", \"XH\", \"XH\", \"CCH3\", \"C2CH2\", \"RC6H5\", \"ArCH\"]\n",
    "contact_rps =       [\"F\",   \"N\",    \"O\",   \"H\", \"O\",  \"H\",     \"H\", \"centroid\", \"H\"]"
   ]
  },
  {
   "cell_type": "code",
   "execution_count": null,
   "metadata": {
    "scrolled": true
   },
   "outputs": [],
   "source": [
    "volumes_free = pd.read_csv('../../results/volumes_free.csv')\n",
    "amounts = pd.read_csv('../../results/amounts_structures.csv')\n",
    "\n",
    "def calc_all(volumes, cluster_frac, resolution):\n",
    "    \"\"\" Calculates all the directionalities for the contact pairs that are given in the previous cell. The\n",
    "        volume is given as input value so it can be investigated whether it is better to use the total volume\n",
    "        than the free volume. \"\"\"\n",
    "\n",
    "    # make an empty table containing all the contact pairs\n",
    "    dir_df = pd.DataFrame(index=central_groups, columns=[x+\"-\"+y for x,y in zip(contact_groups, contact_rps)])\n",
    "    vdw_overlap_df = pd.DataFrame(index=central_groups, columns=[x+\"-\"+y for x,y in zip(contact_groups, contact_rps)])\n",
    "    \n",
    "    # loop over all pairs\n",
    "    for central in central_groups:\n",
    "        for contact_rp, contact in zip(contact_rps, contact_groups):\n",
    "            print(f\"\\n{central}, {contact}, ({contact_rp})\")\n",
    "\n",
    "            # get the data file and make a settings object\n",
    "            datafile = \"..\\\\data\\\\\" + central + \"\\\\\" + central + \"_\" + contact + \"_vdw.5.cor\"\n",
    "\n",
    "            settings = Settings(WORKDIR, datafile)\n",
    "            settings.set_contact_reference_point(contact_rp)\n",
    "            settings.set_resolution(resolution)\n",
    "            settings.set_threshold(0.1)\n",
    "    \n",
    "            # read in the density df containing the bins with \n",
    "            density_df = pd.read_hdf(settings.get_density_df_filename(), settings.get_density_df_key())   \n",
    "            \n",
    "            print(density_df[contact_rp].sum())\n",
    "            \n",
    "            # if there is enough datapoints for a reliable directionality\n",
    "            if density_df[contact_rp].sum() > 2000:\n",
    "                \n",
    "                # normalize the fraction\n",
    "                density_df['datafrac_normalized'] = density_df[contact_rp] / density_df[contact_rp].sum()\n",
    "\n",
    "                # calculate threshold with given cluster fraction\n",
    "                threshold = density_df.datafrac_normalized.max() * cluster_frac\n",
    "\n",
    "                # take the bins that are fuller than that treshold and calc it's volume and datafrac\n",
    "                in_cluster = density_df[density_df.datafrac_normalized >= threshold]\n",
    "                datafrac = in_cluster.datafrac_normalized.sum()\n",
    "                Vcluster = len(in_cluster) * resolution**3\n",
    "\n",
    "                # take the available volume from the volume df and calc directionality\n",
    "                Vavailable = volumes.loc[(volumes.central == central) & (volumes.contact == contact) & (volumes.contact_rp == contact_rp), 'volume'].item()          \n",
    "                directionality = datafrac / Vcluster * (Vavailable/2) \n",
    "            \n",
    "                # save the directionality in the table so we can plot it later\n",
    "                dir_df.loc[dir_df.index == central, contact + \"-\" + contact_rp] = directionality\n",
    "                \n",
    "                # calc vdw overlap and save it as well               \n",
    "                radii = Radii(settings.get_radii_csv_name())\n",
    "                contact_group_radius = radii.get_vdw_distance_contact(settings.contact_rp)\n",
    "                avg_frag = pd.read_csv(settings.outputfile_prefix + \"_avg_fragment.csv\", header=0)\n",
    "                vdw_overlap = calc_vdw_overlap(in_cluster.copy(), settings, avg_frag, contact_group_radius)\n",
    "                vdw_overlap_df.loc[dir_df.index == central, contact + \"-\" + contact_rp] = vdw_overlap\n",
    "                \n",
    "                print(density_df[contact_rp].sum(), datafrac, Vcluster, Vavailable, directionality, end='\\n\\n')\n",
    "            \n",
    "    return dir_df, vdw_overlap_df\n",
    "\n",
    "directionalities, vdw_overlap = calc_all(volumes=volumes_free, cluster_frac=0.1, resolution=0.3)"
   ]
  },
  {
   "cell_type": "code",
   "execution_count": null,
   "metadata": {},
   "outputs": [],
   "source": [
    "def sort_df(df):\n",
    "    \"\"\" Sorts df based on mean value of row/column. Highest value will most likely end up in the right upper\n",
    "        corner, lowest value in the lower left corner. \"\"\"\n",
    "    \n",
    "    # sort columns\n",
    "    df = df.reindex(df.mean().sort_values(ascending=True).index, axis=1)\n",
    "\n",
    "    # transpose to sort rows\n",
    "    df = df.transpose()\n",
    "    df = df.reindex(df.mean().sort_values(ascending=False).index, axis=1)\n",
    "    \n",
    "    # transpose back\n",
    "    df = df.transpose()\n",
    "    \n",
    "    return df\n",
    "\n",
    "directionalities = sort_df(directionalities)\n",
    "\n",
    "# sort the overlap df in the same way\n",
    "columns = directionalities.columns.to_list()\n",
    "rows = directionalities.index.to_list()\n",
    "\n",
    "vdw_overlap = vdw_overlap.reindex(rows)\n",
    "vdw_overlap = vdw_overlap[columns]\n",
    "\n",
    "display(directionalities)\n",
    "display(vdw_overlap)"
   ]
  },
  {
   "cell_type": "markdown",
   "metadata": {},
   "source": [
    "# saving the directionality tables\n",
    "If you want to make another table, you need to also change some variables in the cell below."
   ]
  },
  {
   "cell_type": "code",
   "execution_count": null,
   "metadata": {},
   "outputs": [],
   "source": [
    "def make_directionality_table(df, title, fmt, pltname=\"\"):\n",
    "    \"\"\" Take the sorted df and make it into a nice table, with a colorscheme for high and low values. \"\"\"\n",
    "    \n",
    "    fig, ax = plt.subplots(figsize=(8,3))\n",
    "    plt.title(title)\n",
    "\n",
    "    # make a mask because else the NaN values are white\n",
    "    mask = df.isnull()\n",
    "    g = sns.heatmap(df.astype('float'), cmap=sns.diverging_palette(145, 300, s=60, as_cmap=True),\n",
    "                    annot=True,\n",
    "                    mask=mask,\n",
    "                    fmt=fmt,\n",
    "                    linewidth =0.1)\n",
    "    \n",
    "    # color nans light grey\n",
    "    g.set_facecolor('lightgrey')\n",
    "\n",
    "    plt.xlabel(\"Contact group\")\n",
    "    plt.xticks(rotation=30)\n",
    "\n",
    "    plt.ylabel(\"Central group\")\n",
    "    plt.yticks(rotation=0)\n",
    "\n",
    "    fig.subplots_adjust(bottom=0.25)\n",
    "    plt.show()\n",
    "    \n",
    "    # save the plot if a plotname is given\n",
    "    if not pltname == \"\":\n",
    "        plt.savefig(pltname, format='svg')\n",
    "\n",
    "# set the names here\n",
    "title_free = \"Directionalities free volume\"\n",
    "pltname_free = '../../results/plots/directionalities_10_03_rcome_ret_kmeans_res05_free_volume.svg'\n",
    "\n",
    "# make and save the tables here\n",
    "make_directionality_table(directionalities, title=title_free, fmt='.3f', pltname=pltname_free)\n",
    "\n",
    "# set the names here\n",
    "title_free = \"% datapoints in cluster with vdW overlap\"\n",
    "\n",
    "# make and save the tables here\n",
    "make_directionality_table(vdw_overlap, fmt='.0f', title=title_free)\n",
    "make_directionality_table(sort_df(vdw_overlap), fmt='.0f', title=title_free)\n",
    "\n"
   ]
  },
  {
   "cell_type": "markdown",
   "metadata": {},
   "source": [
    "# This is the end of this notebook. \n",
    "You can change the settings and re-run it if you want to plot/save other directionality tables"
   ]
  },
  {
   "cell_type": "code",
   "execution_count": null,
   "metadata": {},
   "outputs": [],
   "source": []
  }
 ],
 "metadata": {
  "kernelspec": {
   "display_name": "Python 3",
   "language": "python",
   "name": "python3"
  },
  "language_info": {
   "codemirror_mode": {
    "name": "ipython",
    "version": 3
   },
   "file_extension": ".py",
   "mimetype": "text/x-python",
   "name": "python",
   "nbconvert_exporter": "python",
   "pygments_lexer": "ipython3",
   "version": "3.7.8"
  }
 },
 "nbformat": 4,
 "nbformat_minor": 4
}
