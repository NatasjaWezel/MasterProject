{
 "cells": [
  {
   "cell_type": "markdown",
   "metadata": {},
   "source": [
    "# Superimposition: Rotations versus Kabsch\n",
    "In this notebook, we find out what the best way is to align the fragments. We do this by comparing different rmse's of different superimposition (alignment) methods.\n",
    "\n",
    "- We also check if mirroring makes the alignment better/worse.\n",
    "\n",
    "- Another thing we look at is if the H's in for example methyl are better left out of the alignment or not."
   ]
  },
  {
   "cell_type": "code",
   "execution_count": null,
   "metadata": {},
   "outputs": [],
   "source": [
    "import pandas as pd\n",
    "import matplotlib.pyplot as plt"
   ]
  },
  {
   "cell_type": "markdown",
   "metadata": {},
   "source": [
    "## Checking rotations and kabsch\n",
    "- does it matter which labels we use for rotation\n",
    "- does it matter if we mirror\n",
    "\n",
    "We get 8 result lines:\n",
    "- Kabsch, mirrored/not mirrored\n",
    "- Rotation labels 2, 4, 6, mirrored/notmirrored\n",
    "- Rotation labels 1, 2, 3, mirrored/notmirrored\n",
    "- Rotation labesl 1, 4, 6, mirrored/notmirrored"
   ]
  },
  {
   "cell_type": "code",
   "execution_count": null,
   "metadata": {},
   "outputs": [],
   "source": [
    "# rotation mirrored\n",
    "df_rot_246 = pd.read_csv('../../results/pairs/RC6H5/RC6H5_R2CO_vdw.5/RC6H5_R2CO_rot_246_structures.csv')\n",
    "df_rot_123 = pd.read_csv('../../results/pairs/RC6H5/RC6H5_R2CO_vdw.5/RC6H5_R2CO_rot_123_structures.csv')\n",
    "df_rot_146 = pd.read_csv('../../results/pairs/RC6H5/RC6H5_R2CO_vdw.5/RC6H5_R2CO_rot_146_structures.csv')\n",
    "\n",
    "# rotation not mirrored\n",
    "df_rot_246_not_mir = pd.read_csv('../../results/pairs/RC6H5/RC6H5_R2CO_vdw.5/RC6H5_R2CO_rot_not_mir_246_structures.csv')\n",
    "df_rot_123_not_mir = pd.read_csv('../../results/pairs/RC6H5/RC6H5_R2CO_vdw.5/RC6H5_R2CO_rot_not_mir_123_structures.csv')\n",
    "df_rot_146_not_mir = pd.read_csv('../../results/pairs/RC6H5/RC6H5_R2CO_vdw.5/RC6H5_R2CO_rot_not_mir_146_structures.csv')\n",
    "\n",
    "# kabsch, both mirrored and not mirrored\n",
    "df_kab = pd.read_csv('../../results/pairs/RC6H5/RC6H5_R2CO_vdw.5/RC6H5_R2CO_structures.csv')\n",
    "df_kab_not_mir = pd.read_csv('../../results/pairs/RC6H5/RC6H5_R2CO_vdw.5/RC6H5_R2CO_not_mir_structures.csv')\n",
    "\n",
    "labels = [\"R, mirrored, label 2, 4, 6\", \"R, mirrored, label 1, 2, 3\", \"R, mirrored, label 1, 4, 6\",\n",
    "          \"R, not mirrored, label 2, 4, 6\", \"R, not mirrored, label 1, 2, 3\", \"R, not mirrored, label 1, 4, 6\",\n",
    "          \"Kabsch, mirrored\", \"Kabsch, not mirrored\"]\n",
    "\n",
    "dfs = [df_rot_246, df_rot_246_not_mir, df_rot_123, df_rot_123_not_mir, df_rot_146, df_rot_146_not_mir, df_kab, df_kab_not_mir]"
   ]
  },
  {
   "cell_type": "code",
   "execution_count": null,
   "metadata": {
    "scrolled": false
   },
   "outputs": [],
   "source": [
    "# use a smoothing algorithm\n",
    "for df in dfs:\n",
    "    df['rmse_smooth'] = df[\"rmse\"].rolling(window=500).mean()"
   ]
  },
  {
   "cell_type": "code",
   "execution_count": null,
   "metadata": {},
   "outputs": [],
   "source": [
    "# everything in a single figure\n",
    "plt.figure(figsize=(8,4))\n",
    "plt.title('RMSEs of different superimposition algorithms')\n",
    "\n",
    "for df, label in zip(dfs, labels):\n",
    "    plt.plot(range(0, len(df)), df.rmse, label=label)\n",
    "\n",
    "plt.legend()\n",
    "plt.xlabel(\"Structure ID\")\n",
    "plt.ylabel(\"RMSE\")\n",
    "\n",
    "plt.show()"
   ]
  },
  {
   "cell_type": "code",
   "execution_count": null,
   "metadata": {},
   "outputs": [],
   "source": [
    "# same, but now with the smoothed data\n",
    "plt.figure(figsize=(8, 6))\n",
    "plt.title('RMSEs of different superimposition algorithms')\n",
    "\n",
    "for df, label in zip(dfs, labels):\n",
    "    plt.plot(range(0, len(df)), df.rmse_smooth, label=label)\n",
    "#     plt.hlines(df.rmse.mean(), 0, len(df), label=\"mean\")\n",
    "plt.legend(loc=\"upper right\")\n",
    "\n",
    "plt.ylabel(\"RMSE Rotation\")\n",
    "plt.xlabel(\"Structure ID\")\n",
    "\n",
    "plt.show()"
   ]
  },
  {
   "cell_type": "code",
   "execution_count": null,
   "metadata": {},
   "outputs": [],
   "source": [
    "# make the figure\n",
    "fig, (ax1, ax2) = plt.subplots(1, 2, figsize=(15,4))\n",
    "# fig.tight_layout()\n",
    "fig.suptitle('RMSEs of different superimposition algorithms\\n$RC_6H_5-R_2CO$')\n",
    "\n",
    "ax1.plot(range(0, len(df_rot_123)), df_rot_123.rmse_smooth, label='R, lab1, 2, 3')\n",
    "ax1.plot(range(0, len(df_rot_123_not_mir)), df_rot_123_not_mir.rmse_smooth, label=\"R, not mirrored, lab1, 2, 3\")\n",
    "\n",
    "ax1.plot(range(0, len(df_kab)), df_kab.rmse_smooth, label='Kabsch', color='tab:red')\n",
    "ax1.plot(range(0, len(df_kab_not_mir)), df_kab_not_mir.rmse_smooth, label='Kabsch, not mirrored', color='tab:purple')\n",
    "# ax1.plot(range(0, len(df_rot_1243)), df_rot_1243.rmse_smooth, label='Rmir, lab12, 4, 3')\n",
    "# ax1.plot(range(0, len(df_kab)), df_kab.rmse_smooth, label='Kabsch', color='tab:red')\n",
    "# ax1.plot(range(0, len(df_kab_mir)), df_kab_mir.rmse_smooth, label='Kabsch mir', color='tab:purple')\n",
    "\n",
    "ax1.set_xlabel(\"Structure ID\")\n",
    "ax1.set_ylabel(\"RMSE Rotation\")\n",
    "\n",
    "ax1.legend(loc='upper right')\n",
    "\n",
    "\n",
    "ax2.plot(range(0, len(df_kab)), df_kab.rmse_smooth, label='Kabsch', color='tab:red')\n",
    "ax2.plot(range(0, len(df_kab_not_mir)), df_kab_not_mir.rmse_smooth, label='Kabsch, not mirrored', color='tab:purple')\n",
    "\n",
    "\n",
    "ax2.set_xlabel(\"Structure ID\")\n",
    "ax2.set_ylabel(\"RMSE Kabsch\")\n",
    "\n",
    "ax2.legend(loc='upper right')\n",
    "\n",
    "plt.savefig('../../results/plots/comparing_rmse_kabsch_rotation_rc6h5_r2co.svg', format='svg', bbox_inches='tight')"
   ]
  },
  {
   "cell_type": "code",
   "execution_count": null,
   "metadata": {},
   "outputs": [],
   "source": [
    "# make the figure\n",
    "fig, (ax1, ax2) = plt.subplots(1, 2, figsize=(15,4))\n",
    "# fig.tight_layout()\n",
    "fig.suptitle('RMSEs of different superimposition algorithms')\n",
    "\n",
    "\n",
    "ax1.plot(range(0, len(df_rot_146)), df_rot_146.rmse_smooth, label='R, lab1, 4, 6')\n",
    "ax1.plot(range(0, len(df_rot_146_not_mir)), df_rot_146_not_mir.rmse_smooth, label=\"R, not mirrored, lab1, 4, 6\")\n",
    "\n",
    "ax1.plot(range(0, len(df_kab)), df_kab.rmse_smooth, label='Kabsch', color='tab:red')\n",
    "ax1.plot(range(0, len(df_kab_not_mir)), df_kab_not_mir.rmse_smooth, label='Kabsch, not mirrored', color='tab:purple')\n",
    "\n",
    "ax1.set_xlabel(\"Structure ID\")\n",
    "ax1.set_ylabel(\"RMSE Rotation\")\n",
    "\n",
    "ax1.legend(loc='upper right')\n",
    "\n",
    "\n",
    "ax2.plot(range(0, len(df_kab)), df_kab.rmse_smooth, label='Kabsch', color='tab:red')\n",
    "ax2.plot(range(0, len(df_kab_not_mir)), df_kab_not_mir.rmse_smooth, label='Kabsch, not mirrored', color='tab:purple')\n",
    "\n",
    "\n",
    "ax2.set_xlabel(\"Structure ID\")\n",
    "ax2.set_ylabel(\"RMSE Kabsch\")\n",
    "\n",
    "ax2.legend(loc='upper right')\n",
    "\n",
    "\n",
    "\n",
    "# plt.savefig('../../results/figures/comparing_rmse.svg', format='svg', bbox_inches='tight')"
   ]
  },
  {
   "cell_type": "code",
   "execution_count": null,
   "metadata": {},
   "outputs": [],
   "source": [
    "# make the figure\n",
    "plt.figure(figsize=(8,4))\n",
    "# fig.tight_layout()\n",
    "plt.title('RMSEs difference with different labels\\n$RC_6H_5-R_2CO$')\n",
    "\n",
    "plt.plot(range(0, len(df_rot_123)), df_rot_123.rmse_smooth, label='R, lab 1, 2, 3')\n",
    "plt.plot(range(0, len(df_rot_146)), df_rot_146.rmse_smooth, label='R, lab 1, 4, 6')\n",
    "plt.plot(range(0, len(df_rot_246)), df_rot_246.rmse_smooth, label='R, lab 2, 4, 6')\n",
    "plt.plot(range(0, len(df_kab)), df_kab.rmse_smooth, label='Kabsch', color='tab:red')\n",
    "\n",
    "plt.xlabel(\"Structure ID\")\n",
    "plt.ylabel(\"RMSE Rotation\")\n",
    "\n",
    "plt.legend(loc='upper right')\n",
    "\n",
    "plt.savefig('../../results/plots/comparing_rmse_different_labels_rc6h5.svg', format='svg', bbox_inches='tight')"
   ]
  },
  {
   "cell_type": "markdown",
   "metadata": {},
   "source": [
    "# Check if the same happens for H2O"
   ]
  },
  {
   "cell_type": "code",
   "execution_count": null,
   "metadata": {},
   "outputs": [],
   "source": [
    "df_kab_water = pd.read_csv('../../results/pairs/H2O/H2O_R2CO_vdw.5/H2O_R2CO_structures.csv')\n",
    "df_rot_water = pd.read_csv('../../results/pairs/H2O/H2O_R2CO_vdw.5/H2O_R2CO_rot_structures.csv')\n",
    "\n",
    "df_kab_water['rmse_smooth'] = df_kab_water[\"rmse\"].rolling(window=500).mean()\n",
    "df_rot_water['rmse_smooth'] = df_rot_water[\"rmse\"].rolling(window=500).mean()"
   ]
  },
  {
   "cell_type": "code",
   "execution_count": null,
   "metadata": {},
   "outputs": [],
   "source": [
    "plt.figure(figsize=(8, 4))\n",
    "plt.plot(range(0, len(df_rot_water)), df_rot_water.rmse_smooth, label=\"Rotation\")\n",
    "plt.plot(range(0, len(df_rot_water)), df_kab_water.rmse_smooth, label=\"Kabsch\")\n",
    "\n",
    "plt.xlabel(\"Structure ID\")\n",
    "plt.ylabel(\"RMSE\")\n",
    "plt.title(\"RMSE Rotation vs RMSE Kabsch\\n$H_2O-R_2CO$\")\n",
    "plt.legend(loc=\"upper right\")\n",
    "\n",
    "plt.savefig(\"../../results/plots/comparing_rmse_kabsch_rotation_h2o.svg\", format='svg', bbox_inches='tight')\n"
   ]
  },
  {
   "cell_type": "markdown",
   "metadata": {},
   "source": [
    "# Does a methyl group ruin the alignment?\n"
   ]
  },
  {
   "cell_type": "code",
   "execution_count": null,
   "metadata": {},
   "outputs": [],
   "source": [
    "df_kab_rcome = pd.read_csv('../../results/pairs/RCOMe/RCOMe_R2CO_vdw.5/RCOMe_R2CO_structures.csv')\n",
    "df_kab_rcome_with_methyl = pd.read_csv('../../results/pairs/RCOMe/RCOMe_R2CO_vdw.5/RCOMe_R2CO_with_ch3_structures.csv')\n",
    "df_kab_rmse_without_methyl = pd.read_csv('../../results/pairs/RCOMe/RCOMe_R2CO_vdw.5/RCOMe_R2CO_with_ch3_rmse_without_structures.csv')\n",
    "df_kab_withouth_methyl_rmse_with = pd.read_csv('../../results/pairs/RCOMe/RCOMe_R2CO_vdw.5/RCOMe_R2CO_without_ch3_rmse_with_structures.csv')\n",
    "\n",
    "df_kab_rcome['rmse_smooth'] = df_kab_rcome[\"rmse\"].rolling(window=500).mean()\n",
    "df_kab_rcome_with_methyl['rmse_smooth'] = df_kab_rcome_with_methyl[\"rmse\"].rolling(window=500).mean()\n",
    "df_kab_rmse_without_methyl['rmse_smooth'] = df_kab_rmse_without_methyl[\"rmse\"].rolling(window=500).mean()\n",
    "df_kab_withouth_methyl_rmse_with['rmse_smooth'] = df_kab_withouth_methyl_rmse_with[\"rmse\"].rolling(window=500).mean()"
   ]
  },
  {
   "cell_type": "code",
   "execution_count": null,
   "metadata": {},
   "outputs": [],
   "source": [
    "plt.figure(figsize=(8, 4))\n",
    "plt.plot(range(0, len(df_kab_rcome_with_methyl)), df_kab_rcome_with_methyl.rmse_smooth, label=\"With Methyl, RMSE with\")\n",
    "plt.plot(range(0, len(df_kab_rmse_without_methyl)), df_kab_rmse_without_methyl.rmse_smooth, label=\"With Methyl, RMSE without\")\n",
    "\n",
    "plt.plot(range(0, len(df_kab_withouth_methyl_rmse_with)), df_kab_withouth_methyl_rmse_with.rmse_smooth, label=\"Without Methyl, RMSE with\")\n",
    "plt.plot(range(0, len(df_kab_rcome)), df_kab_rcome.rmse_smooth, label=\"Without Methyl, RMSE without\")\n",
    "\n",
    "plt.xlabel(\"Structure ID\")\n",
    "plt.ylabel(\"RMSE\")\n",
    "plt.title(\"RMSE's with and without methyl group\\n$RCOMe-R_2CO$\")\n",
    "plt.legend(loc=\"upper right\")\n",
    "\n",
    "plt.savefig(\"../../results/plots/comparing_rmse_kabsch_rcome_methyl.svg\", format='svg', bbox_inches='tight')\n"
   ]
  },
  {
   "cell_type": "code",
   "execution_count": null,
   "metadata": {},
   "outputs": [],
   "source": [
    "df_kab_rcome_not_mirrored = pd.read_csv('../../results/pairs/RCOMe/RCOMe_R2CO_vdw.5/RCOMe_R2CO_without_ch3_structures_not_mirrored.csv')\n",
    "df_kab_rcome_with_methyl_not_mirrored = pd.read_csv('../../results/pairs/RCOMe/RCOMe_R2CO_vdw.5/RCOMe_R2CO_without_ch3_rmse_with_structures_not_mirrored.csv')\n",
    "\n",
    "df_kab_rcome_not_mirrored['rmse_smooth'] = df_kab_rcome_not_mirrored[\"rmse\"].rolling(window=500).mean()\n",
    "df_kab_rcome_with_methyl_not_mirrored['rmse_smooth'] = df_kab_rcome_with_methyl_not_mirrored[\"rmse\"].rolling(window=500).mean()"
   ]
  },
  {
   "cell_type": "code",
   "execution_count": null,
   "metadata": {},
   "outputs": [],
   "source": [
    "plt.figure(figsize=(10,3))\n",
    "plt.plot(range(0, len(df_kab_rcome_with_methyl)), df_kab_rcome_with_methyl.rmse_smooth, label=\"With Methyl, RMSE with\")\n",
    "plt.plot(range(0, len(df_kab_rmse_without_methyl)), df_kab_rcome_with_methyl_not_mirrored.rmse_smooth, label=\"With methyl, RMSE with, not mirrored\")\n",
    "plt.plot(range(0, len(df_kab_rmse_without_methyl)), df_kab_rmse_without_methyl.rmse_smooth, label=\"With Methyl, RMSE without\")\n",
    "\n",
    "plt.plot(range(0, len(df_kab_rcome)), df_kab_rcome.rmse_smooth, label=\"Without Methyl, RMSE without\")\n",
    "plt.plot(range(0, len(df_kab_rcome_with_methyl)), df_kab_rcome_not_mirrored.rmse_smooth, label=\"Without methyl, RMSE without, not mirrored\")\n",
    "plt.plot(range(0, len(df_kab_withouth_methyl_rmse_with)), df_kab_withouth_methyl_rmse_with.rmse_smooth, label=\"Without Methyl, RMSE with\")\n",
    "\n",
    "plt.xlabel(\"Structure ID\")\n",
    "plt.ylabel(\"RMSE\")\n",
    "plt.title(\"RMSE's with and without methyl group\\n$RCOMe-R_2CO$\")\n",
    "plt.legend(loc='upper right')\n",
    "plt.savefig('../../results/figures/rmse_kabsch_methyl_mirror.svg', format='svg', bbox_inches='tight')"
   ]
  },
  {
   "cell_type": "code",
   "execution_count": null,
   "metadata": {},
   "outputs": [],
   "source": []
  }
 ],
 "metadata": {
  "kernelspec": {
   "display_name": "Python 3",
   "language": "python",
   "name": "python3"
  },
  "language_info": {
   "codemirror_mode": {
    "name": "ipython",
    "version": 3
   },
   "file_extension": ".py",
   "mimetype": "text/x-python",
   "name": "python",
   "nbconvert_exporter": "python",
   "pygments_lexer": "ipython3",
   "version": "3.7.8"
  }
 },
 "nbformat": 4,
 "nbformat_minor": 4
}
