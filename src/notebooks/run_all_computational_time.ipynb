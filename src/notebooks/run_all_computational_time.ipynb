{
 "cells": [
  {
   "cell_type": "markdown",
   "metadata": {},
   "source": [
    "# Time al steps\n",
    "In this notebook, you can run all calculations and time how long the steps take."
   ]
  },
  {
   "cell_type": "code",
   "execution_count": null,
   "metadata": {},
   "outputs": [],
   "source": [
    "# to show matplotlib plots in-line\n",
    "%matplotlib notebook\n",
    "\n",
    "# allows for automatic reloading of imports and makes it unncessecary to restart the kernel\n",
    "# whenever a function is changed\n",
    "%load_ext autoreload\n",
    "%autoreload 2\n",
    "\n",
    "import os\n",
    "import time\n",
    "import numpy as np\n",
    "import csv\n",
    "import pandas as pd\n",
    "\n",
    "from tqdm import tqdm\n",
    "\n",
    "import matplotlib\n",
    "import matplotlib.pyplot as plt\n",
    "from mpl_toolkits.mplot3d import Axes3D\n",
    "\n",
    "import sys\n",
    "\n",
    "# to be able to import scripts from scripts folder even though it's not a child repository\n",
    "sys.path.append('..//scripts//')\n",
    "\n",
    "from constants.paths import WORKDIR\n",
    "\n",
    "from classes.Settings import Settings, AlignmentSettings\n",
    "from classes.Radii import Radii\n",
    "\n",
    "from helpers.alignment_helpers import (calc_rmse, kabsch_align, perform_rotations,\n",
    "                                       perform_translation, read_raw_data)\n",
    "\n",
    "from align_kabsch import align_all_fragments, split_file_if_too_big\n",
    "from calc_avg_fragment import calc_avg_frag\n",
    "from helpers.geometry_helpers import make_coordinate_df, average_fragment\n",
    "from helpers.density_helpers import prepare_df, make_density_df"
   ]
  },
  {
   "cell_type": "code",
   "execution_count": null,
   "metadata": {},
   "outputs": [],
   "source": [
    "# define contact groups and resolutions\n",
    "central_groups = [\"REt\", \"RCOMe\"] # \"ArCI\", \"RNO2\", \"NO3\", \"RC6F5\", \"RC6H5\", \"H2O\"\n",
    "contact_groups = [\"CF\", \"RCN\", \"R2CO\", \"XH\", \"XH\", \"CCH3\", \"C2CH2\", \"RC6H5\", \"ArCH\"]\n",
    "contact_rps =    [\"F\",   \"N\",    \"O\",   \"H\", \"O\",  \"H\",     \"H\", \"centroid\", \"H\"] \n",
    "\n",
    "resolutions = np.arange(0.1, 1.55, 0.05)\n",
    "# resolutions = [0.2, 0.5]"
   ]
  },
  {
   "cell_type": "markdown",
   "metadata": {},
   "source": [
    "# Count the structures"
   ]
  },
  {
   "cell_type": "code",
   "execution_count": null,
   "metadata": {
    "scrolled": true
   },
   "outputs": [],
   "source": [
    "count = False\n",
    "counts = []\n",
    "\n",
    "if count:\n",
    "    with open('../../results/amounts_structures.csv', 'w', newline='') as resultsfile:\n",
    "        writer = csv.writer(resultsfile)\n",
    "        writer.writerow(['central', 'contact', 'amount_cif', 'amount_structures'])\n",
    "        \n",
    "        for central_group in central_groups:\n",
    "\n",
    "            for contact_rp, contact_group in zip(contact_rps, contact_groups):\n",
    "                datafile = \"..\\\\data\\\\\" + central_group + \"\\\\\" + central_group + \"_\" + contact_group + \"_vdw.5.cor\"\n",
    "\n",
    "                ids = []\n",
    "\n",
    "                with open(datafile, 'r') as resultsFile:\n",
    "                    line = \"hoi\"\n",
    "                    while line:\n",
    "                        line = resultsFile.readline()\n",
    "                        if \"**\" in line:\n",
    "                            ids.append(line.split(\"**\")[0])\n",
    "\n",
    "                    print(central_group, contact_group, len(ids), len(set(ids)))\n",
    "                    counts.append(len(ids))\n",
    "\n",
    "                    writer.writerow([central_group, contact_group, len(ids), len(set(ids))])"
   ]
  },
  {
   "cell_type": "markdown",
   "metadata": {},
   "source": [
    "# Align, AVG fragment"
   ]
  },
  {
   "cell_type": "code",
   "execution_count": null,
   "metadata": {
    "scrolled": true
   },
   "outputs": [],
   "source": [
    "run_everything_again = True\n",
    "write_times = True\n",
    "\n",
    "if run_everything_again:\n",
    "    if write_times:\n",
    "        with open('../../results/pre_density_comptimes.csv', 'a', newline='') as resultsfile:\n",
    "            writer = csv.writer(resultsfile)\n",
    "            writer.writerow(['central', 'contact', 'contact_rp', 'prep_data', 'alignment', 'avg_frag', 'coordinate_df'])\n",
    "\n",
    "    for central_group in central_groups:\n",
    "        for contact_rp, contact_group in zip(contact_rps, contact_groups):\n",
    "\n",
    "            print(central_group, contact_group, contact_rp)\n",
    "\n",
    "            datafile = \"..\\\\data\\\\\" + central_group + \"\\\\\" + central_group + \"_\" + contact_group + \"_vdw.5.cor\"\n",
    "            result1 = \"..\\\\..\\\\results\\\\pairs\\\\\" + central_group + \"\\\\\" + central_group + \"_\" + contact_group + \"_vdw.5\\\\\"\\\n",
    "                      + central_group + \"_\" + contact_group + \"_aligned.csv\" \n",
    "\n",
    "            if not os.path.exists(f\"..\\\\..\\\\results\\\\pairs\\\\{central_group}\"):\n",
    "                os.mkdir(f\"..\\\\..\\\\results\\\\pairs\\\\{central_group}\\\\\")\n",
    "\n",
    "            labelfile = datafile.rsplit('.', 1)[0] + '.csv'\n",
    "            \n",
    "            t0_prep = time.time()\n",
    "            settings = AlignmentSettings(\"..\\\\..\", datafile)\n",
    "            settings.set_contact_reference_point(contact_rp)\n",
    "            settings.prepare_alignment()\n",
    "\n",
    "            split_file_if_too_big(settings.coordinate_file, settings.no_atoms)\n",
    "            settings.update_coordinate_filename()\n",
    "            prep_time = time.time() - t0_prep\n",
    "\n",
    "            # alignment\n",
    "            t0_alignment = time.time()\n",
    "            aligned_fragments_df = align_all_fragments(settings, again=True)\n",
    "            alignment_time = time.time() - t0_alignment            \n",
    "                        \n",
    "            # average fragment\n",
    "            t0_avg_frag = time.time()\n",
    "\n",
    "            avg_frag = calc_avg_frag(aligned_fragments_df, settings, radii)                           \n",
    "            avg_frag.to_csv(settings.get_avg_frag_filename(), index=False)          \n",
    "            avg_frag_time = time.time() - t0_avg_frag\n",
    "            \n",
    "            radii = Radii(settings.get_radii_csv_name())\n",
    "            # coordinate df\n",
    "            t0_coordinate = time.time()\n",
    "            coordinate_df = make_coordinate_df(aligned_fragments_df, settings, avg_frag, radii)\n",
    "            coordinate_time = time.time() - t0_coordinate\n",
    "\n",
    "            with open('../../results/align_avg_frag.csv', 'a', newline='') as resultsfile:\n",
    "                writer = csv.writer(resultsfile)\n",
    "                writer.writerow([central_group, contact_group, contact_rp, prep_time, alignment_time, avg_frag_time, coordinate_time])\n",
    "                \n",
    "            print('\\n')"
   ]
  },
  {
   "cell_type": "markdown",
   "metadata": {},
   "source": [
    "# Calc Densities"
   ]
  },
  {
   "cell_type": "code",
   "execution_count": null,
   "metadata": {
    "scrolled": true
   },
   "outputs": [],
   "source": [
    "rerun = True\n",
    "write_time = True\n",
    "\n",
    "if rerun:\n",
    "    with open('../../results/density_comptimes.csv', 'a', newline='') as resultsfile:\n",
    "        if write_time:\n",
    "            writer = csv.writer(resultsfile)\n",
    "            writer.writerow(['central', 'contact', 'contact_rp', 'resolution', 'density_time'])\n",
    "\n",
    "        for central_group in central_groups:\n",
    "            for contact_rp, contact_group in zip(contact_rps, contact_groups):\n",
    "                datafile = \".\\\\data\\\\\" + central_group + \"\\\\\" + central_group + \"_\" + contact_group + \"_vdw.5.cor\"\n",
    "                result1 = \"..\\\\..\\\\results\\\\pairs\\\\\" + central_group + \"\\\\\" + central_group + \"_\" + contact_group + \"_vdw.5\\\\\"\\\n",
    "                          + central_group + \"_\" + contact_group + \"_aligned.csv\"\n",
    "                result2 = \"..\\\\..\\\\results\\\\pairs\\\\\" + central_group + \"\\\\\" + central_group + \"_\" + contact_group + \"_vdw.5\\\\\"\\\n",
    "                          + central_group + \"_\" + contact_group + \"_avg_fragment.csv\"\n",
    "                result3 = \"..\\\\..\\\\results\\\\pairs\\\\\" + central_group + \"\\\\\" + central_group + \"_\" + contact_group + \"_vdw.5\\\\\"\\\n",
    "                          + central_group + \"_\" + contact_group + \"_coordinates_contact.hdf\"\n",
    "                \n",
    "                settings = Settings(WORKDIR, datafile)\n",
    "                settings.set_contact_reference_point(contact_rp)\n",
    "                \n",
    "                df = pd.read_csv(result1)\n",
    "                avg_frag = pd.read_csv(result2)\n",
    "                coordinate_df = pd.read_hdf(result3, settings.get_coordinate_df_key())\n",
    "\n",
    "                for resolution in resolutions:\n",
    "                    print(\"\\nCalculating density for central group: \", central_group, \" contact group: \", contact_group, \"(\", contact_rp, \")\",\n",
    "                          \"resolution: \", str(round(resolution, 2)))\n",
    "\n",
    "                    # resolution of the bins, in Angstrom\n",
    "                    settings.set_resolution(round(resolution, 2))\n",
    "                                        \n",
    "                    t0_density = time.time()\n",
    "                    make_density_df(settings, coordinate_df)    \n",
    "                    density_time = time.time() - t0_density\n",
    "                    \n",
    "                    print(f\"Duration density: {density_time}\", end=\"\\n\\n\")      \n",
    "\n",
    "                    if write_time:\n",
    "                        writer.writerow([central_group, contact_group, contact_rp, round(resolution, 2), density_time])"
   ]
  },
  {
   "cell_type": "markdown",
   "metadata": {},
   "source": [
    "# Analyzing data"
   ]
  },
  {
   "cell_type": "code",
   "execution_count": null,
   "metadata": {
    "scrolled": true
   },
   "outputs": [],
   "source": [
    "df_pre = pd.read_csv('../../results/pre_density_comptimes.csv')\n",
    "df = pd.read_csv('../../results/density_comptimes.csv')\n",
    "df_count = pd.read_csv('../../results/amounts_structures.csv')"
   ]
  },
  {
   "cell_type": "markdown",
   "metadata": {},
   "source": [
    "## merge with density comp times"
   ]
  },
  {
   "cell_type": "code",
   "execution_count": null,
   "metadata": {
    "scrolled": false
   },
   "outputs": [],
   "source": [
    "for central_group in central_groups:\n",
    "    print(central_group)\n",
    "    bars1 = df[df.central == central_group]['alignment']\n",
    "    bars2 = df[df.central == central_group]['avg_fragment']\n",
    "    bars3 = df[df.central == central_group]['coordinate_df']\n",
    "        \n",
    "    bar_width = 0.25  # the width of the bars\n",
    "    r1 = np.arange(len(bars1))\n",
    "    r2 = [x + bar_width for x in r1]\n",
    "    r3 = [x + bar_width for x in r2]\n",
    "\n",
    "    # make that plot\n",
    "    fig, ax = plt.subplots()\n",
    "    rects1 = ax.bar(r1, bars1, bar_width, label='Alignment')\n",
    "    rects2 = ax.bar(r2, bars2, bar_width, label='avg_fragment')\n",
    "    rects3 = ax.bar(r3, bars3, bar_width, label='coordinate_df')\n",
    "\n",
    "    ax.set_xticks([r + bar_width for r in range(len(bars1))])\n",
    "    ax.set_xticklabels(df[df.central == central_group]['contact'])\n",
    "    \n",
    "    plt.title('Prep comp times ' + central_group)\n",
    "    \n",
    "    plt.legend()\n",
    "    \n",
    "    plt.savefig(\"results/figures/Prep_times_\" + central_group + \".svg\", format=\"svg\")\n",
    "    plt.show()"
   ]
  },
  {
   "cell_type": "code",
   "execution_count": null,
   "metadata": {},
   "outputs": [],
   "source": [
    "# sort df\n",
    "df[\"total\"] = df[\"alignment\"] + df[\"avg_fragment\"] + df[\"coordinate_df\"]\n",
    "df = df.sort_values(\"total\", ascending=False)\n",
    "\n",
    "df.to_hdf('ready_pre_density_comp.hdf', 'key')"
   ]
  },
  {
   "cell_type": "code",
   "execution_count": null,
   "metadata": {
    "scrolled": false
   },
   "outputs": [],
   "source": [
    "i = 0\n",
    "r1 = []\n",
    "xtick_labels = []\n",
    "\n",
    "fig, ax = plt.subplots(figsize=(9,5))\n",
    "    \n",
    "for _, row in df.iterrows():\n",
    "    bars1 = row['alignment']\n",
    "    bars2 = row['avg_fragment']\n",
    "    bars3 = row['coordinate_df']\n",
    "        \n",
    "    bar_width = 0.5  # the width of the bars\n",
    "    r1.append(i)\n",
    "\n",
    "    # make that plot\n",
    "    rects1 = plt.bar(i, bars1, bar_width, color=\"tab:blue\")\n",
    "    rects2 = plt.bar(i, bars2, bar_width, bottom=bars1, color=\"tab:orange\")\n",
    "    rects3 = plt.bar(i, bars3, bar_width, bottom=bars1+bars2, color=\"tab:green\")\n",
    "\n",
    "    xtick_labels.append(row[\"central\"] + \"-\" + row['contact'])\n",
    "    i+=1\n",
    "\n",
    "\n",
    "    \n",
    "plt.xticks(r1, xtick_labels, rotation=90)\n",
    "\n",
    "plt.title('Prep comp times')\n",
    "plt.subplots_adjust(bottom=0.3)\n",
    "\n",
    "ax.set_xlabel(\"Pair\")\n",
    "ax.set_ylabel(\"Computational time (s)\")\n",
    "\n",
    "ax2 = ax.twinx()\n",
    "ax2.set_ylabel(\"Amount\")\n",
    "\n",
    "line = ax2.plot(range(len(df)), df[\"amount_structures\"], color=\"red\", label=\"no unique fragments\")\n",
    "\n",
    "plt.legend((rects1[0], rects2[0], rects3[0], line[0]), ('alignment', 'avg_fragment', 'coordinate_df', 'No. fragments'))\n",
    "\n",
    "plt.savefig(\"results/figures/Prep_times_total.svg\", format=\"svg\")\n",
    "\n",
    "plt.show()"
   ]
  },
  {
   "cell_type": "code",
   "execution_count": null,
   "metadata": {},
   "outputs": [],
   "source": []
  }
 ],
 "metadata": {
  "kernelspec": {
   "display_name": "Python 3",
   "language": "python",
   "name": "python3"
  },
  "language_info": {
   "codemirror_mode": {
    "name": "ipython",
    "version": 3
   },
   "file_extension": ".py",
   "mimetype": "text/x-python",
   "name": "python",
   "nbconvert_exporter": "python",
   "pygments_lexer": "ipython3",
   "version": "3.7.8"
  }
 },
 "nbformat": 4,
 "nbformat_minor": 4
}
